{
 "cells": [
  {
   "cell_type": "code",
   "execution_count": 1,
   "metadata": {
    "ExecuteTime": {
     "end_time": "2023-05-17T22:01:03.280324Z",
     "start_time": "2023-05-17T22:01:03.251284Z"
    },
    "collapsed": false
   },
   "outputs": [],
   "source": [
    "%load_ext autoreload\n",
    "%autoreload 2"
   ]
  },
  {
   "cell_type": "code",
   "execution_count": 2,
   "metadata": {
    "ExecuteTime": {
     "end_time": "2023-05-17T22:01:13.763919Z",
     "start_time": "2023-05-17T22:01:03.281297Z"
    },
    "collapsed": false
   },
   "outputs": [],
   "source": [
    "import json\n",
    "\n",
    "import alphagogoat as ag\n",
    "import alphagogoat.utils\n",
    "import re"
   ]
  },
  {
   "cell_type": "code",
   "execution_count": 3,
   "metadata": {
    "ExecuteTime": {
     "end_time": "2023-05-17T22:01:14.627243Z",
     "start_time": "2023-05-17T22:01:13.760302Z"
    },
    "collapsed": false
   },
   "outputs": [
    {
     "ename": "AttributeError",
     "evalue": "module 'alphagogoat.utils' has no attribute 'make_battle'",
     "output_type": "error",
     "traceback": [
      "\u001b[0;31m---------------------------------------------------------------------------\u001b[0m",
      "\u001b[0;31mAttributeError\u001b[0m                            Traceback (most recent call last)",
      "Cell \u001b[0;32mIn[3], line 1\u001b[0m\n\u001b[0;32m----> 1\u001b[0m a \u001b[38;5;241m=\u001b[39m \u001b[43mag\u001b[49m\u001b[38;5;241;43m.\u001b[39;49m\u001b[43mutils\u001b[49m\u001b[38;5;241;43m.\u001b[39;49m\u001b[43mmake_battle\u001b[49m(\u001b[38;5;124m\"\u001b[39m\u001b[38;5;124m./history/historical_battle.json\u001b[39m\u001b[38;5;124m\"\u001b[39m, \u001b[38;5;124m\"\u001b[39m\u001b[38;5;124m./history/historical_teams.json\u001b[39m\u001b[38;5;124m\"\u001b[39m)\n\u001b[1;32m      2\u001b[0m \u001b[38;5;28mlen\u001b[39m(a)\n\u001b[1;32m      3\u001b[0m a\n",
      "\u001b[0;31mAttributeError\u001b[0m: module 'alphagogoat.utils' has no attribute 'make_battle'"
     ]
    }
   ],
   "source": [
    "a = ag.utils.make_battle(\"./history/historical_battle.json\", \"./history/historical_teams.json\")\n",
    "len(a)\n",
    "a"
   ]
  },
  {
   "cell_type": "code",
   "execution_count": 3,
   "metadata": {},
   "outputs": [
    {
     "data": {
      "text/plain": [
       "{'id': 'gen9randombattle-1853849625',\n",
       " 'p1': 'Savulski.',\n",
       " 'p2': 'flyingworkshop',\n",
       " 'format': '[Gen 9] Random Battle',\n",
       " 'log': \"|j|☆Savulski.\\n|j|☆flyingworkshop\\n|t:|1682726952\\n|gametype|singles\\n|player|p1|Savulski.|steven|1027\\n|player|p2|flyingworkshop|169|1037\\n|teamsize|p1|6\\n|teamsize|p2|6\\n|gen|9\\n|tier|[Gen 9] Random Battle\\n|rated|\\n|rule|Species Clause: Limit one of each Pokémon\\n|rule|HP Percentage Mod: HP is shown in percentages\\n|rule|Sleep Clause Mod: Limit one foe put to sleep\\n|\\n|t:|1682726953\\n|start\\n|switch|p1a: Sudowoodo|Sudowoodo, L91, M|275/275\\n|switch|p2a: Bellibolt|Bellibolt, L85, M|324/324\\n|turn|1\\n|inactive|Battle timer is ON: inactive players will automatically lose when time's up. (requested by flyingworkshop)\\n|\\n|t:|1682726970\\n|move|p2a: Bellibolt|Muddy Water|p1a: Sudowoodo\\n|-supereffective|p1a: Sudowoodo\\n|-damage|p1a: Sudowoodo|103/275\\n|move|p1a: Sudowoodo|Stealth Rock|p2a: Bellibolt\\n|-sidestart|p2: flyingworkshop|move: Stealth Rock\\n|\\n|-heal|p1a: Sudowoodo|120/275|[from] item: Leftovers\\n|upkeep\\n|turn|2\\n|\\n|t:|1682726978\\n|move|p2a: Bellibolt|Muddy Water|p1a: Sudowoodo\\n|-supereffective|p1a: Sudowoodo\\n|-damage|p1a: Sudowoodo|0 fnt\\n|faint|p1a: Sudowoodo\\n|\\n|upkeep\\n|\\n|t:|1682726988\\n|switch|p1a: Tauros|Tauros, L84, M|263/263\\n|-ability|p1a: Tauros|Intimidate|boost\\n|-unboost|p2a: Bellibolt|atk|1\\n|turn|3\\n|\\n|t:|1682727015\\n|move|p1a: Tauros|Earthquake|p2a: Bellibolt\\n|-supereffective|p2a: Bellibolt\\n|-damage|p2a: Bellibolt|126/324\\n|-start|p2a: Bellibolt|Charge|Earthquake|[from] ability: Electromorphosis\\n|move|p2a: Bellibolt|Thunder Wave|p1a: Tauros\\n|-status|p1a: Tauros|par\\n|-end|p2a: Bellibolt|Charge|[silent]\\n|\\n|-heal|p2a: Bellibolt|146/324|[from] item: Leftovers\\n|upkeep\\n|turn|4\\n|\\n|t:|1682727025\\n|switch|p2a: Braviary|Braviary-Hisui, L84, M|322/322\\n|-damage|p2a: Braviary|242/322|[from] Stealth Rock\\n|cant|p1a: Tauros|par\\n|\\n|upkeep\\n|turn|5\\n|\\n|t:|1682727040\\n|move|p2a: Braviary|Psychic|p1a: Tauros\\n|-damage|p1a: Tauros|39/263 par\\n|move|p1a: Tauros|Earthquake|p2a: Braviary\\n|-immune|p2a: Braviary\\n|\\n|upkeep\\n|turn|6\\n|\\n|t:|1682727046\\n|move|p2a: Braviary|Psychic|p1a: Tauros\\n|-damage|p1a: Tauros|0 fnt\\n|faint|p1a: Tauros\\n|\\n|upkeep\\n|\\n|t:|1682727051\\n|switch|p1a: Koraidon|Koraidon, L66|242/242\\n|-weather|SunnyDay|[from] ability: Orichalcum Pulse|[of] p1a: Koraidon\\n|-activate|p1a: Koraidon|Orichalcum Pulse|[source]\\n|turn|7\\n|\\n|t:|1682727066\\n|-terastallize|p1a: Koraidon|Fire\\n|move|p1a: Koraidon|Flare Blitz|p2a: Braviary\\n|-damage|p2a: Braviary|0 fnt\\n|faint|p2a: Braviary\\n|-damage|p1a: Koraidon|162/242|[from] Recoil\\n|\\n|-weather|SunnyDay|[upkeep]\\n|upkeep\\n|\\n|t:|1682727077\\n|switch|p2a: Wugtrio|Wugtrio, L90, M|209/209\\n|-damage|p2a: Wugtrio|183/209|[from] Stealth Rock\\n|turn|8\\n|\\n|t:|1682727085\\n|switch|p1a: Goodra|Goodra, L86, M|295/295\\n|move|p2a: Wugtrio|Liquidation|p1a: Goodra\\n|-resisted|p1a: Goodra\\n|-damage|p1a: Goodra|249/295\\n|\\n|-weather|SunnyDay|[upkeep]\\n|upkeep\\n|turn|9\\n|\\n|t:|1682727094\\n|switch|p2a: Zacian|Zacian-Crowned, L65|228/228\\n|-damage|p2a: Zacian|214/228|[from] Stealth Rock\\n|-ability|p2a: Zacian|Intrepid Sword|boost\\n|-boost|p2a: Zacian|atk|1\\n|move|p1a: Goodra|Power Whip|p2a: Zacian\\n|-resisted|p2a: Zacian\\n|-damage|p2a: Zacian|165/228\\n|\\n|-weather|SunnyDay|[upkeep]\\n|upkeep\\n|turn|10\\n|\\n|t:|1682727106\\n|move|p2a: Zacian|Play Rough|p1a: Goodra\\n|-supereffective|p1a: Goodra\\n|-damage|p1a: Goodra|0 fnt\\n|faint|p1a: Goodra\\n|\\n|-weather|SunnyDay|[upkeep]\\n|upkeep\\n|\\n|t:|1682727112\\n|switch|p1a: Lucario|Lucario, L84, F|255/255\\n|turn|11\\n|\\n|t:|1682727118\\n|move|p1a: Lucario|Vacuum Wave|p2a: Zacian\\n|-damage|p2a: Zacian|103/228\\n|-damage|p1a: Lucario|230/255|[from] item: Life Orb\\n|move|p2a: Zacian|Close Combat|p1a: Lucario\\n|-supereffective|p1a: Lucario\\n|-damage|p1a: Lucario|0 fnt\\n|-unboost|p2a: Zacian|def|1\\n|-unboost|p2a: Zacian|spd|1\\n|faint|p1a: Lucario\\n|\\n|-weather|none\\n|upkeep\\n|-message|Savulski. forfeited.\\n|\\n|win|flyingworkshop\\n|raw|Savulski.'s rating: 1027 &rarr; <strong>1013</strong><br />(-14 for losing)\\n|raw|flyingworkshop's rating: 1037 &rarr; <strong>1070</strong><br />(+33 for winning)\\n|l|☆Savulski.\\n\",\n",
       " 'inputlog': '>version 11aa08f14d0be3c94e9974100bf22ca03189d1b0\\n>start {\"formatid\":\"gen9randombattle\",\"seed\":[23347,52119,53248,51954],\"rated\":\"Rated battle\"}\\n>player p1 {\"name\":\"Savulski.\",\"avatar\":\"steven\",\"rating\":1027,\"seed\":[63966,576,44559,57443]}\\n>player p2 {\"name\":\"flyingworkshop\",\"avatar\":\"169\",\"rating\":1037,\"seed\":[39989,60288,53376,59523]}\\n>p1 move stealthrock\\n>p2 move muddywater\\n>p1 move headsmash\\n>p2 move muddywater\\n>p1 switch 5\\n>p1 move earthquake\\n>p2 move thunderwave\\n>p1 move earthquake\\n>p2 switch 4\\n>p1 move earthquake\\n>p2 move psychic\\n>p1 move earthquake\\n>p2 move psychic\\n>p1 switch 3\\n>p1 move flareblitz terastallize\\n>p2 move psychic\\n>p2 switch 6\\n>p1 switch 6\\n>p2 move liquidation\\n>p1 move powerwhip\\n>p2 switch 3\\n>p1 move sludgebomb\\n>p2 move playrough\\n>p1 switch 4\\n>p1 move vacuumwave\\n>p2 move closecombat\\n>forcelose p1',\n",
       " 'uploadtime': 1682727138,\n",
       " 'views': 1,\n",
       " 'p1id': 'savulski',\n",
       " 'p2id': 'flyingworkshop',\n",
       " 'formatid': 'gen9randombattle',\n",
       " 'rating': 1013,\n",
       " 'private': 1,\n",
       " 'password': 'osw1xyiaehn5ekmbxcah8xa9mgr503k'}"
      ]
     },
     "execution_count": 3,
     "metadata": {},
     "output_type": "execute_result"
    }
   ],
   "source": [
    "from poke_env.player_configuration import PlayerConfiguration\n",
    "from poke_env.environment.battle import Battle\n",
    "\n",
    "with open(\"./history/historical_battle.json\") as f:\n",
    "    battle_data = json.load(f)\n",
    "\n",
    "#battle_data\n",
    "\n",
    "battle_data"
   ]
  },
  {
   "cell_type": "code",
   "execution_count": 4,
   "metadata": {},
   "outputs": [],
   "source": [
    "pattern = r'\\[Gen ([89])\\]'\n",
    "gen = int(re.findall(pattern, battle_data['format'])[0])\n",
    "#print(int(matches[0]))\n",
    "\n",
    "MESSAGES_TO_IGNORE = {\"\", \"t:\", \"expire\"}\n",
    "\n",
    "battle = Battle(battle_data['id'], battle_data['p1'], battle_data['log'], gen)\n",
    "battle._opponent_username = battle_data['p2']"
   ]
  },
  {
   "cell_type": "code",
   "execution_count": 5,
   "metadata": {},
   "outputs": [
    {
     "data": {
      "text/plain": [
       "'flyingworkshop'"
      ]
     },
     "execution_count": 5,
     "metadata": {},
     "output_type": "execute_result"
    }
   ],
   "source": [
    "battle.opponent_username\n"
   ]
  },
  {
   "cell_type": "code",
   "execution_count": 6,
   "metadata": {},
   "outputs": [
    {
     "ename": "PyPokedexHTTPError",
     "evalue": "The requested pokemon was not found!",
     "output_type": "error",
     "traceback": [
      "\u001b[0;31m---------------------------------------------------------------------------\u001b[0m",
      "\u001b[0;31mHTTPError\u001b[0m                                 Traceback (most recent call last)",
      "File \u001b[0;32m/Library/Frameworks/Python.framework/Versions/3.11/lib/python3.11/site-packages/pypokedex/api.py:28\u001b[0m, in \u001b[0;36mget\u001b[0;34m(**kwargs)\u001b[0m\n\u001b[1;32m     27\u001b[0m     response \u001b[39m=\u001b[39m requests\u001b[39m.\u001b[39mget(\u001b[39mf\u001b[39m\u001b[39m\"\u001b[39m\u001b[39m{\u001b[39;00mPOKEAPI_BASE_URL\u001b[39m}\u001b[39;00m\u001b[39m/\u001b[39m\u001b[39m{\u001b[39;00msubpage\u001b[39m}\u001b[39;00m\u001b[39m\"\u001b[39m, timeout\u001b[39m=\u001b[39m\u001b[39m3\u001b[39m)\n\u001b[0;32m---> 28\u001b[0m     response\u001b[39m.\u001b[39;49mraise_for_status()\n\u001b[1;32m     30\u001b[0m \u001b[39mexcept\u001b[39;00m requests\u001b[39m.\u001b[39mexceptions\u001b[39m.\u001b[39mHTTPError \u001b[39mas\u001b[39;00m error:\n",
      "File \u001b[0;32m/Library/Frameworks/Python.framework/Versions/3.11/lib/python3.11/site-packages/requests/models.py:1021\u001b[0m, in \u001b[0;36mResponse.raise_for_status\u001b[0;34m(self)\u001b[0m\n\u001b[1;32m   1020\u001b[0m \u001b[39mif\u001b[39;00m http_error_msg:\n\u001b[0;32m-> 1021\u001b[0m     \u001b[39mraise\u001b[39;00m HTTPError(http_error_msg, response\u001b[39m=\u001b[39m\u001b[39mself\u001b[39m)\n",
      "\u001b[0;31mHTTPError\u001b[0m: 404 Client Error: Not Found for url: https://pokeapi.co/api/v2/pokemon/indeedee",
      "\nThe above exception was the direct cause of the following exception:\n",
      "\u001b[0;31mPyPokedexHTTPError\u001b[0m                        Traceback (most recent call last)",
      "Cell \u001b[0;32mIn[6], line 3\u001b[0m\n\u001b[1;32m      1\u001b[0m \u001b[39mimport\u001b[39;00m \u001b[39mpypokedex\u001b[39;00m\n\u001b[0;32m----> 3\u001b[0m p\u001b[39m=\u001b[39m pypokedex\u001b[39m.\u001b[39;49mget(name \u001b[39m=\u001b[39;49m \u001b[39m'\u001b[39;49m\u001b[39mIndeedee\u001b[39;49m\u001b[39m'\u001b[39;49m)\n\u001b[1;32m      4\u001b[0m p\u001b[39m.\u001b[39mdex\n",
      "File \u001b[0;32m/Library/Frameworks/Python.framework/Versions/3.11/lib/python3.11/site-packages/pypokedex/api.py:32\u001b[0m, in \u001b[0;36mget\u001b[0;34m(**kwargs)\u001b[0m\n\u001b[1;32m     30\u001b[0m \u001b[39mexcept\u001b[39;00m requests\u001b[39m.\u001b[39mexceptions\u001b[39m.\u001b[39mHTTPError \u001b[39mas\u001b[39;00m error:\n\u001b[1;32m     31\u001b[0m     \u001b[39mif\u001b[39;00m response\u001b[39m.\u001b[39mstatus_code \u001b[39m==\u001b[39m \u001b[39m404\u001b[39m:\n\u001b[0;32m---> 32\u001b[0m         \u001b[39mraise\u001b[39;00m PyPokedexHTTPError(\n\u001b[1;32m     33\u001b[0m             \u001b[39m\"\u001b[39m\u001b[39mThe requested pokemon was not found!\u001b[39m\u001b[39m\"\u001b[39m, \u001b[39m404\u001b[39m\n\u001b[1;32m     34\u001b[0m         ) \u001b[39mfrom\u001b[39;00m \u001b[39merror\u001b[39;00m\n\u001b[1;32m     35\u001b[0m     \u001b[39mraise\u001b[39;00m PyPokedexHTTPError(\n\u001b[1;32m     36\u001b[0m         \u001b[39mf\u001b[39m\u001b[39m\"\u001b[39m\u001b[39mAn HTTP error occurred! (Status code: \u001b[39m\u001b[39m{\u001b[39;00mresponse\u001b[39m.\u001b[39mstatus_code\u001b[39m}\u001b[39;00m\u001b[39m)\u001b[39m\u001b[39m\"\u001b[39m,\n\u001b[1;32m     37\u001b[0m         response\u001b[39m.\u001b[39mstatus_code,\n\u001b[1;32m     38\u001b[0m     ) \u001b[39mfrom\u001b[39;00m \u001b[39merror\u001b[39;00m\n\u001b[1;32m     40\u001b[0m \u001b[39mexcept\u001b[39;00m requests\u001b[39m.\u001b[39mexceptions\u001b[39m.\u001b[39mRequestException \u001b[39mas\u001b[39;00m error:\n",
      "\u001b[0;31mPyPokedexHTTPError\u001b[0m: The requested pokemon was not found!"
     ]
    }
   ],
   "source": [
    "import pypokedex\n",
    "\n",
    "p= pypokedex.get(name = 'Indeedee')\n",
    "p.dex"
   ]
  },
  {
   "cell_type": "code",
   "execution_count": 18,
   "metadata": {},
   "outputs": [],
   "source": [
    "import logging\n",
    "from poke_env.environment.pokemon import Pokemon, PokemonType\n",
    "import pypokedex\n",
    "from poke_env.environment.weather import Weather\n",
    "from poke_env.environment.move import Move\n",
    "from poke_env.environment.side_condition import SideCondition\n",
    "from poke_env.environment.status import Status\n",
    "import copy\n",
    "\n",
    "logger = logging.getLogger('poke-env')\n",
    "with open(\"cache/replays/gen8randombattle-1862087705.json\") as f:\n",
    "    battle_data = json.load(f)\n",
    "\n",
    "history = battle_data['log']\n",
    "\n",
    "history = history.split('\\n')\n",
    "\n",
    "curr_p1_pokemon = None\n",
    "curr_p2_pokemon = None\n",
    "\n",
    "curr_battle = Battle(battle_data['id'], battle_data['p1'],logger, gen)\n",
    "\n",
    "generation_dict = {}\n",
    "\n",
    "gen1 = set([i for i in range(1, 152)])\n",
    "gen2 = set([i for i in range(152, 252)])\n",
    "gen3 = set([i for i in range(252, 387)])\n",
    "gen4 = set([i for i in range(387, 494)])\n",
    "gen5 = set([i for i in range(494, 650)])\n",
    "gen6 = set([i for i in range(650, 722)])\n",
    "gen7 = set([i for i in range(722, 810)])\n",
    "gen8 = set([i for i in range(810, 906)])\n",
    "\n",
    "for i in range(1, 906):\n",
    "    if i in gen1:\n",
    "        generation_dict[i] = 1\n",
    "    elif i in gen2:\n",
    "        generation_dict[i] = 2\n",
    "    elif i in gen3:\n",
    "        generation_dict[i] = 3\n",
    "    elif i in gen4:\n",
    "        generation_dict[i] = 4\n",
    "    elif i in gen5:\n",
    "        generation_dict[i] = 5\n",
    "    elif i in gen6:\n",
    "        generation_dict[i] = 6\n",
    "    elif i in gen7:\n",
    "        generation_dict[i] = 7\n",
    "    elif i in gen8:\n",
    "        generation_dict[i] = 8\n",
    "\n",
    "to_skip = []\n",
    "battle_log = []\n",
    "\n",
    "opponent_active_pokemon = None\n",
    "\n",
    "for idx, line in enumerate(history):\n",
    "    if len(line) <= 1 or idx in to_skip:\n",
    "        continue\n",
    "    \n",
    "    if line.startswith(\"|start\"): # start of battle\n",
    "        #print(line)\n",
    "        switch_regex_pattern1 = r\"p1a:\\s(.*?)\\|.*?L(\\d+).*?(M|F)\\|(\\d+)/(\\d+)\"\n",
    "        switch_regex_pattern2 = r\"p2a:\\s(.*?)\\|.*?L(\\d+).*?(M|F)\\|(\\d+)/(\\d+)\"\n",
    "        genderless_1 = r\"p1a:\\s(.*?)\\|.*?L(\\d+).*?(?:M|F)?\\|(\\d+)/(\\d+)\"\n",
    "        genderless_2 = r\"p2a:\\s(.*?)\\|.*?L(\\d+).*?(?:M|F)?\\|(\\d+)/(\\d+)\"\n",
    "        p1_info = history[idx + 1]\n",
    "        p2_info = history[idx + 2]\n",
    "        to_skip.append(idx + 1)\n",
    "        to_skip.append(idx + 2)\n",
    "        match1 = re.search(switch_regex_pattern1, p1_info)\n",
    "        match2 = re.search(switch_regex_pattern2, p2_info)\n",
    "        match3 = re.search(genderless_1, p1_info)\n",
    "        match4 = re.search(genderless_2, p2_info)\n",
    "        \n",
    "        if match1:\n",
    "            pokemon_name = match1.group(1)\n",
    "            level = int(match1.group(2))\n",
    "            gender = match1.group(3)\n",
    "            curr_hp = int(match1.group(4))\n",
    "            max_hp = int(match1.group(5))\n",
    "\n",
    "        elif match3:\n",
    "            pokemon_name = match3.group(1)\n",
    "            level = int(match3.group(2))\n",
    "            curr_hp = int(match3.group(3))\n",
    "            max_hp = int(match3.group(4))\n",
    "            gender = None\n",
    "        \n",
    "        else:\n",
    "            line = p1_info.split('|')\n",
    "            player_number = int(line[2][1])\n",
    "            pokemon_name = line[2].split(' ')[1]\n",
    "            level = int(line[3].split(' ')[1][1:])\n",
    "            hp_numerator = int(line[4].split('/')[0])\n",
    "            hp_denominator = int(line[4].split('/')[1])\n",
    "        \n",
    "        curr_p1_pokemon = Pokemon(gen = 8, species = pokemon_name) #pokemon1_info.name)\n",
    "\n",
    "        curr_battle._team[pokemon_name.replace(\" \",\"\").lower()] = curr_p1_pokemon\n",
    "        curr_battle._team[pokemon_name.replace(\" \",\"\").lower()]._active = True\n",
    "\n",
    "        curr_p1_pokemon._level = level\n",
    "        curr_p1_pokemon._active = True\n",
    "        curr_p1_pokemon._current_hp = curr_hp\n",
    "        curr_p1_pokemon._max_hp = max_hp\n",
    "        curr_p1_pokemon._first_turn = True\n",
    "        curr_p1_pokemon._status = None\n",
    "        \n",
    "        if match2:\n",
    "            #print(\"match2\")\n",
    "            #print('here')\n",
    "            pokemon_name = match2.group(1)\n",
    "            level = int(match2.group(2))\n",
    "            gender = match2.group(3)\n",
    "            curr_hp = int(match2.group(4))\n",
    "            max_hp = int(match2.group(5))\n",
    "        elif match4:\n",
    "            pokemon_name = match4.group(1)\n",
    "            level = int(match4.group(2))\n",
    "            curr_hp = int(match4.group(3))\n",
    "            max_hp = int(match4.group(4))\n",
    "        else:\n",
    "            line = p2_info.split('|')\n",
    "            player_number = int(line[2][1])\n",
    "            pokemon_name = line[2].split(' ')[1]\n",
    "            level = int(line[3].split(' ')[1][1:])\n",
    "            hp_numerator = int(line[4].split('/')[0])\n",
    "            hp_denominator = int(line[4].split('/')[1])\n",
    "\n",
    "        curr_p2_pokemon = Pokemon(gen = 8, species = pokemon_name)\n",
    "        curr_battle._opponent_team[pokemon_name.replace(\" \",\"\").lower()] = curr_p2_pokemon\n",
    "        curr_battle._opponent_team[pokemon_name.replace(\" \",\"\").lower()]._active = True\n",
    "\n",
    "        curr_p2_pokemon._level = level\n",
    "        curr_p2_pokemon._current_hp = curr_hp\n",
    "        curr_p2_pokemon._max_hp = max_hp\n",
    "        curr_p2_pokemon._first_turn = True\n",
    "        curr_p2_pokemon._status = None\n",
    "        # else:\n",
    "        #     print(\"no match\")\n",
    "        \n",
    "    if line.startswith(\"|-weather|\"):\n",
    "        weather_regex = r\"^\\|-weather\\|(\\w+)\\|\\[from\\]\\s(\\w+):\\s(.*?)\\|\\[of\\]\\sp(\\d+)a:\\s(.*?)$\"\n",
    "\n",
    "        match = re.search(weather_regex, line)\n",
    "\n",
    "        if 'none' in line:\n",
    "            curr_battle._weather = None\n",
    "            continue\n",
    "        if match:\n",
    "            weather = match.group(1)\n",
    "            source_type = match.group(2)\n",
    "            source = match.group(3)\n",
    "            player = int(match.group(4))\n",
    "            pokemon_name = match.group(5)\n",
    "            curr_battle._weather = Weather.from_showdown_message(weather)\n",
    "        \n",
    "        \n",
    "\n",
    "    if line.startswith(\"|switch|\"):\n",
    "        switch_regex_pattern = r'\\|switch\\|p(\\d)a: (\\w+)\\|\\w+, L(\\d+), \\w+\\|(\\d+)/(\\d+)'\n",
    "        match1 = re.search(switch_regex_pattern, line)\n",
    "\n",
    "        if match1:\n",
    "            player_number = int(match1.group(1))\n",
    "            pokemon_name = match1.group(2)\n",
    "            level = match1.group(3)\n",
    "            hp_numerator = match1.group(4)\n",
    "            hp_denominator = match1.group(5)\n",
    "        else:\n",
    "            # |switch|p1a: Incineroar|Incineroar, L82, F|290/290\n",
    "            line = line.split('|')\n",
    "            player_number = int(line[2][1])\n",
    "            pokemon_name = line[2].split(' ')[1]\n",
    "            level = int(line[3].split(\", \")[1][1:]) #int(re.sub(r'\\D', '', line[3].split(' ')[1][1:]))\n",
    "            hp_numerator = int(line[4].split('/')[0])\n",
    "            hp_denominator = int(line[4].split('/')[1].split(' ')[0])\n",
    "\n",
    "        if player_number == 1:\n",
    "            if pokemon_name not in curr_battle.team:\n",
    "\n",
    "                curr_battle._team[curr_p1_pokemon._species]._active = False\n",
    "\n",
    "                curr_p1_pokemon = Pokemon(gen = 8, species = pokemon_name)\n",
    "\n",
    "                curr_battle._team[pokemon_name.replace(\" \",\"\").lower()] = curr_p1_pokemon\n",
    "                curr_battle._team[pokemon_name.replace(\" \",\"\").lower()]._active = True\n",
    "\n",
    "                #curr_battle.active_pokemon = curr_p1_pokemon\n",
    "\n",
    "                curr_p1_pokemon._level = level\n",
    "                curr_p1_pokemon._active = True\n",
    "                curr_p1_pokemon._current_hp = curr_hp\n",
    "                curr_p1_pokemon._max_hp = max_hp\n",
    "                curr_p1_pokemon._first_turn = True\n",
    "                curr_p1_pokemon._status = None\n",
    "\n",
    "            else:\n",
    "                curr_battle.active_pokemon = curr_battle.team[pokemon_name]\n",
    "        else:\n",
    "            \n",
    "            #curr_battle.opponent_active_pokemon._active = False\n",
    "            if pokemon_name not in curr_battle.opponent_team:\n",
    "\n",
    "                curr_battle._opponent_team[curr_p2_pokemon._species]._active = False\n",
    "\n",
    "                curr_p2_pokemon = Pokemon(gen = 8, species = pokemon_name)\n",
    "                curr_battle._opponent_team[pokemon_name.replace(\" \",\"\").lower()] = curr_p2_pokemon\n",
    "                curr_battle._opponent_team[pokemon_name.replace(\" \",\"\").lower()]._active = True\n",
    "\n",
    "                curr_p2_pokemon._level = level\n",
    "                curr_p2_pokemon._active = True\n",
    "                curr_p2_pokemon._current_hp = curr_hp\n",
    "                curr_p2_pokemon._max_hp = max_hp\n",
    "                curr_p2_pokemon._first_turn = True\n",
    "                curr_p2_pokemon._status = None\n",
    "            \n",
    "            else:\n",
    "                #curr_battle.active_pokemon = curr_battle.opponent_team[pokemon_name.replace(\" \",\"\").lower()]\n",
    "                pass\n",
    "\n",
    "    if '|-damage|' in line:\n",
    "        if 'fnt' not in line:\n",
    "        #print(line)\n",
    "            line = line.split('|')\n",
    "            player = int(line[2][1])\n",
    "            curr_hp = int(line[3].split('/')[0])\n",
    "            if player == 1:\n",
    "                curr_battle.active_pokemon._current_hp = curr_hp\n",
    "            else:\n",
    "                curr_battle.opponent_active_pokemon._current_hp = curr_hp\n",
    "        \n",
    "\n",
    "    #if line.startswith(\"|-ability|\"):\n",
    "    if '|-ability|' in line:\n",
    "        ability_regex = r\"p(\\d+)a:\\s(.*?)\\|.*\\|(\\w+)\\|(\\w+)$\"\n",
    "\n",
    "        match = re.search(ability_regex, line)\n",
    "\n",
    "        if match:\n",
    "            player = int(match.group(1))\n",
    "            pokemon_name = match.group(2)\n",
    "            ability = match.group(3)\n",
    "            ability_effect = match.group(4)\n",
    "\n",
    "            if player == 1:\n",
    "                curr_battle.active_pokemon.ability = ability\n",
    "                curr_battle.active_pokemon.ability_effect = ability_effect\n",
    "            else:\n",
    "                curr_battle.opponent_active_pokemon.ability = ability\n",
    "                curr_battle.opponent_active_pokemon.ability_effect = ability_effect\n",
    "\n",
    "    #if line.startswith(\"|move|\"):\n",
    "    if '|move|' in line:\n",
    "        \n",
    "        line = line.split('|')\n",
    "        \n",
    "        player_number = line[2][1]\n",
    "        move = line[3].replace(' ', '').lower()\n",
    "        move = re.sub(r'\\W+', '', move).lower()\n",
    "\n",
    "        if player_number == '1':\n",
    "            if move not in curr_battle.active_pokemon.moves:\n",
    "                curr_battle.active_pokemon.moves[move] = Move(move, gen=8)\n",
    "            curr_battle.active_pokemon.moves[move].use()\n",
    "        else:\n",
    "            #if move not in curr_battle.opponent_active_pokemon.moves:\n",
    "            curr_battle.opponent_active_pokemon.moves[move] = Move(move, gen=8)\n",
    "            curr_battle.opponent_active_pokemon.moves[move].use()\n",
    "\n",
    "    #if line.startswith(\"|-heal|\"):\n",
    "    if \"|-heal|\" in line:\n",
    "        heal = line.split('|')\n",
    "        player = int(heal[2][1])\n",
    "        pokemon_name = heal[2].split(' ')[1]\n",
    "        curr_hp = int(heal[3].split('/')[0])\n",
    "        max_hp = int(heal[3].split('/')[1].split(' ')[0])\n",
    "\n",
    "        if player == 1:\n",
    "            curr_battle.active_pokemon._current_hp = curr_hp\n",
    "        else:\n",
    "            curr_battle.opponent_active_pokemon._current_hp = curr_hp\n",
    "\n",
    "    #if line.startswith(\"|-sidestart|\"): # hazards\n",
    "    if \"|-sidestart|\" in line:\n",
    "        hazard_message = line.split('|')[3]\n",
    "        player = line.split('|')[2][1]\n",
    "\n",
    "        if player == 1:\n",
    "            curr_battle.side_conditions[SideCondition.from_showdown_message(hazard_message)] = True\n",
    "        else:\n",
    "            curr_battle.opponent_side_conditions[SideCondition.from_showdown_message(hazard_message)] = True\n",
    "\n",
    "#|-boost|p2a: Porygon-Z|spa|1\n",
    "    if \"|-boost|\" in line:\n",
    "        #boost_regex = r\"p(\\d+)a:\\s\\w+\\|(\\w+)\\|(\\d+)\"\n",
    "        #print(line)\n",
    "        line = line.split('|')\n",
    "        #match = re.search(boost_regex, line)\n",
    "        player = int(line[2][1])\n",
    "        stat = line[3]\n",
    "        amount = int(line[4])\n",
    "\n",
    "        if player == 1:\n",
    "            curr_battle.active_pokemon.boosts[stat] += amount\n",
    "        else:\n",
    "            curr_battle.opponent_active_pokemon.boosts[stat] += amount\n",
    "\n",
    "    #if line.startswith(\"|-unboost|\"):\n",
    "    if \"|-unboost|\" in line:\n",
    "        boost_regex = r\"p(\\d+)a:\\s\\w+\\|(\\w+)\\|(\\d+)\"\n",
    "\n",
    "        match = re.search(boost_regex, line)\n",
    "        player = int(match.group(1))\n",
    "        stat = match.group(2)\n",
    "        amount = int(match.group(3))\n",
    "\n",
    "        if player == 1:\n",
    "            curr_battle.active_pokemon.boosts[stat] -= amount\n",
    "        else:\n",
    "            curr_battle.opponent_active_pokemon.boosts[stat] -= amount\n",
    "\n",
    "\n",
    "    #if line.startswith(\"|faint|\"):\n",
    "    if \"|faint|\" in line:\n",
    "        faint_regex = r\"p(\\d+)a:\\s(.*?)$\"\n",
    "\n",
    "        match = re.search(faint_regex, line)\n",
    "        player = int(match.group(1))\n",
    "        pokemon_name = match.group(2)\n",
    "\n",
    "        if player == 1:\n",
    "            curr_battle.active_pokemon._status = Status.FNT\n",
    "            curr_battle.active_pokemon._active = False\n",
    "            \n",
    "        else:\n",
    "            curr_battle.opponent_active_pokemon._status = Status.FNT\n",
    "            curr_battle.opponent_active_pokemon._active = False\n",
    "            \n",
    "\n",
    "    #if line.startswith(\"|-status|\"):\n",
    "    if \"|-status|\" in line:\n",
    "        status_regex = r\"p(\\d+)a:\\s(.*?)\\|(\\w+)\"\n",
    "\n",
    "        match = re.search(status_regex, line)\n",
    "        player = int(match.group(1))\n",
    "        pokemon_name = match.group(2)\n",
    "        status = match.group(3)\n",
    "\n",
    "        if status == 'par':\n",
    "            status = Status.PAR\n",
    "        elif status == 'brn':\n",
    "            status = Status.BRN\n",
    "        elif status == 'psn':\n",
    "            status = Status.PSN\n",
    "        elif status == 'tox':\n",
    "            status = Status.TOX\n",
    "        elif status == 'slp':\n",
    "            status = Status.SLP\n",
    "        elif status == 'frz':\n",
    "            status = Status.FRZ\n",
    "        \n",
    "        if player == 1:\n",
    "            curr_battle.active_pokemon._status = status\n",
    "        else:\n",
    "            curr_battle.opponent_active_pokemon._status = status\n",
    "    \n",
    "    if \"|-sideend|\" in line:\n",
    "        hazard_message = line.split('|')[3]\n",
    "        player = line.split('|')[2][1]\n",
    "\n",
    "        if player == 1:\n",
    "            curr_battle.side_conditions[SideCondition.from_showdown_message(hazard_message)] = 0\n",
    "        else:\n",
    "            curr_battle.opponent_side_conditions[SideCondition.from_showdown_message(hazard_message)] = 0\n",
    "\n",
    "    battle_log.append(copy.deepcopy(curr_battle))\n"
   ]
  },
  {
   "cell_type": "code",
   "execution_count": null,
   "metadata": {},
   "outputs": [],
   "source": [
    "s = r\"p(\\d+)a:\\s(.*?)\\|(\\d+)/(\\d+)$\"\n",
    "t = r'\\|switch\\|p(\\d)a: (\\w+)\\|\\w+, L(\\d+), \\w+\\|(\\d+)/(\\d+)'\n",
    "u = r\"p2a:\\s(.*?)\\|.*?L(\\d+).*?(?:M|F)?\\|(\\d+)/(\\d+)\"\n",
    "v = r'\\|switch\\|p(\\d)a: (\\w+)\\|\\w+, L(\\d+), \\w+\\|(\\d+)/(\\d+)'\n",
    "#w = r\"\\|switch\\|p(\\d+)a: (\\w+)(?<=\\|\\w+\\|\\w+:\\s)(\\w+)\\|(\\d+)/(\\d+)\"\n",
    "x = r\"\\|switch\\|p(\\d+)a: \\w+\\|.*?, L(\\d+),.*?\\|(\\d+)/(\\d+)\"\n",
    "\n",
    "# match = re.search(s, \"-damage|p1a: Sudowoodo|103/275\")\n",
    "# print(match.group(4))\n",
    "# match = re.search(t, \"|switch|p2a: Heliolisk|Heliolisk, L82, M|236/236\")\n",
    "# match.group(1)\n",
    "# match.group(2)\n",
    "# match.group(3)\n",
    "# match.group(4)\n",
    "# match.group(5)\n",
    "# match = re.search(u, \"|switch|p2a: Palkia|Palkia, L74|255/255\")\n",
    "# match.group(1)\n",
    "# match.group(2)\n",
    "# match.group(3)\n",
    "# match.group(4)\n",
    "\n",
    "match = re.search(x,\"|switch|p2a: Zacian|Zacian-Crowned, L62|218/218\")\n",
    "match.group(1)\n",
    "match == None"
   ]
  },
  {
   "cell_type": "code",
   "execution_count": 10,
   "metadata": {},
   "outputs": [
    {
     "name": "stdout",
     "output_type": "stream",
     "text": [
      "1\n",
      "2\n",
      "3\n",
      "4\n",
      "5\n",
      "6\n",
      "7\n",
      "8\n",
      "9\n",
      "10\n",
      "11\n",
      "12\n",
      "13\n",
      "14\n",
      "15\n",
      "16\n",
      "17\n",
      "18\n",
      "19\n",
      "20\n"
     ]
    }
   ],
   "source": [
    "for sc in SideCondition:\n",
    "    print(sc.value)"
   ]
  },
  {
   "cell_type": "code",
   "execution_count": 90,
   "metadata": {},
   "outputs": [
    {
     "data": {
      "text/plain": [
       "(<PokemonType.PSYCHIC: 15>, <PokemonType.NORMAL: 13>)"
      ]
     },
     "execution_count": 90,
     "metadata": {},
     "output_type": "execute_result"
    }
   ],
   "source": [
    "p = Pokemon(gen = 8, species = 'Indeedee')\n",
    "p.types"
   ]
  },
  {
   "cell_type": "code",
   "execution_count": null,
   "metadata": {},
   "outputs": [],
   "source": [
    "#print(history[24])\n",
    "for idx, line in enumerate(history):#.split('\\n'):\n",
    "    if line.startswith(\"|-sidestart|\"):\n",
    "        print(line)\n",
    "        # print(history[idx + 1])\n",
    "        # print(history[idx + 2])\n",
    "    # if 'defog' in line:\n",
    "    #     print(line)"
   ]
  },
  {
   "cell_type": "code",
   "execution_count": null,
   "metadata": {},
   "outputs": [],
   "source": [
    "for line in battle_data['inputlog'].split('\\n'):\n",
    "    print(line)"
   ]
  },
  {
   "cell_type": "code",
   "execution_count": 12,
   "metadata": {},
   "outputs": [
    {
     "data": {
      "text/plain": [
       "{}"
      ]
     },
     "execution_count": 12,
     "metadata": {},
     "output_type": "execute_result"
    }
   ],
   "source": [
    "battle_log[5].opponent_side_conditions"
   ]
  },
  {
   "cell_type": "code",
   "execution_count": 29,
   "metadata": {},
   "outputs": [],
   "source": [
    "from poke_env.environment.battle import AbstractBattle\n",
    "logger = logging.getLogger('poke-env')\n",
    "with open(\"cache/replays/gen8randombattle-1862087705.json\") as f:\n",
    "    battle_data = json.load(f)\n",
    "\n",
    "history = battle_data['log']\n",
    "\n",
    "history = history.split('\\n')\n",
    "\n",
    "curr_p1_pokemon = None\n",
    "curr_p2_pokemon = None\n",
    "\n",
    "curr_battle = Battle(battle_data['id'], battle_data['p1'],logger, gen)\n",
    "curr_battle._opponent_username = battle_data['p2']\n",
    "\n",
    "battle_objects = []\n",
    "for line in history:\n",
    "    try:\n",
    "        curr_battle._parse_message(line.split('|'))\n",
    "        if line.split('|')[1] == 'turn':\n",
    "            battle_objects.append(copy.deepcopy(curr_battle))\n",
    "    except:\n",
    "        continue"
   ]
  },
  {
   "cell_type": "code",
   "execution_count": 56,
   "metadata": {},
   "outputs": [
    {
     "name": "stdout",
     "output_type": "stream",
     "text": [
      "musharna (pokemon object) [Active: True, Status: None]\n"
     ]
    }
   ],
   "source": [
    "turn = battle_objects[4]\n",
    "\n",
    "print(turn.active_pokemon)"
   ]
  },
  {
   "cell_type": "code",
   "execution_count": 58,
   "metadata": {},
   "outputs": [],
   "source": [
    "m = Move(\"willowisp\", gen = 8)\n",
    "m.base_power\n",
    "m.accuracy\n",
    "m.expected_hits\n",
    "m.side_condition"
   ]
  },
  {
   "cell_type": "code",
   "execution_count": 60,
   "metadata": {},
   "outputs": [],
   "source": [
    "from alphagogoat.utils import DataExtractor"
   ]
  },
  {
   "cell_type": "code",
   "execution_count": 146,
   "metadata": {},
   "outputs": [],
   "source": [
    "d = DataExtractor(\"cache/replays/gen8randombattle-1862087705.json\")"
   ]
  },
  {
   "cell_type": "code",
   "execution_count": 147,
   "metadata": {},
   "outputs": [
    {
     "ename": "AttributeError",
     "evalue": "'dict' object has no attribute 'status'",
     "output_type": "error",
     "traceback": [
      "\u001b[0;31m---------------------------------------------------------------------------\u001b[0m",
      "\u001b[0;31mAttributeError\u001b[0m                            Traceback (most recent call last)",
      "Cell \u001b[0;32mIn[147], line 1\u001b[0m\n\u001b[0;32m----> 1\u001b[0m d\u001b[39m.\u001b[39;49mturns[\u001b[39m16\u001b[39;49m]\u001b[39m.\u001b[39;49mteam\u001b[39m.\u001b[39;49mstatus\n",
      "\u001b[0;31mAttributeError\u001b[0m: 'dict' object has no attribute 'status'"
     ]
    }
   ],
   "source": [
    "d.turns[16].team.status"
   ]
  },
  {
   "cell_type": "code",
   "execution_count": 157,
   "metadata": {},
   "outputs": [
    {
     "name": "stdout",
     "output_type": "stream",
     "text": [
      "successfully extracted all features\n"
     ]
    }
   ],
   "source": [
    "d.embed(d.turns[5])"
   ]
  },
  {
   "cell_type": "code",
   "execution_count": 150,
   "metadata": {},
   "outputs": [
    {
     "name": "stderr",
     "output_type": "stream",
     "text": [
      "2023-05-18 10:47:30,847 - poke-env - WARNING - Unexpected side condition 'STEALTH_ROCK_16' received. SideCondition._UNKNOWN will be used instead. If this is unexpected, please open an issue at https://github.com/hsahovic/poke-env/issues/ along with this error message and a description of your program.\n"
     ]
    },
    {
     "data": {
      "text/plain": [
       "'_UNKNOWN'"
      ]
     },
     "execution_count": 150,
     "metadata": {},
     "output_type": "execute_result"
    }
   ],
   "source": [
    "m = Move('closecombat', gen = 8)\n",
    "m.side_condition\n",
    "\n",
    "SideCondition.from_showdown_message('STEALTH_ROCK 16').name"
   ]
  },
  {
   "cell_type": "code",
   "execution_count": 125,
   "metadata": {},
   "outputs": [
    {
     "name": "stderr",
     "output_type": "stream",
     "text": [
      "[autoreload of alphagogoat.utils failed: Traceback (most recent call last):\n",
      "  File \"/Library/Frameworks/Python.framework/Versions/3.11/lib/python3.11/site-packages/IPython/extensions/autoreload.py\", line 273, in check\n",
      "    superreload(m, reload, self.old_objects)\n",
      "  File \"/Library/Frameworks/Python.framework/Versions/3.11/lib/python3.11/site-packages/IPython/extensions/autoreload.py\", line 496, in superreload\n",
      "    update_generic(old_obj, new_obj)\n",
      "  File \"/Library/Frameworks/Python.framework/Versions/3.11/lib/python3.11/site-packages/IPython/extensions/autoreload.py\", line 393, in update_generic\n",
      "    update(a, b)\n",
      "  File \"/Library/Frameworks/Python.framework/Versions/3.11/lib/python3.11/site-packages/IPython/extensions/autoreload.py\", line 361, in update_class\n",
      "    update_instances(old, new)\n",
      "  File \"/Library/Frameworks/Python.framework/Versions/3.11/lib/python3.11/site-packages/IPython/extensions/autoreload.py\", line 315, in update_instances\n",
      "    refs = gc.get_referrers(old)\n",
      "           ^^^^^^^^^^^^^^^^^^^^^\n",
      "KeyboardInterrupt\n",
      "]\n"
     ]
    },
    {
     "data": {
      "text/plain": [
       "{'unknown': <SideCondition._UNKNOWN: 1>,\n",
       " 'auroraveil': <SideCondition.AURORA_VEIL: 2>,\n",
       " 'firepledge': <SideCondition.FIRE_PLEDGE: 3>,\n",
       " 'gmaxcannonade': <SideCondition.G_MAX_CANNONADE: 4>,\n",
       " 'gmaxsteelsurge': <SideCondition.G_MAX_STEELSURGE: 5>,\n",
       " 'gmaxvinelash': <SideCondition.G_MAX_VINE_LASH: 6>,\n",
       " 'gmaxvolcalith': <SideCondition.G_MAX_VOLCALITH: 7>,\n",
       " 'gmaxwildfire': <SideCondition.G_MAX_WILDFIRE: 8>,\n",
       " 'grasspledge': <SideCondition.GRASS_PLEDGE: 9>,\n",
       " 'lightscreen': <SideCondition.LIGHT_SCREEN: 10>,\n",
       " 'luckychant': <SideCondition.LUCKY_CHANT: 11>,\n",
       " 'mist': <SideCondition.MIST: 12>,\n",
       " 'reflect': <SideCondition.REFLECT: 13>,\n",
       " 'safeguard': <SideCondition.SAFEGUARD: 14>,\n",
       " 'spikes': <SideCondition.SPIKES: 15>,\n",
       " 'stealthrock': <SideCondition.STEALTH_ROCK: 16>,\n",
       " 'stickyweb': <SideCondition.STICKY_WEB: 17>,\n",
       " 'tailwind': <SideCondition.TAILWIND: 18>,\n",
       " 'toxicspikes': <SideCondition.TOXIC_SPIKES: 19>,\n",
       " 'waterpledge': <SideCondition.WATER_PLEDGE: 20>}"
      ]
     },
     "execution_count": 125,
     "metadata": {},
     "output_type": "execute_result"
    }
   ],
   "source": [
    "sc_str_to_enum = {sc.name.replace('_', '').lower(): sc for sc in SideCondition}\n",
    "sc_str_to_enum"
   ]
  },
  {
   "cell_type": "code",
   "execution_count": 140,
   "metadata": {},
   "outputs": [
    {
     "data": {
      "text/plain": [
       "20"
      ]
     },
     "execution_count": 140,
     "metadata": {},
     "output_type": "execute_result"
    }
   ],
   "source": [
    "len(SideCondition)"
   ]
  },
  {
   "cell_type": "code",
   "execution_count": 143,
   "metadata": {},
   "outputs": [
    {
     "data": {
      "text/plain": [
       "7"
      ]
     },
     "execution_count": 143,
     "metadata": {},
     "output_type": "execute_result"
    }
   ],
   "source": [
    "len(Status)"
   ]
  },
  {
   "cell_type": "code",
   "execution_count": 2,
   "metadata": {},
   "outputs": [],
   "source": [
    "from alphagogoat.pokedex import make_pokedex"
   ]
  },
  {
   "cell_type": "code",
   "execution_count": 3,
   "metadata": {},
   "outputs": [
    {
     "ename": "FileNotFoundError",
     "evalue": "[Errno 2] No such file or directory: '../cache/teams'",
     "output_type": "error",
     "traceback": [
      "\u001b[0;31m---------------------------------------------------------------------------\u001b[0m",
      "\u001b[0;31mFileNotFoundError\u001b[0m                         Traceback (most recent call last)",
      "Cell \u001b[0;32mIn[3], line 1\u001b[0m\n\u001b[0;32m----> 1\u001b[0m d \u001b[39m=\u001b[39m make_pokedex()\n",
      "File \u001b[0;32m~/Desktop/PokeBot/alphagogoat/pokedex.py:8\u001b[0m, in \u001b[0;36mmake_pokedex\u001b[0;34m()\u001b[0m\n\u001b[1;32m      6\u001b[0m \u001b[39mdef\u001b[39;00m \u001b[39mmake_pokedex\u001b[39m():\n\u001b[1;32m      7\u001b[0m     pokedex \u001b[39m=\u001b[39m {}\n\u001b[0;32m----> 8\u001b[0m     \u001b[39mfor\u001b[39;00m filepath \u001b[39min\u001b[39;00m tqdm(\u001b[39mlist\u001b[39;49m(Path(\u001b[39m\"\u001b[39;49m\u001b[39m../cache/teams\u001b[39;49m\u001b[39m\"\u001b[39;49m)\u001b[39m.\u001b[39;49miterdir())):\n\u001b[1;32m      9\u001b[0m         \u001b[39mwith\u001b[39;00m \u001b[39mopen\u001b[39m(filepath, \u001b[39m'\u001b[39m\u001b[39mr\u001b[39m\u001b[39m'\u001b[39m) \u001b[39mas\u001b[39;00m f:\n\u001b[1;32m     10\u001b[0m             data \u001b[39m=\u001b[39m json\u001b[39m.\u001b[39mload(f)\n",
      "File \u001b[0;32m/Library/Frameworks/Python.framework/Versions/3.11/lib/python3.11/pathlib.py:931\u001b[0m, in \u001b[0;36mPath.iterdir\u001b[0;34m(self)\u001b[0m\n\u001b[1;32m    927\u001b[0m \u001b[39mdef\u001b[39;00m \u001b[39miterdir\u001b[39m(\u001b[39mself\u001b[39m):\n\u001b[1;32m    928\u001b[0m \u001b[39m    \u001b[39m\u001b[39m\"\"\"Iterate over the files in this directory.  Does not yield any\u001b[39;00m\n\u001b[1;32m    929\u001b[0m \u001b[39m    result for the special paths '.' and '..'.\u001b[39;00m\n\u001b[1;32m    930\u001b[0m \u001b[39m    \"\"\"\u001b[39;00m\n\u001b[0;32m--> 931\u001b[0m     \u001b[39mfor\u001b[39;00m name \u001b[39min\u001b[39;00m os\u001b[39m.\u001b[39;49mlistdir(\u001b[39mself\u001b[39;49m):\n\u001b[1;32m    932\u001b[0m         \u001b[39myield\u001b[39;00m \u001b[39mself\u001b[39m\u001b[39m.\u001b[39m_make_child_relpath(name)\n",
      "\u001b[0;31mFileNotFoundError\u001b[0m: [Errno 2] No such file or directory: '../cache/teams'"
     ]
    }
   ],
   "source": [
    "d = make_pokedex()"
   ]
  }
 ],
 "metadata": {
  "kernelspec": {
   "display_name": "Python 3",
   "language": "python",
   "name": "python3"
  },
  "language_info": {
   "codemirror_mode": {
    "name": "ipython",
    "version": 3
   },
   "file_extension": ".py",
   "mimetype": "text/x-python",
   "name": "python",
   "nbconvert_exporter": "python",
   "pygments_lexer": "ipython3",
   "version": "3.11.2"
  }
 },
 "nbformat": 4,
 "nbformat_minor": 0
}
