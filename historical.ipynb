{
 "cells": [
  {
   "cell_type": "code",
   "execution_count": 1,
   "metadata": {
    "collapsed": false,
    "ExecuteTime": {
     "end_time": "2023-05-15T22:07:44.442567Z",
     "start_time": "2023-05-15T22:07:44.419692Z"
    }
   },
   "outputs": [],
   "source": [
    "%load_ext autoreload\n",
    "%autoreload 2"
   ]
  },
  {
   "cell_type": "code",
   "execution_count": 2,
   "metadata": {
    "collapsed": false,
    "ExecuteTime": {
     "end_time": "2023-05-15T22:07:50.236903Z",
     "start_time": "2023-05-15T22:07:44.443158Z"
    }
   },
   "outputs": [],
   "source": [
    "import json\n",
    "\n",
    "import alphagogoat as ag\n",
    "import alphagogoat.utils\n",
    "import re"
   ]
  },
  {
   "cell_type": "code",
   "execution_count": 3,
   "metadata": {
    "collapsed": false,
    "ExecuteTime": {
     "end_time": "2023-05-15T22:07:50.290347Z",
     "start_time": "2023-05-15T22:07:50.235886Z"
    }
   },
   "outputs": [
    {
     "data": {
      "text/plain": "[['|j|☆Savulski.',\n  '|j|☆flyingworkshop',\n  '|t:|1682726952',\n  '|gametype|singles',\n  '|player|p1|Savulski.|steven|1027',\n  '|player|p2|flyingworkshop|169|1037',\n  '|teamsize|p1|6',\n  '|teamsize|p2|6',\n  '|gen|9',\n  '|tier|[Gen 9] Random Battle',\n  '|rated|',\n  '|rule|Species Clause: Limit one of each Pokémon',\n  '|rule|HP Percentage Mod: HP is shown in percentages',\n  '|rule|Sleep Clause Mod: Limit one foe put to sleep',\n  '|',\n  '|t:|1682726953',\n  '|start',\n  '|switch|p1a: Sudowoodo|Sudowoodo, L91, M|275/275',\n  '|switch|p2a: Bellibolt|Bellibolt, L85, M|324/324'],\n ['|turn|1',\n  \"|inactive|Battle timer is ON: inactive players will automatically lose when time's up. (requested by flyingworkshop)\",\n  '|',\n  '|t:|1682726970',\n  '|move|p2a: Bellibolt|Muddy Water|p1a: Sudowoodo',\n  '|-supereffective|p1a: Sudowoodo',\n  '|-damage|p1a: Sudowoodo|103/275',\n  '|move|p1a: Sudowoodo|Stealth Rock|p2a: Bellibolt',\n  '|-sidestart|p2: flyingworkshop|move: Stealth Rock',\n  '|',\n  '|-heal|p1a: Sudowoodo|120/275|[from] item: Leftovers',\n  '|upkeep'],\n ['|turn|2',\n  '|',\n  '|t:|1682726978',\n  '|move|p2a: Bellibolt|Muddy Water|p1a: Sudowoodo',\n  '|-supereffective|p1a: Sudowoodo',\n  '|-damage|p1a: Sudowoodo|0 fnt',\n  '|faint|p1a: Sudowoodo',\n  '|',\n  '|upkeep',\n  '|',\n  '|t:|1682726988',\n  '|switch|p1a: Tauros|Tauros, L84, M|263/263',\n  '|-ability|p1a: Tauros|Intimidate|boost',\n  '|-unboost|p2a: Bellibolt|atk|1'],\n ['|turn|3',\n  '|',\n  '|t:|1682727015',\n  '|move|p1a: Tauros|Earthquake|p2a: Bellibolt',\n  '|-supereffective|p2a: Bellibolt',\n  '|-damage|p2a: Bellibolt|126/324',\n  '|-start|p2a: Bellibolt|Charge|Earthquake|[from] ability: Electromorphosis',\n  '|move|p2a: Bellibolt|Thunder Wave|p1a: Tauros',\n  '|-status|p1a: Tauros|par',\n  '|-end|p2a: Bellibolt|Charge|[silent]',\n  '|',\n  '|-heal|p2a: Bellibolt|146/324|[from] item: Leftovers',\n  '|upkeep'],\n ['|turn|4',\n  '|',\n  '|t:|1682727025',\n  '|switch|p2a: Braviary|Braviary-Hisui, L84, M|322/322',\n  '|-damage|p2a: Braviary|242/322|[from] Stealth Rock',\n  '|cant|p1a: Tauros|par',\n  '|',\n  '|upkeep'],\n ['|turn|5',\n  '|',\n  '|t:|1682727040',\n  '|move|p2a: Braviary|Psychic|p1a: Tauros',\n  '|-damage|p1a: Tauros|39/263 par',\n  '|move|p1a: Tauros|Earthquake|p2a: Braviary',\n  '|-immune|p2a: Braviary',\n  '|',\n  '|upkeep'],\n ['|turn|6',\n  '|',\n  '|t:|1682727046',\n  '|move|p2a: Braviary|Psychic|p1a: Tauros',\n  '|-damage|p1a: Tauros|0 fnt',\n  '|faint|p1a: Tauros',\n  '|',\n  '|upkeep',\n  '|',\n  '|t:|1682727051',\n  '|switch|p1a: Koraidon|Koraidon, L66|242/242',\n  '|-weather|SunnyDay|[from] ability: Orichalcum Pulse|[of] p1a: Koraidon',\n  '|-activate|p1a: Koraidon|Orichalcum Pulse|[source]'],\n ['|turn|7',\n  '|',\n  '|t:|1682727066',\n  '|-terastallize|p1a: Koraidon|Fire',\n  '|move|p1a: Koraidon|Flare Blitz|p2a: Braviary',\n  '|-damage|p2a: Braviary|0 fnt',\n  '|faint|p2a: Braviary',\n  '|-damage|p1a: Koraidon|162/242|[from] Recoil',\n  '|',\n  '|-weather|SunnyDay|[upkeep]',\n  '|upkeep',\n  '|',\n  '|t:|1682727077',\n  '|switch|p2a: Wugtrio|Wugtrio, L90, M|209/209',\n  '|-damage|p2a: Wugtrio|183/209|[from] Stealth Rock'],\n ['|turn|8',\n  '|',\n  '|t:|1682727085',\n  '|switch|p1a: Goodra|Goodra, L86, M|295/295',\n  '|move|p2a: Wugtrio|Liquidation|p1a: Goodra',\n  '|-resisted|p1a: Goodra',\n  '|-damage|p1a: Goodra|249/295',\n  '|',\n  '|-weather|SunnyDay|[upkeep]',\n  '|upkeep'],\n ['|turn|9',\n  '|',\n  '|t:|1682727094',\n  '|switch|p2a: Zacian|Zacian-Crowned, L65|228/228',\n  '|-damage|p2a: Zacian|214/228|[from] Stealth Rock',\n  '|-ability|p2a: Zacian|Intrepid Sword|boost',\n  '|-boost|p2a: Zacian|atk|1',\n  '|move|p1a: Goodra|Power Whip|p2a: Zacian',\n  '|-resisted|p2a: Zacian',\n  '|-damage|p2a: Zacian|165/228',\n  '|',\n  '|-weather|SunnyDay|[upkeep]',\n  '|upkeep'],\n ['|turn|10',\n  '|',\n  '|t:|1682727106',\n  '|move|p2a: Zacian|Play Rough|p1a: Goodra',\n  '|-supereffective|p1a: Goodra',\n  '|-damage|p1a: Goodra|0 fnt',\n  '|faint|p1a: Goodra',\n  '|',\n  '|-weather|SunnyDay|[upkeep]',\n  '|upkeep',\n  '|',\n  '|t:|1682727112',\n  '|switch|p1a: Lucario|Lucario, L84, F|255/255']]"
     },
     "execution_count": 3,
     "metadata": {},
     "output_type": "execute_result"
    }
   ],
   "source": [
    "a = ag.utils.make_battle(\"./history/historical_battle.json\", \"./history/historical_teams.json\")\n",
    "len(a)\n",
    "a"
   ]
  },
  {
   "cell_type": "code",
   "execution_count": 4,
   "metadata": {
    "ExecuteTime": {
     "end_time": "2023-05-15T22:07:50.308916Z",
     "start_time": "2023-05-15T22:07:50.265943Z"
    }
   },
   "outputs": [
    {
     "data": {
      "text/plain": "{'id': 'gen9randombattle-1853849625',\n 'p1': 'Savulski.',\n 'p2': 'flyingworkshop',\n 'format': '[Gen 9] Random Battle',\n 'log': \"|j|☆Savulski.\\n|j|☆flyingworkshop\\n|t:|1682726952\\n|gametype|singles\\n|player|p1|Savulski.|steven|1027\\n|player|p2|flyingworkshop|169|1037\\n|teamsize|p1|6\\n|teamsize|p2|6\\n|gen|9\\n|tier|[Gen 9] Random Battle\\n|rated|\\n|rule|Species Clause: Limit one of each Pokémon\\n|rule|HP Percentage Mod: HP is shown in percentages\\n|rule|Sleep Clause Mod: Limit one foe put to sleep\\n|\\n|t:|1682726953\\n|start\\n|switch|p1a: Sudowoodo|Sudowoodo, L91, M|275/275\\n|switch|p2a: Bellibolt|Bellibolt, L85, M|324/324\\n|turn|1\\n|inactive|Battle timer is ON: inactive players will automatically lose when time's up. (requested by flyingworkshop)\\n|\\n|t:|1682726970\\n|move|p2a: Bellibolt|Muddy Water|p1a: Sudowoodo\\n|-supereffective|p1a: Sudowoodo\\n|-damage|p1a: Sudowoodo|103/275\\n|move|p1a: Sudowoodo|Stealth Rock|p2a: Bellibolt\\n|-sidestart|p2: flyingworkshop|move: Stealth Rock\\n|\\n|-heal|p1a: Sudowoodo|120/275|[from] item: Leftovers\\n|upkeep\\n|turn|2\\n|\\n|t:|1682726978\\n|move|p2a: Bellibolt|Muddy Water|p1a: Sudowoodo\\n|-supereffective|p1a: Sudowoodo\\n|-damage|p1a: Sudowoodo|0 fnt\\n|faint|p1a: Sudowoodo\\n|\\n|upkeep\\n|\\n|t:|1682726988\\n|switch|p1a: Tauros|Tauros, L84, M|263/263\\n|-ability|p1a: Tauros|Intimidate|boost\\n|-unboost|p2a: Bellibolt|atk|1\\n|turn|3\\n|\\n|t:|1682727015\\n|move|p1a: Tauros|Earthquake|p2a: Bellibolt\\n|-supereffective|p2a: Bellibolt\\n|-damage|p2a: Bellibolt|126/324\\n|-start|p2a: Bellibolt|Charge|Earthquake|[from] ability: Electromorphosis\\n|move|p2a: Bellibolt|Thunder Wave|p1a: Tauros\\n|-status|p1a: Tauros|par\\n|-end|p2a: Bellibolt|Charge|[silent]\\n|\\n|-heal|p2a: Bellibolt|146/324|[from] item: Leftovers\\n|upkeep\\n|turn|4\\n|\\n|t:|1682727025\\n|switch|p2a: Braviary|Braviary-Hisui, L84, M|322/322\\n|-damage|p2a: Braviary|242/322|[from] Stealth Rock\\n|cant|p1a: Tauros|par\\n|\\n|upkeep\\n|turn|5\\n|\\n|t:|1682727040\\n|move|p2a: Braviary|Psychic|p1a: Tauros\\n|-damage|p1a: Tauros|39/263 par\\n|move|p1a: Tauros|Earthquake|p2a: Braviary\\n|-immune|p2a: Braviary\\n|\\n|upkeep\\n|turn|6\\n|\\n|t:|1682727046\\n|move|p2a: Braviary|Psychic|p1a: Tauros\\n|-damage|p1a: Tauros|0 fnt\\n|faint|p1a: Tauros\\n|\\n|upkeep\\n|\\n|t:|1682727051\\n|switch|p1a: Koraidon|Koraidon, L66|242/242\\n|-weather|SunnyDay|[from] ability: Orichalcum Pulse|[of] p1a: Koraidon\\n|-activate|p1a: Koraidon|Orichalcum Pulse|[source]\\n|turn|7\\n|\\n|t:|1682727066\\n|-terastallize|p1a: Koraidon|Fire\\n|move|p1a: Koraidon|Flare Blitz|p2a: Braviary\\n|-damage|p2a: Braviary|0 fnt\\n|faint|p2a: Braviary\\n|-damage|p1a: Koraidon|162/242|[from] Recoil\\n|\\n|-weather|SunnyDay|[upkeep]\\n|upkeep\\n|\\n|t:|1682727077\\n|switch|p2a: Wugtrio|Wugtrio, L90, M|209/209\\n|-damage|p2a: Wugtrio|183/209|[from] Stealth Rock\\n|turn|8\\n|\\n|t:|1682727085\\n|switch|p1a: Goodra|Goodra, L86, M|295/295\\n|move|p2a: Wugtrio|Liquidation|p1a: Goodra\\n|-resisted|p1a: Goodra\\n|-damage|p1a: Goodra|249/295\\n|\\n|-weather|SunnyDay|[upkeep]\\n|upkeep\\n|turn|9\\n|\\n|t:|1682727094\\n|switch|p2a: Zacian|Zacian-Crowned, L65|228/228\\n|-damage|p2a: Zacian|214/228|[from] Stealth Rock\\n|-ability|p2a: Zacian|Intrepid Sword|boost\\n|-boost|p2a: Zacian|atk|1\\n|move|p1a: Goodra|Power Whip|p2a: Zacian\\n|-resisted|p2a: Zacian\\n|-damage|p2a: Zacian|165/228\\n|\\n|-weather|SunnyDay|[upkeep]\\n|upkeep\\n|turn|10\\n|\\n|t:|1682727106\\n|move|p2a: Zacian|Play Rough|p1a: Goodra\\n|-supereffective|p1a: Goodra\\n|-damage|p1a: Goodra|0 fnt\\n|faint|p1a: Goodra\\n|\\n|-weather|SunnyDay|[upkeep]\\n|upkeep\\n|\\n|t:|1682727112\\n|switch|p1a: Lucario|Lucario, L84, F|255/255\\n|turn|11\\n|\\n|t:|1682727118\\n|move|p1a: Lucario|Vacuum Wave|p2a: Zacian\\n|-damage|p2a: Zacian|103/228\\n|-damage|p1a: Lucario|230/255|[from] item: Life Orb\\n|move|p2a: Zacian|Close Combat|p1a: Lucario\\n|-supereffective|p1a: Lucario\\n|-damage|p1a: Lucario|0 fnt\\n|-unboost|p2a: Zacian|def|1\\n|-unboost|p2a: Zacian|spd|1\\n|faint|p1a: Lucario\\n|\\n|-weather|none\\n|upkeep\\n|-message|Savulski. forfeited.\\n|\\n|win|flyingworkshop\\n|raw|Savulski.'s rating: 1027 &rarr; <strong>1013</strong><br />(-14 for losing)\\n|raw|flyingworkshop's rating: 1037 &rarr; <strong>1070</strong><br />(+33 for winning)\\n|l|☆Savulski.\\n\",\n 'inputlog': '>version 11aa08f14d0be3c94e9974100bf22ca03189d1b0\\n>start {\"formatid\":\"gen9randombattle\",\"seed\":[23347,52119,53248,51954],\"rated\":\"Rated battle\"}\\n>player p1 {\"name\":\"Savulski.\",\"avatar\":\"steven\",\"rating\":1027,\"seed\":[63966,576,44559,57443]}\\n>player p2 {\"name\":\"flyingworkshop\",\"avatar\":\"169\",\"rating\":1037,\"seed\":[39989,60288,53376,59523]}\\n>p1 move stealthrock\\n>p2 move muddywater\\n>p1 move headsmash\\n>p2 move muddywater\\n>p1 switch 5\\n>p1 move earthquake\\n>p2 move thunderwave\\n>p1 move earthquake\\n>p2 switch 4\\n>p1 move earthquake\\n>p2 move psychic\\n>p1 move earthquake\\n>p2 move psychic\\n>p1 switch 3\\n>p1 move flareblitz terastallize\\n>p2 move psychic\\n>p2 switch 6\\n>p1 switch 6\\n>p2 move liquidation\\n>p1 move powerwhip\\n>p2 switch 3\\n>p1 move sludgebomb\\n>p2 move playrough\\n>p1 switch 4\\n>p1 move vacuumwave\\n>p2 move closecombat\\n>forcelose p1',\n 'uploadtime': 1682727138,\n 'views': 1,\n 'p1id': 'savulski',\n 'p2id': 'flyingworkshop',\n 'formatid': 'gen9randombattle',\n 'rating': 1013,\n 'private': 1,\n 'password': 'osw1xyiaehn5ekmbxcah8xa9mgr503k'}"
     },
     "execution_count": 4,
     "metadata": {},
     "output_type": "execute_result"
    }
   ],
   "source": [
    "from poke_env.player_configuration import PlayerConfiguration\n",
    "from poke_env.environment.battle import Battle\n",
    "\n",
    "with open(\"./history/historical_battle.json\") as f:\n",
    "    battle_data = json.load(f)\n",
    "\n",
    "#battle_data\n",
    "\n",
    "battle_data"
   ]
  },
  {
   "cell_type": "code",
   "execution_count": 5,
   "metadata": {
    "ExecuteTime": {
     "end_time": "2023-05-15T22:07:50.373134Z",
     "start_time": "2023-05-15T22:07:50.291526Z"
    }
   },
   "outputs": [],
   "source": [
    "pattern = r'\\[Gen ([89])\\]'\n",
    "gen = int(re.findall(pattern, battle_data['format'])[0])\n",
    "#print(int(matches[0]))\n",
    "\n",
    "MESSAGES_TO_IGNORE = {\"\", \"t:\", \"expire\"}\n",
    "\n",
    "battle = Battle(battle_data['id'], battle_data['p1'], battle_data['log'], gen)\n",
    "battle._opponent_username = battle_data['p2']"
   ]
  },
  {
   "cell_type": "code",
   "execution_count": 6,
   "metadata": {
    "ExecuteTime": {
     "end_time": "2023-05-15T22:07:50.391819Z",
     "start_time": "2023-05-15T22:07:50.333274Z"
    }
   },
   "outputs": [
    {
     "data": {
      "text/plain": "'flyingworkshop'"
     },
     "execution_count": 6,
     "metadata": {},
     "output_type": "execute_result"
    }
   ],
   "source": [
    "battle.opponent_username\n"
   ]
  },
  {
   "cell_type": "code",
   "execution_count": 7,
   "metadata": {
    "ExecuteTime": {
     "end_time": "2023-05-15T22:07:51.214152Z",
     "start_time": "2023-05-15T22:07:50.353268Z"
    }
   },
   "outputs": [
    {
     "ename": "PyPokedexError",
     "evalue": "An internal requests exception occurred!",
     "output_type": "error",
     "traceback": [
      "\u001B[0;31m---------------------------------------------------------------------------\u001B[0m",
      "\u001B[0;31mgaierror\u001B[0m                                  Traceback (most recent call last)",
      "File \u001B[0;32m~/PycharmProjects/PokeBot/venv/lib/python3.10/site-packages/urllib3/connection.py:174\u001B[0m, in \u001B[0;36mHTTPConnection._new_conn\u001B[0;34m(self)\u001B[0m\n\u001B[1;32m    173\u001B[0m \u001B[38;5;28;01mtry\u001B[39;00m:\n\u001B[0;32m--> 174\u001B[0m     conn \u001B[38;5;241m=\u001B[39m \u001B[43mconnection\u001B[49m\u001B[38;5;241;43m.\u001B[39;49m\u001B[43mcreate_connection\u001B[49m\u001B[43m(\u001B[49m\n\u001B[1;32m    175\u001B[0m \u001B[43m        \u001B[49m\u001B[43m(\u001B[49m\u001B[38;5;28;43mself\u001B[39;49m\u001B[38;5;241;43m.\u001B[39;49m\u001B[43m_dns_host\u001B[49m\u001B[43m,\u001B[49m\u001B[43m \u001B[49m\u001B[38;5;28;43mself\u001B[39;49m\u001B[38;5;241;43m.\u001B[39;49m\u001B[43mport\u001B[49m\u001B[43m)\u001B[49m\u001B[43m,\u001B[49m\u001B[43m \u001B[49m\u001B[38;5;28;43mself\u001B[39;49m\u001B[38;5;241;43m.\u001B[39;49m\u001B[43mtimeout\u001B[49m\u001B[43m,\u001B[49m\u001B[43m \u001B[49m\u001B[38;5;241;43m*\u001B[39;49m\u001B[38;5;241;43m*\u001B[39;49m\u001B[43mextra_kw\u001B[49m\n\u001B[1;32m    176\u001B[0m \u001B[43m    \u001B[49m\u001B[43m)\u001B[49m\n\u001B[1;32m    178\u001B[0m \u001B[38;5;28;01mexcept\u001B[39;00m SocketTimeout:\n",
      "File \u001B[0;32m~/PycharmProjects/PokeBot/venv/lib/python3.10/site-packages/urllib3/util/connection.py:72\u001B[0m, in \u001B[0;36mcreate_connection\u001B[0;34m(address, timeout, source_address, socket_options)\u001B[0m\n\u001B[1;32m     68\u001B[0m     \u001B[38;5;28;01mreturn\u001B[39;00m six\u001B[38;5;241m.\u001B[39mraise_from(\n\u001B[1;32m     69\u001B[0m         LocationParseError(\u001B[38;5;124mu\u001B[39m\u001B[38;5;124m\"\u001B[39m\u001B[38;5;124m'\u001B[39m\u001B[38;5;132;01m%s\u001B[39;00m\u001B[38;5;124m'\u001B[39m\u001B[38;5;124m, label empty or too long\u001B[39m\u001B[38;5;124m\"\u001B[39m \u001B[38;5;241m%\u001B[39m host), \u001B[38;5;28;01mNone\u001B[39;00m\n\u001B[1;32m     70\u001B[0m     )\n\u001B[0;32m---> 72\u001B[0m \u001B[38;5;28;01mfor\u001B[39;00m res \u001B[38;5;129;01min\u001B[39;00m \u001B[43msocket\u001B[49m\u001B[38;5;241;43m.\u001B[39;49m\u001B[43mgetaddrinfo\u001B[49m\u001B[43m(\u001B[49m\u001B[43mhost\u001B[49m\u001B[43m,\u001B[49m\u001B[43m \u001B[49m\u001B[43mport\u001B[49m\u001B[43m,\u001B[49m\u001B[43m \u001B[49m\u001B[43mfamily\u001B[49m\u001B[43m,\u001B[49m\u001B[43m \u001B[49m\u001B[43msocket\u001B[49m\u001B[38;5;241;43m.\u001B[39;49m\u001B[43mSOCK_STREAM\u001B[49m\u001B[43m)\u001B[49m:\n\u001B[1;32m     73\u001B[0m     af, socktype, proto, canonname, sa \u001B[38;5;241m=\u001B[39m res\n",
      "File \u001B[0;32m/Library/Frameworks/Python.framework/Versions/3.10/lib/python3.10/socket.py:955\u001B[0m, in \u001B[0;36mgetaddrinfo\u001B[0;34m(host, port, family, type, proto, flags)\u001B[0m\n\u001B[1;32m    954\u001B[0m addrlist \u001B[38;5;241m=\u001B[39m []\n\u001B[0;32m--> 955\u001B[0m \u001B[38;5;28;01mfor\u001B[39;00m res \u001B[38;5;129;01min\u001B[39;00m \u001B[43m_socket\u001B[49m\u001B[38;5;241;43m.\u001B[39;49m\u001B[43mgetaddrinfo\u001B[49m\u001B[43m(\u001B[49m\u001B[43mhost\u001B[49m\u001B[43m,\u001B[49m\u001B[43m \u001B[49m\u001B[43mport\u001B[49m\u001B[43m,\u001B[49m\u001B[43m \u001B[49m\u001B[43mfamily\u001B[49m\u001B[43m,\u001B[49m\u001B[43m \u001B[49m\u001B[38;5;28;43mtype\u001B[39;49m\u001B[43m,\u001B[49m\u001B[43m \u001B[49m\u001B[43mproto\u001B[49m\u001B[43m,\u001B[49m\u001B[43m \u001B[49m\u001B[43mflags\u001B[49m\u001B[43m)\u001B[49m:\n\u001B[1;32m    956\u001B[0m     af, socktype, proto, canonname, sa \u001B[38;5;241m=\u001B[39m res\n",
      "\u001B[0;31mgaierror\u001B[0m: [Errno 8] nodename nor servname provided, or not known",
      "\nDuring handling of the above exception, another exception occurred:\n",
      "\u001B[0;31mNewConnectionError\u001B[0m                        Traceback (most recent call last)",
      "File \u001B[0;32m~/PycharmProjects/PokeBot/venv/lib/python3.10/site-packages/urllib3/connectionpool.py:703\u001B[0m, in \u001B[0;36mHTTPConnectionPool.urlopen\u001B[0;34m(self, method, url, body, headers, retries, redirect, assert_same_host, timeout, pool_timeout, release_conn, chunked, body_pos, **response_kw)\u001B[0m\n\u001B[1;32m    702\u001B[0m \u001B[38;5;66;03m# Make the request on the httplib connection object.\u001B[39;00m\n\u001B[0;32m--> 703\u001B[0m httplib_response \u001B[38;5;241m=\u001B[39m \u001B[38;5;28;43mself\u001B[39;49m\u001B[38;5;241;43m.\u001B[39;49m\u001B[43m_make_request\u001B[49m\u001B[43m(\u001B[49m\n\u001B[1;32m    704\u001B[0m \u001B[43m    \u001B[49m\u001B[43mconn\u001B[49m\u001B[43m,\u001B[49m\n\u001B[1;32m    705\u001B[0m \u001B[43m    \u001B[49m\u001B[43mmethod\u001B[49m\u001B[43m,\u001B[49m\n\u001B[1;32m    706\u001B[0m \u001B[43m    \u001B[49m\u001B[43murl\u001B[49m\u001B[43m,\u001B[49m\n\u001B[1;32m    707\u001B[0m \u001B[43m    \u001B[49m\u001B[43mtimeout\u001B[49m\u001B[38;5;241;43m=\u001B[39;49m\u001B[43mtimeout_obj\u001B[49m\u001B[43m,\u001B[49m\n\u001B[1;32m    708\u001B[0m \u001B[43m    \u001B[49m\u001B[43mbody\u001B[49m\u001B[38;5;241;43m=\u001B[39;49m\u001B[43mbody\u001B[49m\u001B[43m,\u001B[49m\n\u001B[1;32m    709\u001B[0m \u001B[43m    \u001B[49m\u001B[43mheaders\u001B[49m\u001B[38;5;241;43m=\u001B[39;49m\u001B[43mheaders\u001B[49m\u001B[43m,\u001B[49m\n\u001B[1;32m    710\u001B[0m \u001B[43m    \u001B[49m\u001B[43mchunked\u001B[49m\u001B[38;5;241;43m=\u001B[39;49m\u001B[43mchunked\u001B[49m\u001B[43m,\u001B[49m\n\u001B[1;32m    711\u001B[0m \u001B[43m\u001B[49m\u001B[43m)\u001B[49m\n\u001B[1;32m    713\u001B[0m \u001B[38;5;66;03m# If we're going to release the connection in ``finally:``, then\u001B[39;00m\n\u001B[1;32m    714\u001B[0m \u001B[38;5;66;03m# the response doesn't need to know about the connection. Otherwise\u001B[39;00m\n\u001B[1;32m    715\u001B[0m \u001B[38;5;66;03m# it will also try to release it and we'll have a double-release\u001B[39;00m\n\u001B[1;32m    716\u001B[0m \u001B[38;5;66;03m# mess.\u001B[39;00m\n",
      "File \u001B[0;32m~/PycharmProjects/PokeBot/venv/lib/python3.10/site-packages/urllib3/connectionpool.py:386\u001B[0m, in \u001B[0;36mHTTPConnectionPool._make_request\u001B[0;34m(self, conn, method, url, timeout, chunked, **httplib_request_kw)\u001B[0m\n\u001B[1;32m    385\u001B[0m \u001B[38;5;28;01mtry\u001B[39;00m:\n\u001B[0;32m--> 386\u001B[0m     \u001B[38;5;28;43mself\u001B[39;49m\u001B[38;5;241;43m.\u001B[39;49m\u001B[43m_validate_conn\u001B[49m\u001B[43m(\u001B[49m\u001B[43mconn\u001B[49m\u001B[43m)\u001B[49m\n\u001B[1;32m    387\u001B[0m \u001B[38;5;28;01mexcept\u001B[39;00m (SocketTimeout, BaseSSLError) \u001B[38;5;28;01mas\u001B[39;00m e:\n\u001B[1;32m    388\u001B[0m     \u001B[38;5;66;03m# Py2 raises this as a BaseSSLError, Py3 raises it as socket timeout.\u001B[39;00m\n",
      "File \u001B[0;32m~/PycharmProjects/PokeBot/venv/lib/python3.10/site-packages/urllib3/connectionpool.py:1042\u001B[0m, in \u001B[0;36mHTTPSConnectionPool._validate_conn\u001B[0;34m(self, conn)\u001B[0m\n\u001B[1;32m   1041\u001B[0m \u001B[38;5;28;01mif\u001B[39;00m \u001B[38;5;129;01mnot\u001B[39;00m \u001B[38;5;28mgetattr\u001B[39m(conn, \u001B[38;5;124m\"\u001B[39m\u001B[38;5;124msock\u001B[39m\u001B[38;5;124m\"\u001B[39m, \u001B[38;5;28;01mNone\u001B[39;00m):  \u001B[38;5;66;03m# AppEngine might not have  `.sock`\u001B[39;00m\n\u001B[0;32m-> 1042\u001B[0m     \u001B[43mconn\u001B[49m\u001B[38;5;241;43m.\u001B[39;49m\u001B[43mconnect\u001B[49m\u001B[43m(\u001B[49m\u001B[43m)\u001B[49m\n\u001B[1;32m   1044\u001B[0m \u001B[38;5;28;01mif\u001B[39;00m \u001B[38;5;129;01mnot\u001B[39;00m conn\u001B[38;5;241m.\u001B[39mis_verified:\n",
      "File \u001B[0;32m~/PycharmProjects/PokeBot/venv/lib/python3.10/site-packages/urllib3/connection.py:363\u001B[0m, in \u001B[0;36mHTTPSConnection.connect\u001B[0;34m(self)\u001B[0m\n\u001B[1;32m    361\u001B[0m \u001B[38;5;28;01mdef\u001B[39;00m \u001B[38;5;21mconnect\u001B[39m(\u001B[38;5;28mself\u001B[39m):\n\u001B[1;32m    362\u001B[0m     \u001B[38;5;66;03m# Add certificate verification\u001B[39;00m\n\u001B[0;32m--> 363\u001B[0m     \u001B[38;5;28mself\u001B[39m\u001B[38;5;241m.\u001B[39msock \u001B[38;5;241m=\u001B[39m conn \u001B[38;5;241m=\u001B[39m \u001B[38;5;28;43mself\u001B[39;49m\u001B[38;5;241;43m.\u001B[39;49m\u001B[43m_new_conn\u001B[49m\u001B[43m(\u001B[49m\u001B[43m)\u001B[49m\n\u001B[1;32m    364\u001B[0m     hostname \u001B[38;5;241m=\u001B[39m \u001B[38;5;28mself\u001B[39m\u001B[38;5;241m.\u001B[39mhost\n",
      "File \u001B[0;32m~/PycharmProjects/PokeBot/venv/lib/python3.10/site-packages/urllib3/connection.py:186\u001B[0m, in \u001B[0;36mHTTPConnection._new_conn\u001B[0;34m(self)\u001B[0m\n\u001B[1;32m    185\u001B[0m \u001B[38;5;28;01mexcept\u001B[39;00m SocketError \u001B[38;5;28;01mas\u001B[39;00m e:\n\u001B[0;32m--> 186\u001B[0m     \u001B[38;5;28;01mraise\u001B[39;00m NewConnectionError(\n\u001B[1;32m    187\u001B[0m         \u001B[38;5;28mself\u001B[39m, \u001B[38;5;124m\"\u001B[39m\u001B[38;5;124mFailed to establish a new connection: \u001B[39m\u001B[38;5;132;01m%s\u001B[39;00m\u001B[38;5;124m\"\u001B[39m \u001B[38;5;241m%\u001B[39m e\n\u001B[1;32m    188\u001B[0m     )\n\u001B[1;32m    190\u001B[0m \u001B[38;5;28;01mreturn\u001B[39;00m conn\n",
      "\u001B[0;31mNewConnectionError\u001B[0m: <urllib3.connection.HTTPSConnection object at 0x1127e6fe0>: Failed to establish a new connection: [Errno 8] nodename nor servname provided, or not known",
      "\nDuring handling of the above exception, another exception occurred:\n",
      "\u001B[0;31mMaxRetryError\u001B[0m                             Traceback (most recent call last)",
      "File \u001B[0;32m~/PycharmProjects/PokeBot/venv/lib/python3.10/site-packages/requests/adapters.py:487\u001B[0m, in \u001B[0;36mHTTPAdapter.send\u001B[0;34m(self, request, stream, timeout, verify, cert, proxies)\u001B[0m\n\u001B[1;32m    486\u001B[0m \u001B[38;5;28;01mtry\u001B[39;00m:\n\u001B[0;32m--> 487\u001B[0m     resp \u001B[38;5;241m=\u001B[39m \u001B[43mconn\u001B[49m\u001B[38;5;241;43m.\u001B[39;49m\u001B[43murlopen\u001B[49m\u001B[43m(\u001B[49m\n\u001B[1;32m    488\u001B[0m \u001B[43m        \u001B[49m\u001B[43mmethod\u001B[49m\u001B[38;5;241;43m=\u001B[39;49m\u001B[43mrequest\u001B[49m\u001B[38;5;241;43m.\u001B[39;49m\u001B[43mmethod\u001B[49m\u001B[43m,\u001B[49m\n\u001B[1;32m    489\u001B[0m \u001B[43m        \u001B[49m\u001B[43murl\u001B[49m\u001B[38;5;241;43m=\u001B[39;49m\u001B[43murl\u001B[49m\u001B[43m,\u001B[49m\n\u001B[1;32m    490\u001B[0m \u001B[43m        \u001B[49m\u001B[43mbody\u001B[49m\u001B[38;5;241;43m=\u001B[39;49m\u001B[43mrequest\u001B[49m\u001B[38;5;241;43m.\u001B[39;49m\u001B[43mbody\u001B[49m\u001B[43m,\u001B[49m\n\u001B[1;32m    491\u001B[0m \u001B[43m        \u001B[49m\u001B[43mheaders\u001B[49m\u001B[38;5;241;43m=\u001B[39;49m\u001B[43mrequest\u001B[49m\u001B[38;5;241;43m.\u001B[39;49m\u001B[43mheaders\u001B[49m\u001B[43m,\u001B[49m\n\u001B[1;32m    492\u001B[0m \u001B[43m        \u001B[49m\u001B[43mredirect\u001B[49m\u001B[38;5;241;43m=\u001B[39;49m\u001B[38;5;28;43;01mFalse\u001B[39;49;00m\u001B[43m,\u001B[49m\n\u001B[1;32m    493\u001B[0m \u001B[43m        \u001B[49m\u001B[43massert_same_host\u001B[49m\u001B[38;5;241;43m=\u001B[39;49m\u001B[38;5;28;43;01mFalse\u001B[39;49;00m\u001B[43m,\u001B[49m\n\u001B[1;32m    494\u001B[0m \u001B[43m        \u001B[49m\u001B[43mpreload_content\u001B[49m\u001B[38;5;241;43m=\u001B[39;49m\u001B[38;5;28;43;01mFalse\u001B[39;49;00m\u001B[43m,\u001B[49m\n\u001B[1;32m    495\u001B[0m \u001B[43m        \u001B[49m\u001B[43mdecode_content\u001B[49m\u001B[38;5;241;43m=\u001B[39;49m\u001B[38;5;28;43;01mFalse\u001B[39;49;00m\u001B[43m,\u001B[49m\n\u001B[1;32m    496\u001B[0m \u001B[43m        \u001B[49m\u001B[43mretries\u001B[49m\u001B[38;5;241;43m=\u001B[39;49m\u001B[38;5;28;43mself\u001B[39;49m\u001B[38;5;241;43m.\u001B[39;49m\u001B[43mmax_retries\u001B[49m\u001B[43m,\u001B[49m\n\u001B[1;32m    497\u001B[0m \u001B[43m        \u001B[49m\u001B[43mtimeout\u001B[49m\u001B[38;5;241;43m=\u001B[39;49m\u001B[43mtimeout\u001B[49m\u001B[43m,\u001B[49m\n\u001B[1;32m    498\u001B[0m \u001B[43m        \u001B[49m\u001B[43mchunked\u001B[49m\u001B[38;5;241;43m=\u001B[39;49m\u001B[43mchunked\u001B[49m\u001B[43m,\u001B[49m\n\u001B[1;32m    499\u001B[0m \u001B[43m    \u001B[49m\u001B[43m)\u001B[49m\n\u001B[1;32m    501\u001B[0m \u001B[38;5;28;01mexcept\u001B[39;00m (ProtocolError, \u001B[38;5;167;01mOSError\u001B[39;00m) \u001B[38;5;28;01mas\u001B[39;00m err:\n",
      "File \u001B[0;32m~/PycharmProjects/PokeBot/venv/lib/python3.10/site-packages/urllib3/connectionpool.py:787\u001B[0m, in \u001B[0;36mHTTPConnectionPool.urlopen\u001B[0;34m(self, method, url, body, headers, retries, redirect, assert_same_host, timeout, pool_timeout, release_conn, chunked, body_pos, **response_kw)\u001B[0m\n\u001B[1;32m    785\u001B[0m     e \u001B[38;5;241m=\u001B[39m ProtocolError(\u001B[38;5;124m\"\u001B[39m\u001B[38;5;124mConnection aborted.\u001B[39m\u001B[38;5;124m\"\u001B[39m, e)\n\u001B[0;32m--> 787\u001B[0m retries \u001B[38;5;241m=\u001B[39m \u001B[43mretries\u001B[49m\u001B[38;5;241;43m.\u001B[39;49m\u001B[43mincrement\u001B[49m\u001B[43m(\u001B[49m\n\u001B[1;32m    788\u001B[0m \u001B[43m    \u001B[49m\u001B[43mmethod\u001B[49m\u001B[43m,\u001B[49m\u001B[43m \u001B[49m\u001B[43murl\u001B[49m\u001B[43m,\u001B[49m\u001B[43m \u001B[49m\u001B[43merror\u001B[49m\u001B[38;5;241;43m=\u001B[39;49m\u001B[43me\u001B[49m\u001B[43m,\u001B[49m\u001B[43m \u001B[49m\u001B[43m_pool\u001B[49m\u001B[38;5;241;43m=\u001B[39;49m\u001B[38;5;28;43mself\u001B[39;49m\u001B[43m,\u001B[49m\u001B[43m \u001B[49m\u001B[43m_stacktrace\u001B[49m\u001B[38;5;241;43m=\u001B[39;49m\u001B[43msys\u001B[49m\u001B[38;5;241;43m.\u001B[39;49m\u001B[43mexc_info\u001B[49m\u001B[43m(\u001B[49m\u001B[43m)\u001B[49m\u001B[43m[\u001B[49m\u001B[38;5;241;43m2\u001B[39;49m\u001B[43m]\u001B[49m\n\u001B[1;32m    789\u001B[0m \u001B[43m\u001B[49m\u001B[43m)\u001B[49m\n\u001B[1;32m    790\u001B[0m retries\u001B[38;5;241m.\u001B[39msleep()\n",
      "File \u001B[0;32m~/PycharmProjects/PokeBot/venv/lib/python3.10/site-packages/urllib3/util/retry.py:592\u001B[0m, in \u001B[0;36mRetry.increment\u001B[0;34m(self, method, url, response, error, _pool, _stacktrace)\u001B[0m\n\u001B[1;32m    591\u001B[0m \u001B[38;5;28;01mif\u001B[39;00m new_retry\u001B[38;5;241m.\u001B[39mis_exhausted():\n\u001B[0;32m--> 592\u001B[0m     \u001B[38;5;28;01mraise\u001B[39;00m MaxRetryError(_pool, url, error \u001B[38;5;129;01mor\u001B[39;00m ResponseError(cause))\n\u001B[1;32m    594\u001B[0m log\u001B[38;5;241m.\u001B[39mdebug(\u001B[38;5;124m\"\u001B[39m\u001B[38;5;124mIncremented Retry for (url=\u001B[39m\u001B[38;5;124m'\u001B[39m\u001B[38;5;132;01m%s\u001B[39;00m\u001B[38;5;124m'\u001B[39m\u001B[38;5;124m): \u001B[39m\u001B[38;5;132;01m%r\u001B[39;00m\u001B[38;5;124m\"\u001B[39m, url, new_retry)\n",
      "\u001B[0;31mMaxRetryError\u001B[0m: HTTPSConnectionPool(host='pokeapi.co', port=443): Max retries exceeded with url: /api/v2/pokemon/corviknight (Caused by NewConnectionError('<urllib3.connection.HTTPSConnection object at 0x1127e6fe0>: Failed to establish a new connection: [Errno 8] nodename nor servname provided, or not known'))",
      "\nDuring handling of the above exception, another exception occurred:\n",
      "\u001B[0;31mConnectionError\u001B[0m                           Traceback (most recent call last)",
      "File \u001B[0;32m~/PycharmProjects/PokeBot/venv/lib/python3.10/site-packages/pypokedex/api.py:24\u001B[0m, in \u001B[0;36mget\u001B[0;34m(**kwargs)\u001B[0m\n\u001B[1;32m     23\u001B[0m \u001B[38;5;28;01mtry\u001B[39;00m:\n\u001B[0;32m---> 24\u001B[0m     response \u001B[38;5;241m=\u001B[39m \u001B[43mrequests\u001B[49m\u001B[38;5;241;43m.\u001B[39;49m\u001B[43mget\u001B[49m\u001B[43m(\u001B[49m\u001B[38;5;124;43mf\u001B[39;49m\u001B[38;5;124;43m'\u001B[39;49m\u001B[38;5;132;43;01m{\u001B[39;49;00m\u001B[43mPOKEAPI_BASE_URL\u001B[49m\u001B[38;5;132;43;01m}\u001B[39;49;00m\u001B[38;5;124;43m/\u001B[39;49m\u001B[38;5;132;43;01m{\u001B[39;49;00m\u001B[43msubpage\u001B[49m\u001B[38;5;132;43;01m}\u001B[39;49;00m\u001B[38;5;124;43m'\u001B[39;49m\u001B[43m,\u001B[49m\u001B[43m \u001B[49m\u001B[43mtimeout\u001B[49m\u001B[38;5;241;43m=\u001B[39;49m\u001B[38;5;241;43m3\u001B[39;49m\u001B[43m)\u001B[49m\n\u001B[1;32m     25\u001B[0m     response\u001B[38;5;241m.\u001B[39mraise_for_status()\n",
      "File \u001B[0;32m~/PycharmProjects/PokeBot/venv/lib/python3.10/site-packages/requests/api.py:73\u001B[0m, in \u001B[0;36mget\u001B[0;34m(url, params, **kwargs)\u001B[0m\n\u001B[1;32m     63\u001B[0m \u001B[38;5;250m\u001B[39m\u001B[38;5;124mr\u001B[39m\u001B[38;5;124;03m\"\"\"Sends a GET request.\u001B[39;00m\n\u001B[1;32m     64\u001B[0m \n\u001B[1;32m     65\u001B[0m \u001B[38;5;124;03m:param url: URL for the new :class:`Request` object.\u001B[39;00m\n\u001B[0;32m   (...)\u001B[0m\n\u001B[1;32m     70\u001B[0m \u001B[38;5;124;03m:rtype: requests.Response\u001B[39;00m\n\u001B[1;32m     71\u001B[0m \u001B[38;5;124;03m\"\"\"\u001B[39;00m\n\u001B[0;32m---> 73\u001B[0m \u001B[38;5;28;01mreturn\u001B[39;00m \u001B[43mrequest\u001B[49m\u001B[43m(\u001B[49m\u001B[38;5;124;43m\"\u001B[39;49m\u001B[38;5;124;43mget\u001B[39;49m\u001B[38;5;124;43m\"\u001B[39;49m\u001B[43m,\u001B[49m\u001B[43m \u001B[49m\u001B[43murl\u001B[49m\u001B[43m,\u001B[49m\u001B[43m \u001B[49m\u001B[43mparams\u001B[49m\u001B[38;5;241;43m=\u001B[39;49m\u001B[43mparams\u001B[49m\u001B[43m,\u001B[49m\u001B[43m \u001B[49m\u001B[38;5;241;43m*\u001B[39;49m\u001B[38;5;241;43m*\u001B[39;49m\u001B[43mkwargs\u001B[49m\u001B[43m)\u001B[49m\n",
      "File \u001B[0;32m~/PycharmProjects/PokeBot/venv/lib/python3.10/site-packages/requests/api.py:59\u001B[0m, in \u001B[0;36mrequest\u001B[0;34m(method, url, **kwargs)\u001B[0m\n\u001B[1;32m     58\u001B[0m \u001B[38;5;28;01mwith\u001B[39;00m sessions\u001B[38;5;241m.\u001B[39mSession() \u001B[38;5;28;01mas\u001B[39;00m session:\n\u001B[0;32m---> 59\u001B[0m     \u001B[38;5;28;01mreturn\u001B[39;00m \u001B[43msession\u001B[49m\u001B[38;5;241;43m.\u001B[39;49m\u001B[43mrequest\u001B[49m\u001B[43m(\u001B[49m\u001B[43mmethod\u001B[49m\u001B[38;5;241;43m=\u001B[39;49m\u001B[43mmethod\u001B[49m\u001B[43m,\u001B[49m\u001B[43m \u001B[49m\u001B[43murl\u001B[49m\u001B[38;5;241;43m=\u001B[39;49m\u001B[43murl\u001B[49m\u001B[43m,\u001B[49m\u001B[43m \u001B[49m\u001B[38;5;241;43m*\u001B[39;49m\u001B[38;5;241;43m*\u001B[39;49m\u001B[43mkwargs\u001B[49m\u001B[43m)\u001B[49m\n",
      "File \u001B[0;32m~/PycharmProjects/PokeBot/venv/lib/python3.10/site-packages/requests/sessions.py:587\u001B[0m, in \u001B[0;36mSession.request\u001B[0;34m(self, method, url, params, data, headers, cookies, files, auth, timeout, allow_redirects, proxies, hooks, stream, verify, cert, json)\u001B[0m\n\u001B[1;32m    586\u001B[0m send_kwargs\u001B[38;5;241m.\u001B[39mupdate(settings)\n\u001B[0;32m--> 587\u001B[0m resp \u001B[38;5;241m=\u001B[39m \u001B[38;5;28;43mself\u001B[39;49m\u001B[38;5;241;43m.\u001B[39;49m\u001B[43msend\u001B[49m\u001B[43m(\u001B[49m\u001B[43mprep\u001B[49m\u001B[43m,\u001B[49m\u001B[43m \u001B[49m\u001B[38;5;241;43m*\u001B[39;49m\u001B[38;5;241;43m*\u001B[39;49m\u001B[43msend_kwargs\u001B[49m\u001B[43m)\u001B[49m\n\u001B[1;32m    589\u001B[0m \u001B[38;5;28;01mreturn\u001B[39;00m resp\n",
      "File \u001B[0;32m~/PycharmProjects/PokeBot/venv/lib/python3.10/site-packages/requests/sessions.py:701\u001B[0m, in \u001B[0;36mSession.send\u001B[0;34m(self, request, **kwargs)\u001B[0m\n\u001B[1;32m    700\u001B[0m \u001B[38;5;66;03m# Send the request\u001B[39;00m\n\u001B[0;32m--> 701\u001B[0m r \u001B[38;5;241m=\u001B[39m \u001B[43madapter\u001B[49m\u001B[38;5;241;43m.\u001B[39;49m\u001B[43msend\u001B[49m\u001B[43m(\u001B[49m\u001B[43mrequest\u001B[49m\u001B[43m,\u001B[49m\u001B[43m \u001B[49m\u001B[38;5;241;43m*\u001B[39;49m\u001B[38;5;241;43m*\u001B[39;49m\u001B[43mkwargs\u001B[49m\u001B[43m)\u001B[49m\n\u001B[1;32m    703\u001B[0m \u001B[38;5;66;03m# Total elapsed time of the request (approximately)\u001B[39;00m\n",
      "File \u001B[0;32m~/PycharmProjects/PokeBot/venv/lib/python3.10/site-packages/requests/adapters.py:520\u001B[0m, in \u001B[0;36mHTTPAdapter.send\u001B[0;34m(self, request, stream, timeout, verify, cert, proxies)\u001B[0m\n\u001B[1;32m    518\u001B[0m         \u001B[38;5;28;01mraise\u001B[39;00m SSLError(e, request\u001B[38;5;241m=\u001B[39mrequest)\n\u001B[0;32m--> 520\u001B[0m     \u001B[38;5;28;01mraise\u001B[39;00m \u001B[38;5;167;01mConnectionError\u001B[39;00m(e, request\u001B[38;5;241m=\u001B[39mrequest)\n\u001B[1;32m    522\u001B[0m \u001B[38;5;28;01mexcept\u001B[39;00m ClosedPoolError \u001B[38;5;28;01mas\u001B[39;00m e:\n",
      "\u001B[0;31mConnectionError\u001B[0m: HTTPSConnectionPool(host='pokeapi.co', port=443): Max retries exceeded with url: /api/v2/pokemon/corviknight (Caused by NewConnectionError('<urllib3.connection.HTTPSConnection object at 0x1127e6fe0>: Failed to establish a new connection: [Errno 8] nodename nor servname provided, or not known'))",
      "\nThe above exception was the direct cause of the following exception:\n",
      "\u001B[0;31mPyPokedexError\u001B[0m                            Traceback (most recent call last)",
      "Cell \u001B[0;32mIn[7], line 3\u001B[0m\n\u001B[1;32m      1\u001B[0m \u001B[38;5;28;01mimport\u001B[39;00m \u001B[38;5;21;01mpypokedex\u001B[39;00m\n\u001B[0;32m----> 3\u001B[0m p\u001B[38;5;241m=\u001B[39m \u001B[43mpypokedex\u001B[49m\u001B[38;5;241;43m.\u001B[39;49m\u001B[43mget\u001B[49m\u001B[43m(\u001B[49m\u001B[43mname\u001B[49m\u001B[43m \u001B[49m\u001B[38;5;241;43m=\u001B[39;49m\u001B[43m \u001B[49m\u001B[38;5;124;43m'\u001B[39;49m\u001B[38;5;124;43mcorviknight\u001B[39;49m\u001B[38;5;124;43m'\u001B[39;49m\u001B[43m)\u001B[49m\n\u001B[1;32m      4\u001B[0m p\u001B[38;5;241m.\u001B[39mbase_stats\u001B[38;5;241m.\u001B[39mhp\n",
      "File \u001B[0;32m~/PycharmProjects/PokeBot/venv/lib/python3.10/site-packages/pypokedex/api.py:36\u001B[0m, in \u001B[0;36mget\u001B[0;34m(**kwargs)\u001B[0m\n\u001B[1;32m     31\u001B[0m     \u001B[38;5;28;01mraise\u001B[39;00m PyPokedexHTTPError(\u001B[38;5;124m'\u001B[39m\u001B[38;5;124mAn HTTP error occurred! \u001B[39m\u001B[38;5;124m'\u001B[39m\n\u001B[1;32m     32\u001B[0m                              \u001B[38;5;124m'\u001B[39m\u001B[38;5;124m(Status code: \u001B[39m\u001B[38;5;132;01m{response.status_code}\u001B[39;00m\u001B[38;5;124m)\u001B[39m\u001B[38;5;124m'\u001B[39m,\n\u001B[1;32m     33\u001B[0m                              response\u001B[38;5;241m.\u001B[39mstatus_code) \u001B[38;5;28;01mfrom\u001B[39;00m \u001B[38;5;21;01merror\u001B[39;00m\n\u001B[1;32m     35\u001B[0m \u001B[38;5;28;01mexcept\u001B[39;00m requests\u001B[38;5;241m.\u001B[39mexceptions\u001B[38;5;241m.\u001B[39mRequestException \u001B[38;5;28;01mas\u001B[39;00m error:\n\u001B[0;32m---> 36\u001B[0m     \u001B[38;5;28;01mraise\u001B[39;00m PyPokedexError(\u001B[38;5;124m'\u001B[39m\u001B[38;5;124mAn internal requests exception \u001B[39m\u001B[38;5;124m'\u001B[39m\n\u001B[1;32m     37\u001B[0m                          \u001B[38;5;124m'\u001B[39m\u001B[38;5;124moccurred!\u001B[39m\u001B[38;5;124m'\u001B[39m) \u001B[38;5;28;01mfrom\u001B[39;00m \u001B[38;5;21;01merror\u001B[39;00m\n\u001B[1;32m     39\u001B[0m \u001B[38;5;28;01mreturn\u001B[39;00m Pokemon(response\u001B[38;5;241m.\u001B[39mjson())\n",
      "\u001B[0;31mPyPokedexError\u001B[0m: An internal requests exception occurred!"
     ]
    }
   ],
   "source": [
    "import pypokedex\n",
    "\n",
    "p= pypokedex.get(name = 'corviknight')\n",
    "p.base_stats.hp"
   ]
  },
  {
   "cell_type": "code",
   "execution_count": null,
   "metadata": {},
   "outputs": [],
   "source": [
    "import logging\n",
    "from poke_env.environment.pokemon import Pokemon, PokemonType\n",
    "import pypokedex\n",
    "\n",
    "logger = logging.getLogger('poke-env')\n",
    "with open(\"./history/historical_battle.json\") as f:\n",
    "    battle_data = json.load(f)\n",
    "\n",
    "history = battle_data['log']\n",
    "\n",
    "history = history.split('\\n')\n",
    "\n",
    "curr_p1_pokemon = None\n",
    "curr_p2_pokemon = None\n",
    "\n",
    "curr_battle = Battle(battle_data['id'], battle_data['p1'],logger, gen)\n",
    "\n",
    "generation_dict = {}\n",
    "\n",
    "gen1 = set([i for i in range(1, 152)])\n",
    "gen2 = set([i for i in range(152, 252)])\n",
    "gen3 = set([i for i in range(252, 387)])\n",
    "gen4 = set([i for i in range(387, 494)])\n",
    "gen5 = set([i for i in range(494, 650)])\n",
    "gen6 = set([i for i in range(650, 722)])\n",
    "gen7 = set([i for i in range(722, 810)])\n",
    "gen8 = set([i for i in range(810, 906)])\n",
    "\n",
    "for i in range(1, 906):\n",
    "    if i in gen1:\n",
    "        generation_dict[i] = 1\n",
    "    elif i in gen2:\n",
    "        generation_dict[i] = 2\n",
    "    elif i in gen3:\n",
    "        generation_dict[i] = 3\n",
    "    elif i in gen4:\n",
    "        generation_dict[i] = 4\n",
    "    elif i in gen5:\n",
    "        generation_dict[i] = 5\n",
    "    elif i in gen6:\n",
    "        generation_dict[i] = 6\n",
    "    elif i in gen7:\n",
    "        generation_dict[i] = 7\n",
    "    elif i in gen8:\n",
    "        generation_dict[i] = 8\n",
    "\n",
    "\n",
    "for idx, line in enumerate(history):\n",
    "    if len(line) <= 1:\n",
    "        continue\n",
    "    \n",
    "    if line.startswith(\"|start\"): # start of battle\n",
    "        switch_regex_pattern = r\"p1a:\\s(.*?)\\|.*?L(\\d+).*?(M|F)\\|(\\d+)/(\\d+)\"\n",
    "        p1_info = history[idx + 1]\n",
    "        p2_info = history[idx + 2]\n",
    "        match1 = re.search(switch_regex_pattern, p1_info)\n",
    "        match2 = re.search(switch_regex_pattern, p2_info)\n",
    "        \n",
    "        if match1:\n",
    "            pokemon_name = match1.group(1)\n",
    "            level = int(match1.group(2))\n",
    "            gender = match1.group(3)\n",
    "            curr_hp = int(match1.group(4))\n",
    "            max_hp = int(match1.group(5))\n",
    "\n",
    "            pokemon1_info = pypokedex.get(name=pokemon_name)\n",
    "\n",
    "            curr_p1_pokemon = Pokemon(gen = generation_dict[pokemon1_info.dex], species = pokemon1_info.name)\n",
    "            curr_p1_pokemon.level = level\n",
    "            curr_p1_pokemon._possible_abilities = [p.name for p in pokemon1_info.abilities]\n",
    "            curr_p1_pokemon._heightm = pokemon1_info.height\n",
    "            curr_p1_pokemon._weightkg = pokemon1_info.weight\n",
    "            curr_p1_pokemon._type_1 = PokemonType.from_name(pokemon1_info.types[0].name)\n",
    "            if len(pokemon1_info.types) > 1:\n",
    "                curr_p1_pokemon._type_2 = PokemonType.from_name(pokemon1_info.types[1].name)\n",
    "            curr_p1_pokemon._active = True\n",
    "            curr_p1_pokemon._current_hp = curr_hp\n",
    "            curr_p1_pokemon._max_hp = max_hp\n",
    "            curr_p1_pokemon._first_turn = True\n",
    "            curr_p1_pokemon._status = None\n",
    "\n",
    "            curr_p1_pokemon._update_from_pokedex(species=pokemon1_info.name)\n",
    "            print(pokemon_name, level, curr_hp, max_hp)\n",
    "        else:\n",
    "            print(\"no match\")\n",
    "        \n",
    "        if match2:\n",
    "            pokemon_name = match2.group(1)\n",
    "            level = int(match2.group(2))\n",
    "            gender = match2.group(3)\n",
    "            curr_hp = int(match2.group(4))\n",
    "            max_hp = int(match2.group(5))\n",
    "\n",
    "            pokemon2_info = pypokedex.get(name=pokemon_name)\n",
    "\n",
    "            curr_p2_pokemon = Pokemon(gen = generation_dict[pokemon2_info.dex], species = pokemon2_info.name)\n",
    "            curr_p2_pokemon.level = level\n",
    "            curr_p2_pokemon._possible_abilities = [p.name for p in pokemon2_info.abilities]\n",
    "            curr_p2_pokemon._heightm = pokemon2_info.height\n",
    "            curr_p2_pokemon._weightkg = pokemon2_info.weight\n",
    "            curr_p2_pokemon._type_1 = PokemonType.from_name(pokemon2_info.types[0].name)\n",
    "            if len(pokemon2_info.types) > 1:\n",
    "                curr_p2_pokemon._type_2 = PokemonType.from_name(pokemon2_info.types[1].name)\n",
    "            curr_p2_pokemon._active = True\n",
    "            curr_p2_pokemon._current_hp = curr_hp\n",
    "            curr_p2_pokemon._max_hp = max_hp\n",
    "            curr_p2_pokemon._first_turn = True\n",
    "            curr_p2_pokemon._status = None\n",
    "\n",
    "            print(pokemon_name, level, curr_hp, max_hp)\n",
    "        \n",
    "    if line.startswith(\"|-weather|\"):\n",
    "        weather_regex = r\"^\\|-weather\\|(\\w+)\\|\\[from\\]\\s(\\w+):\\s(.*?)\\|\\[of\\]\\sp(\\d+)a:\\s(.*?)$\"\n",
    "\n",
    "        match = re.search(weather_regex, line)\n",
    "        weather = match.group(1)\n",
    "        source_type = match.group(2)\n",
    "        source = match.group(3)\n",
    "        player = int(match.group(4))\n",
    "        pokemon_name = match.group(5)\n",
    "\n",
    "\n",
    "    if line.startswith(\"|switch|\"):\n",
    "        pass\n",
    "\n",
    "    if line.startswith(\"|-damage|\"):\n",
    "        \n",
    "        damage_regex = r\"p(\\d+)a:\\s(.*?)\\|(\\d+)/(\\d+)$\"\n",
    "\n",
    "        if 'fnt' not in line:\n",
    "            match = re.search(damage_regex, line)\n",
    "            player = int(match.group(1))\n",
    "            pokemon_name = match.group(2)\n",
    "            curr_hp = int(match.group(3))\n",
    "            max_hp = int(match.group(4))\n",
    "        \n",
    "\n",
    "    if line.startswith(\"|-ability|\"):\n",
    "        ability_regex = r\"p(\\d+)a:\\s(.*?)\\|.*\\|(\\w+)\\|(\\w+)$\"\n",
    "\n",
    "        match = re.search(ability_regex, line)\n",
    "        player = int(match.group(1))\n",
    "        pokemon_name = match.group(2)\n",
    "        ability = match.group(3)\n",
    "        ability_effect = match.group(4)\n",
    "\n",
    "    if line.startswith(\"|move|\"):\n",
    "        pass\n",
    "\n",
    "    if line.startswith(\"|-heal|\"):\n",
    "        heal_regex = r\"p(\\d+)a:\\s(.*?)\\|(\\d+)/(\\d+)\\|\\[from\\]\\s(\\w+):\\s(\\w+)\"\n",
    "\n",
    "        match = re.search(heal_regex, line)\n",
    "        player = int(match.group(1))\n",
    "        pokemon_name = match.group(2)\n",
    "        curr_hp = int(match.group(3))\n",
    "        max_hp = int(match.group(4))\n",
    "        source_type = match.group(5)\n",
    "        source = match.group(6)\n",
    "\n",
    "    if line.startswith(\"|-sidestart|\"):\n",
    "        hazard_regex = r\"p(\\d+):.*?move:\\s(.*?)$\"\n",
    "\n",
    "        match = re.search(hazard_regex, line)\n",
    "        player = int(match.group(1))\n",
    "        hazard = match.group(2)\n",
    "\n",
    "    if line.startswith(\"|-boost|\"):\n",
    "        boost_regex = r\"p(\\d+)a:\\s\\w+\\|(\\w+)\\|(\\d+)\"\n",
    "\n",
    "        match = re.search(boost_regex, line)\n",
    "        player = int(match.group(1))\n",
    "        stat = match.group(2)\n",
    "        amount = int(match.group(3))\n",
    "\n",
    "        # TODO: update pokemon stats\n",
    "\n",
    "    if line.startswith(\"|-unboost|\"):\n",
    "        boost_regex = r\"p(\\d+)a:\\s\\w+\\|(\\w+)\\|(\\d+)\"\n",
    "\n",
    "        match = re.search(boost_regex, line)\n",
    "        player = int(match.group(1))\n",
    "        stat = match.group(2)\n",
    "        amount = int(match.group(3))\n",
    "\n",
    "        TODO: update pokemon stats\n",
    "\n",
    "    if line.startswith(\"|faint|\"):\n",
    "        faint_regex = r\"p(\\d+)a:\\s(.*?)$\"\n",
    "\n",
    "        match = re.search(faint_regex, line)\n",
    "        player = int(match.group(1))\n",
    "        pokemon_name = match.group(2)\n",
    "\n",
    "    if line.startswith(\"|-status|\"):\n",
    "        status_regex = r\"p(\\d+)a:\\s(.*?)\\|(\\w+)\"\n",
    "\n",
    "        match = re.search(status_regex, line)\n",
    "        player = int(match.group(1))\n",
    "        pokemon_name = match.group(2)\n",
    "        status = match.group(3)\n",
    "\n",
    "    if line.startswith(\"|win|\"):\n",
    "        pass\n",
    "     \n",
    "    # if line.startswith(\"|turn|\"):\n",
    "    #     print(line)\n",
    "    #     curr_state = Battle(battle_data['id'], battle_data['p1'],logger, gen)\n",
    "    #     curr_state._opponent_username = battle_data['p2']"
   ]
  },
  {
   "cell_type": "code",
   "execution_count": null,
   "metadata": {},
   "outputs": [],
   "source": [
    "s = r\"p(\\d+)a:\\s(.*?)\\|(\\d+)/(\\d+)$\"\n",
    "\n",
    "match = re.search(s, \"-damage|p1a: Sudowoodo|103/275\")\n",
    "print(match.group(4))"
   ]
  },
  {
   "cell_type": "code",
   "execution_count": null,
   "metadata": {},
   "outputs": [],
   "source": [
    "for line in history.split('\\n'):\n",
    "    print(line)"
   ]
  },
  {
   "cell_type": "code",
   "execution_count": null,
   "metadata": {},
   "outputs": [],
   "source": [
    "for line in battle_data['inputlog'].split('\\n'):\n",
    "    print(line)"
   ]
  }
 ],
 "metadata": {
  "kernelspec": {
   "display_name": "Python 3",
   "language": "python",
   "name": "python3"
  },
  "language_info": {
   "codemirror_mode": {
    "name": "ipython",
    "version": 3
   },
   "file_extension": ".py",
   "mimetype": "text/x-python",
   "name": "python",
   "nbconvert_exporter": "python",
   "pygments_lexer": "ipython3",
   "version": "3.11.2"
  }
 },
 "nbformat": 4,
 "nbformat_minor": 0
}
