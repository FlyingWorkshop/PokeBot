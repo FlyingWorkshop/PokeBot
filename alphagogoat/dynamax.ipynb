{
 "cells": [
  {
   "cell_type": "code",
   "execution_count": 6,
   "metadata": {},
   "outputs": [],
   "source": [
    "from pokedex import make_pokedex\n",
    "from collections import defaultdict\n",
    "from poke_env.environment.move import Move"
   ]
  },
  {
   "cell_type": "code",
   "execution_count": 7,
   "metadata": {},
   "outputs": [
    {
     "name": "stderr",
     "output_type": "stream",
     "text": [
      "100%|██████████| 72/72 [00:00<00:00, 585.55it/s]\n",
      "100%|██████████| 460/460 [00:00<00:00, 8711.66it/s]\n"
     ]
    }
   ],
   "source": [
    "d = make_pokedex()"
   ]
  },
  {
   "cell_type": "code",
   "execution_count": 10,
   "metadata": {},
   "outputs": [],
   "source": [
    "num_types = defaultdict(list)\n",
    "\n",
    "for pokemon, data in d.items():\n",
    "    seen = set()\n",
    "\n",
    "    for move in data['moves']:\n",
    "        converted = Move(gen = 8, move_id = move.replace(' ', '').replace('-', '').replace('\\'', '').lower())\n",
    "        if converted.type not in seen:\n",
    "            seen.add(converted.type)\n",
    "        \n",
    "    num_types[len(seen)].append(pokemon)"
   ]
  },
  {
   "cell_type": "code",
   "execution_count": 12,
   "metadata": {},
   "outputs": [
    {
     "data": {
      "text/plain": [
       "7"
      ]
     },
     "execution_count": 12,
     "metadata": {},
     "output_type": "execute_result"
    }
   ],
   "source": [
    "num_types[max(num_types.keys())]\n",
    "max(num_types.keys())"
   ]
  }
 ],
 "metadata": {
  "kernelspec": {
   "display_name": "Python 3",
   "language": "python",
   "name": "python3"
  },
  "language_info": {
   "codemirror_mode": {
    "name": "ipython",
    "version": 3
   },
   "file_extension": ".py",
   "mimetype": "text/x-python",
   "name": "python",
   "nbconvert_exporter": "python",
   "pygments_lexer": "ipython3",
   "version": "3.11.2"
  },
  "orig_nbformat": 4
 },
 "nbformat": 4,
 "nbformat_minor": 2
}
