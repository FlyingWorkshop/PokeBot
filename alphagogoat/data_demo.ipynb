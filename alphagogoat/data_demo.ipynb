{
 "cells": [
  {
   "cell_type": "code",
   "execution_count": 1,
   "metadata": {},
   "outputs": [],
   "source": [
    "%load_ext autoreload\n",
    "%autoreload 2"
   ]
  },
  {
   "cell_type": "code",
   "execution_count": 2,
   "metadata": {},
   "outputs": [
    {
     "name": "stderr",
     "output_type": "stream",
     "text": [
      "100%|██████████| 96/96 [00:00<00:00, 517.69it/s]\n",
      "100%|██████████| 460/460 [00:00<00:00, 35778.29it/s]\n",
      " 90%|█████████ | 263/291 [01:06<00:09,  3.02it/s]2023-05-24 20:05:12,220 - poke-env - WARNING - Unmanaged move message format received - cleaned up message ['', 'move', 'p1a: Type: Null', 'Rest', 'p1a: Type: Null', '[from]Sleep Talk'] in battle gen8randombattle-1200357629 turn 14\n",
      "2023-05-24 20:05:15,533 - poke-env - WARNING - Unmanaged move message format received - cleaned up message ['', 'move', 'p1a: Type: Null', 'Crush Claw', 'p2a: Ninetales', '[from]Sleep Talk'] in battle gen8randombattle-1200357629 turn 26\n",
      "2023-05-24 20:05:15,629 - poke-env - WARNING - Unmanaged move message format received - cleaned up message ['', 'move', 'p1a: Type: Null', 'Swords Dance', 'p1a: Type: Null', '[from]Sleep Talk'] in battle gen8randombattle-1200357629 turn 31\n",
      " 91%|█████████ | 265/291 [01:10<00:22,  1.17it/s]2023-05-24 20:05:16,840 - poke-env - WARNING - Rating information regarding an unrecognized username received. Received 'kyuremwhite&gt;blick', while only known players are 'darkell8' and 'kyuremwhite>blick'\n",
      "100%|██████████| 291/291 [01:17<00:00,  3.74it/s]\n"
     ]
    }
   ],
   "source": [
    "import data_labeler"
   ]
  },
  {
   "cell_type": "code",
   "execution_count": 2,
   "metadata": {},
   "outputs": [
    {
     "name": "stderr",
     "output_type": "stream",
     "text": [
      "100%|██████████| 96/96 [00:00<00:00, 607.11it/s]\n",
      "100%|██████████| 460/460 [00:00<00:00, 36228.40it/s]\n"
     ]
    },
    {
     "name": "stdout",
     "output_type": "stream",
     "text": [
      "hi\n"
     ]
    },
    {
     "name": "stderr",
     "output_type": "stream",
     "text": [
      "  5%|▌         | 16/291 [00:05<01:41,  2.70it/s]\n"
     ]
    }
   ],
   "source": [
    "import small_dataset"
   ]
  },
  {
   "cell_type": "code",
   "execution_count": 3,
   "metadata": {},
   "outputs": [],
   "source": [
    "import delphox"
   ]
  },
  {
   "cell_type": "code",
   "execution_count": 5,
   "metadata": {},
   "outputs": [
    {
     "name": "stdout",
     "output_type": "stream",
     "text": [
      "{'dracovish': dracovish (pokemon object) [Active: True, Status: None]} {'landorustherian': landorustherian (pokemon object) [Active: True, Status: None]}\n"
     ]
    },
    {
     "ename": "KeyError",
     "evalue": "<built-in method upper of str object at 0x159c7fb30>",
     "output_type": "error",
     "traceback": [
      "\u001b[0;31m---------------------------------------------------------------------------\u001b[0m",
      "\u001b[0;31mKeyError\u001b[0m                                  Traceback (most recent call last)",
      "Cell \u001b[0;32mIn[5], line 1\u001b[0m\n\u001b[0;32m----> 1\u001b[0m delphox\u001b[39m.\u001b[39;49mtrain(small_dataset\u001b[39m.\u001b[39;49mSMALL_DATASET)\n",
      "File \u001b[0;32m~/Desktop/PokeBot/alphagogoat/delphox.py:88\u001b[0m, in \u001b[0;36mtrain\u001b[0;34m(data)\u001b[0m\n\u001b[1;32m     85\u001b[0m non_zeros \u001b[39m=\u001b[39m \u001b[39mset\u001b[39m(non_zeros)\n\u001b[1;32m     87\u001b[0m \u001b[39mprint\u001b[39m(team1, team2)\n\u001b[0;32m---> 88\u001b[0m output, hidden \u001b[39m=\u001b[39m delphox(team1, team2, hidden)\n\u001b[1;32m     91\u001b[0m \u001b[39mfor\u001b[39;00m i \u001b[39min\u001b[39;00m \u001b[39mrange\u001b[39m(output\u001b[39m.\u001b[39mshape[\u001b[39m1\u001b[39m]):\n\u001b[1;32m     92\u001b[0m     \u001b[39mif\u001b[39;00m i \u001b[39mnot\u001b[39;00m \u001b[39min\u001b[39;00m non_zeros:\n",
      "File \u001b[0;32m/Library/Frameworks/Python.framework/Versions/3.11/lib/python3.11/site-packages/torch/nn/modules/module.py:1501\u001b[0m, in \u001b[0;36mModule._call_impl\u001b[0;34m(self, *args, **kwargs)\u001b[0m\n\u001b[1;32m   1496\u001b[0m \u001b[39m# If we don't have any hooks, we want to skip the rest of the logic in\u001b[39;00m\n\u001b[1;32m   1497\u001b[0m \u001b[39m# this function, and just call forward.\u001b[39;00m\n\u001b[1;32m   1498\u001b[0m \u001b[39mif\u001b[39;00m \u001b[39mnot\u001b[39;00m (\u001b[39mself\u001b[39m\u001b[39m.\u001b[39m_backward_hooks \u001b[39mor\u001b[39;00m \u001b[39mself\u001b[39m\u001b[39m.\u001b[39m_backward_pre_hooks \u001b[39mor\u001b[39;00m \u001b[39mself\u001b[39m\u001b[39m.\u001b[39m_forward_hooks \u001b[39mor\u001b[39;00m \u001b[39mself\u001b[39m\u001b[39m.\u001b[39m_forward_pre_hooks\n\u001b[1;32m   1499\u001b[0m         \u001b[39mor\u001b[39;00m _global_backward_pre_hooks \u001b[39mor\u001b[39;00m _global_backward_hooks\n\u001b[1;32m   1500\u001b[0m         \u001b[39mor\u001b[39;00m _global_forward_hooks \u001b[39mor\u001b[39;00m _global_forward_pre_hooks):\n\u001b[0;32m-> 1501\u001b[0m     \u001b[39mreturn\u001b[39;00m forward_call(\u001b[39m*\u001b[39;49margs, \u001b[39m*\u001b[39;49m\u001b[39m*\u001b[39;49mkwargs)\n\u001b[1;32m   1502\u001b[0m \u001b[39m# Do not call functions when jit is used\u001b[39;00m\n\u001b[1;32m   1503\u001b[0m full_backward_hooks, non_full_backward_hooks \u001b[39m=\u001b[39m [], []\n",
      "File \u001b[0;32m~/Desktop/PokeBot/alphagogoat/delphox.py:41\u001b[0m, in \u001b[0;36mDelphox.forward\u001b[0;34m(self, team1, team2, hidden)\u001b[0m\n\u001b[1;32m     38\u001b[0m \u001b[39mfor\u001b[39;00m t1_pokemon \u001b[39min\u001b[39;00m team1\u001b[39m.\u001b[39mvalues():\n\u001b[1;32m     39\u001b[0m     \u001b[39m#print(t1_pokemon)\u001b[39;00m\n\u001b[1;32m     40\u001b[0m     pokemon\u001b[39m.\u001b[39mappend(\u001b[39mself\u001b[39m\u001b[39m.\u001b[39memb\u001b[39m.\u001b[39m_embed_pokemon(t1_pokemon))\n\u001b[0;32m---> 41\u001b[0m     moves\u001b[39m.\u001b[39mappend(\u001b[39mself\u001b[39;49m\u001b[39m.\u001b[39;49memb\u001b[39m.\u001b[39;49m_embed_moves_from_pokemon(t1_pokemon))\n\u001b[1;32m     43\u001b[0m \u001b[39mfor\u001b[39;00m t2_pokemon \u001b[39min\u001b[39;00m team2\u001b[39m.\u001b[39mvalues():\n\u001b[1;32m     44\u001b[0m     pokemon\u001b[39m.\u001b[39mappend(\u001b[39mself\u001b[39m\u001b[39m.\u001b[39memb\u001b[39m.\u001b[39m_embed_pokemon(t2_pokemon))\n",
      "File \u001b[0;32m~/Desktop/PokeBot/alphagogoat/embedder.py:185\u001b[0m, in \u001b[0;36mEmbedder._embed_moves_from_pokemon\u001b[0;34m(self, pokemon)\u001b[0m\n\u001b[1;32m    183\u001b[0m \u001b[39mfor\u001b[39;00m name, prob \u001b[39min\u001b[39;00m moves\u001b[39m.\u001b[39mitems():\n\u001b[1;32m    184\u001b[0m     \u001b[39mid\u001b[39m \u001b[39m=\u001b[39m name\u001b[39m.\u001b[39mlower()\u001b[39m.\u001b[39mreplace(\u001b[39m\"\u001b[39m\u001b[39m \u001b[39m\u001b[39m\"\u001b[39m, \u001b[39m\"\u001b[39m\u001b[39m\"\u001b[39m)\n\u001b[0;32m--> 185\u001b[0m     embedding \u001b[39m=\u001b[39m \u001b[39mself\u001b[39;49m\u001b[39m.\u001b[39;49m_embed_move(\u001b[39mid\u001b[39;49m, prob)\n\u001b[1;32m    186\u001b[0m     embeddings\u001b[39m.\u001b[39mappend(embedding)\n\u001b[1;32m    187\u001b[0m embeddings \u001b[39m=\u001b[39m torch\u001b[39m.\u001b[39mstack(embeddings)\n",
      "File \u001b[0;32m~/Desktop/PokeBot/alphagogoat/embedder.py:135\u001b[0m, in \u001b[0;36mEmbedder._embed_move\u001b[0;34m(self, id, prob)\u001b[0m\n\u001b[1;32m    133\u001b[0m     secondary \u001b[39m+\u001b[39m\u001b[39m=\u001b[39m [\u001b[39m0\u001b[39m, \u001b[39m0\u001b[39m]\n\u001b[1;32m    134\u001b[0m \u001b[39melse\u001b[39;00m:\n\u001b[0;32m--> 135\u001b[0m     secondary \u001b[39m+\u001b[39m\u001b[39m=\u001b[39m [status[\u001b[39m'\u001b[39m\u001b[39mchance\u001b[39m\u001b[39m'\u001b[39m], Status[status[\u001b[39m'\u001b[39;49m\u001b[39mstatus\u001b[39;49m\u001b[39m'\u001b[39;49m]\u001b[39m.\u001b[39;49mupper]\u001b[39m.\u001b[39mvalue]\n\u001b[1;32m    137\u001b[0m \u001b[39m# onHit is either \"throat chop\" or \"anchor shot\" or \"tri attack\", so we ignore it\u001b[39;00m\n\u001b[1;32m    138\u001b[0m \n\u001b[1;32m    139\u001b[0m \u001b[39m# (secondary) boosts\u001b[39;00m\n\u001b[1;32m    140\u001b[0m \u001b[39mif\u001b[39;00m secondary_boosts \u001b[39mis\u001b[39;00m \u001b[39mNone\u001b[39;00m:\n",
      "File \u001b[0;32m/Library/Frameworks/Python.framework/Versions/3.11/lib/python3.11/enum.py:795\u001b[0m, in \u001b[0;36mEnumType.__getitem__\u001b[0;34m(cls, name)\u001b[0m\n\u001b[1;32m    791\u001b[0m \u001b[39mdef\u001b[39;00m \u001b[39m__getitem__\u001b[39m(\u001b[39mcls\u001b[39m, name):\n\u001b[1;32m    792\u001b[0m \u001b[39m    \u001b[39m\u001b[39m\"\"\"\u001b[39;00m\n\u001b[1;32m    793\u001b[0m \u001b[39m    Return the member matching `name`.\u001b[39;00m\n\u001b[1;32m    794\u001b[0m \u001b[39m    \"\"\"\u001b[39;00m\n\u001b[0;32m--> 795\u001b[0m     \u001b[39mreturn\u001b[39;00m \u001b[39mcls\u001b[39;49m\u001b[39m.\u001b[39;49m_member_map_[name]\n",
      "\u001b[0;31mKeyError\u001b[0m: <built-in method upper of str object at 0x159c7fb30>"
     ]
    }
   ],
   "source": [
    "delphox.train(small_dataset.SMALL_DATASET)"
   ]
  }
 ],
 "metadata": {
  "kernelspec": {
   "display_name": "Python 3",
   "language": "python",
   "name": "python3"
  },
  "language_info": {
   "codemirror_mode": {
    "name": "ipython",
    "version": 3
   },
   "file_extension": ".py",
   "mimetype": "text/x-python",
   "name": "python",
   "nbconvert_exporter": "python",
   "pygments_lexer": "ipython3",
   "version": "3.11.2"
  },
  "orig_nbformat": 4
 },
 "nbformat": 4,
 "nbformat_minor": 2
}
