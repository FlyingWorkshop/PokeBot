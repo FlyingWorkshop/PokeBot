{
 "cells": [
  {
   "cell_type": "code",
   "execution_count": 8,
   "outputs": [],
   "source": [
    "%load_ext autoreload\n",
    "%autoreload 2"
   ],
   "metadata": {
    "collapsed": false,
    "ExecuteTime": {
     "end_time": "2023-04-29T21:10:05.286275Z",
     "start_time": "2023-04-29T21:10:05.263632Z"
    }
   }
  },
  {
   "cell_type": "code",
   "execution_count": 7,
   "outputs": [],
   "source": [
    "import json\n",
    "\n",
    "import alphagogoat as ag"
   ],
   "metadata": {
    "collapsed": false,
    "ExecuteTime": {
     "end_time": "2023-04-29T21:10:03.633434Z",
     "start_time": "2023-04-29T21:10:03.621994Z"
    }
   }
  },
  {
   "cell_type": "code",
   "execution_count": 9,
   "outputs": [
    {
     "data": {
      "text/plain": "[['|j|☆Savulski.',\n  '|j|☆flyingworkshop',\n  '|t:|1682726952',\n  '|gametype|singles',\n  '|player|p1|Savulski.|steven|1027',\n  '|player|p2|flyingworkshop|169|1037',\n  '|teamsize|p1|6',\n  '|teamsize|p2|6',\n  '|gen|9',\n  '|tier|[Gen 9] Random Battle',\n  '|rated|',\n  '|rule|Species Clause: Limit one of each Pokémon',\n  '|rule|HP Percentage Mod: HP is shown in percentages',\n  '|rule|Sleep Clause Mod: Limit one foe put to sleep',\n  '|',\n  '|t:|1682726953',\n  '|start',\n  '|switch|p1a: Sudowoodo|Sudowoodo, L91, M|275/275',\n  '|switch|p2a: Bellibolt|Bellibolt, L85, M|324/324'],\n ['|turn|1',\n  \"|inactive|Battle timer is ON: inactive players will automatically lose when time's up. (requested by flyingworkshop)\",\n  '|',\n  '|t:|1682726970',\n  '|move|p2a: Bellibolt|Muddy Water|p1a: Sudowoodo',\n  '|-supereffective|p1a: Sudowoodo',\n  '|-damage|p1a: Sudowoodo|103/275',\n  '|move|p1a: Sudowoodo|Stealth Rock|p2a: Bellibolt',\n  '|-sidestart|p2: flyingworkshop|move: Stealth Rock',\n  '|',\n  '|-heal|p1a: Sudowoodo|120/275|[from] item: Leftovers',\n  '|upkeep'],\n ['|turn|2',\n  '|',\n  '|t:|1682726978',\n  '|move|p2a: Bellibolt|Muddy Water|p1a: Sudowoodo',\n  '|-supereffective|p1a: Sudowoodo',\n  '|-damage|p1a: Sudowoodo|0 fnt',\n  '|faint|p1a: Sudowoodo',\n  '|',\n  '|upkeep',\n  '|',\n  '|t:|1682726988',\n  '|switch|p1a: Tauros|Tauros, L84, M|263/263',\n  '|-ability|p1a: Tauros|Intimidate|boost',\n  '|-unboost|p2a: Bellibolt|atk|1'],\n ['|turn|3',\n  '|',\n  '|t:|1682727015',\n  '|move|p1a: Tauros|Earthquake|p2a: Bellibolt',\n  '|-supereffective|p2a: Bellibolt',\n  '|-damage|p2a: Bellibolt|126/324',\n  '|-start|p2a: Bellibolt|Charge|Earthquake|[from] ability: Electromorphosis',\n  '|move|p2a: Bellibolt|Thunder Wave|p1a: Tauros',\n  '|-status|p1a: Tauros|par',\n  '|-end|p2a: Bellibolt|Charge|[silent]',\n  '|',\n  '|-heal|p2a: Bellibolt|146/324|[from] item: Leftovers',\n  '|upkeep'],\n ['|turn|4',\n  '|',\n  '|t:|1682727025',\n  '|switch|p2a: Braviary|Braviary-Hisui, L84, M|322/322',\n  '|-damage|p2a: Braviary|242/322|[from] Stealth Rock',\n  '|cant|p1a: Tauros|par',\n  '|',\n  '|upkeep'],\n ['|turn|5',\n  '|',\n  '|t:|1682727040',\n  '|move|p2a: Braviary|Psychic|p1a: Tauros',\n  '|-damage|p1a: Tauros|39/263 par',\n  '|move|p1a: Tauros|Earthquake|p2a: Braviary',\n  '|-immune|p2a: Braviary',\n  '|',\n  '|upkeep'],\n ['|turn|6',\n  '|',\n  '|t:|1682727046',\n  '|move|p2a: Braviary|Psychic|p1a: Tauros',\n  '|-damage|p1a: Tauros|0 fnt',\n  '|faint|p1a: Tauros',\n  '|',\n  '|upkeep',\n  '|',\n  '|t:|1682727051',\n  '|switch|p1a: Koraidon|Koraidon, L66|242/242',\n  '|-weather|SunnyDay|[from] ability: Orichalcum Pulse|[of] p1a: Koraidon',\n  '|-activate|p1a: Koraidon|Orichalcum Pulse|[source]'],\n ['|turn|7',\n  '|',\n  '|t:|1682727066',\n  '|-terastallize|p1a: Koraidon|Fire',\n  '|move|p1a: Koraidon|Flare Blitz|p2a: Braviary',\n  '|-damage|p2a: Braviary|0 fnt',\n  '|faint|p2a: Braviary',\n  '|-damage|p1a: Koraidon|162/242|[from] Recoil',\n  '|',\n  '|-weather|SunnyDay|[upkeep]',\n  '|upkeep',\n  '|',\n  '|t:|1682727077',\n  '|switch|p2a: Wugtrio|Wugtrio, L90, M|209/209',\n  '|-damage|p2a: Wugtrio|183/209|[from] Stealth Rock'],\n ['|turn|8',\n  '|',\n  '|t:|1682727085',\n  '|switch|p1a: Goodra|Goodra, L86, M|295/295',\n  '|move|p2a: Wugtrio|Liquidation|p1a: Goodra',\n  '|-resisted|p1a: Goodra',\n  '|-damage|p1a: Goodra|249/295',\n  '|',\n  '|-weather|SunnyDay|[upkeep]',\n  '|upkeep'],\n ['|turn|9',\n  '|',\n  '|t:|1682727094',\n  '|switch|p2a: Zacian|Zacian-Crowned, L65|228/228',\n  '|-damage|p2a: Zacian|214/228|[from] Stealth Rock',\n  '|-ability|p2a: Zacian|Intrepid Sword|boost',\n  '|-boost|p2a: Zacian|atk|1',\n  '|move|p1a: Goodra|Power Whip|p2a: Zacian',\n  '|-resisted|p2a: Zacian',\n  '|-damage|p2a: Zacian|165/228',\n  '|',\n  '|-weather|SunnyDay|[upkeep]',\n  '|upkeep'],\n ['|turn|10',\n  '|',\n  '|t:|1682727106',\n  '|move|p2a: Zacian|Play Rough|p1a: Goodra',\n  '|-supereffective|p1a: Goodra',\n  '|-damage|p1a: Goodra|0 fnt',\n  '|faint|p1a: Goodra',\n  '|',\n  '|-weather|SunnyDay|[upkeep]',\n  '|upkeep',\n  '|',\n  '|t:|1682727112',\n  '|switch|p1a: Lucario|Lucario, L84, F|255/255']]"
     },
     "execution_count": 9,
     "metadata": {},
     "output_type": "execute_result"
    }
   ],
   "source": [
    "ag.utils.make_battle(\"historical_battle.json\", \"historical_teams.json\")"
   ],
   "metadata": {
    "collapsed": false,
    "ExecuteTime": {
     "end_time": "2023-04-29T21:10:51.386420Z",
     "start_time": "2023-04-29T21:10:51.360308Z"
    }
   }
  }
 ],
 "metadata": {
  "kernelspec": {
   "display_name": "Python 3",
   "language": "python",
   "name": "python3"
  },
  "language_info": {
   "codemirror_mode": {
    "name": "ipython",
    "version": 2
   },
   "file_extension": ".py",
   "mimetype": "text/x-python",
   "name": "python",
   "nbconvert_exporter": "python",
   "pygments_lexer": "ipython2",
   "version": "2.7.6"
  }
 },
 "nbformat": 4,
 "nbformat_minor": 0
}
