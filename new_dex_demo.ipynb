{
 "cells": [
  {
   "cell_type": "code",
   "execution_count": 1,
   "metadata": {
    "collapsed": true,
    "ExecuteTime": {
     "end_time": "2023-05-28T18:47:44.119189Z",
     "start_time": "2023-05-28T18:47:42.772740Z"
    }
   },
   "outputs": [
    {
     "name": "stderr",
     "output_type": "stream",
     "text": [
      "100%|██████████| 96/96 [00:01<00:00, 90.18it/s] \n",
      "100%|██████████| 460/460 [00:00<00:00, 5635.74it/s]\n"
     ]
    }
   ],
   "source": [
    "from alphagogoat.pokedex import POKEDEX"
   ]
  },
  {
   "cell_type": "code",
   "execution_count": 5,
   "outputs": [
    {
     "name": "stdout",
     "output_type": "stream",
     "text": [
      "max_items=6\n",
      "max_abilities=3\n",
      "max_moves=11\n"
     ]
    }
   ],
   "source": [
    "max_items, max_abilities, max_moves = 0, 0, 0\n",
    "for pokemon, data in POKEDEX.items():\n",
    "    max_items = max(max_items, len(data['items']))\n",
    "    max_abilities = max(max_abilities, len(data['abilities']))\n",
    "    max_moves = max(max_moves, len(data['moves']))\n",
    "print(f\"{max_items=}\\n{max_abilities=}\\n{max_moves=}\")"
   ],
   "metadata": {
    "collapsed": false,
    "ExecuteTime": {
     "end_time": "2023-05-28T18:57:16.003359Z",
     "start_time": "2023-05-28T18:57:15.990552Z"
    }
   }
  },
  {
   "cell_type": "code",
   "execution_count": null,
   "outputs": [],
   "source": [],
   "metadata": {
    "collapsed": false
   }
  }
 ],
 "metadata": {
  "kernelspec": {
   "display_name": "Python 3",
   "language": "python",
   "name": "python3"
  },
  "language_info": {
   "codemirror_mode": {
    "name": "ipython",
    "version": 2
   },
   "file_extension": ".py",
   "mimetype": "text/x-python",
   "name": "python",
   "nbconvert_exporter": "python",
   "pygments_lexer": "ipython2",
   "version": "2.7.6"
  }
 },
 "nbformat": 4,
 "nbformat_minor": 0
}
