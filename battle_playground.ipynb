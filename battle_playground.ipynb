{
 "cells": [
  {
   "cell_type": "code",
   "execution_count": 6,
   "metadata": {
    "ExecuteTime": {
     "end_time": "2023-05-30T02:14:04.433559Z",
     "start_time": "2023-05-30T02:14:04.422240Z"
    },
    "collapsed": true
   },
   "outputs": [
    {
     "name": "stderr",
     "output_type": "stream",
     "text": [
      "/Library/Frameworks/Python.framework/Versions/3.11/lib/python3.11/site-packages/tqdm/auto.py:21: TqdmWarning: IProgress not found. Please update jupyter and ipywidgets. See https://ipywidgets.readthedocs.io/en/stable/user_install.html\n",
      "  from .autonotebook import tqdm as notebook_tqdm\n"
     ]
    },
    {
     "ename": "ModuleNotFoundError",
     "evalue": "No module named 'victini'",
     "output_type": "error",
     "traceback": [
      "\u001b[0;31m---------------------------------------------------------------------------\u001b[0m",
      "\u001b[0;31mModuleNotFoundError\u001b[0m                       Traceback (most recent call last)",
      "Cell \u001b[0;32mIn[6], line 15\u001b[0m\n\u001b[1;32m     13\u001b[0m \u001b[39mfrom\u001b[39;00m \u001b[39malphagogoat\u001b[39;00m\u001b[39m.\u001b[39;00m\u001b[39mcatalogs\u001b[39;00m \u001b[39mimport\u001b[39;00m MoveEnum\n\u001b[1;32m     14\u001b[0m \u001b[39mfrom\u001b[39;00m \u001b[39malphagogoat\u001b[39;00m\u001b[39m.\u001b[39;00m\u001b[39mconstants\u001b[39;00m \u001b[39mimport\u001b[39;00m LSTM_INPUT_SIZE, DEVICE\n\u001b[0;32m---> 15\u001b[0m \u001b[39mfrom\u001b[39;00m \u001b[39malphagogoat\u001b[39;00m\u001b[39m.\u001b[39;00m\u001b[39mdelphox\u001b[39;00m \u001b[39mimport\u001b[39;00m Delphox, train, evaluate\n\u001b[1;32m     16\u001b[0m \u001b[39mfrom\u001b[39;00m \u001b[39malphagogoat\u001b[39;00m\u001b[39m.\u001b[39;00m\u001b[39mutils\u001b[39;00m \u001b[39mimport\u001b[39;00m move_to_pred_vec_index\n\u001b[1;32m     18\u001b[0m LOGGER \u001b[39m=\u001b[39m logging\u001b[39m.\u001b[39mgetLogger(\u001b[39m'\u001b[39m\u001b[39mpoke-env\u001b[39m\u001b[39m'\u001b[39m)\n",
      "File \u001b[0;32m~/Desktop/PokeBot/alphagogoat/delphox.py:14\u001b[0m\n\u001b[1;32m     12\u001b[0m \u001b[39mfrom\u001b[39;00m \u001b[39m.\u001b[39;00m\u001b[39mutils\u001b[39;00m \u001b[39mimport\u001b[39;00m vec2str\n\u001b[1;32m     13\u001b[0m \u001b[39mfrom\u001b[39;00m \u001b[39m.\u001b[39;00m\u001b[39mcalculator\u001b[39;00m \u001b[39mimport\u001b[39;00m calc_damage, average_pokemon_stats\n\u001b[0;32m---> 14\u001b[0m \u001b[39mimport\u001b[39;00m \u001b[39mvictini\u001b[39;00m\n\u001b[1;32m     15\u001b[0m \u001b[39mfrom\u001b[39;00m \u001b[39mcopy\u001b[39;00m \u001b[39mimport\u001b[39;00m deepcopy\n\u001b[1;32m     17\u001b[0m \u001b[39mimport\u001b[39;00m \u001b[39mmath\u001b[39;00m\n",
      "\u001b[0;31mModuleNotFoundError\u001b[0m: No module named 'victini'"
     ]
    }
   ],
   "source": [
    "import json\n",
    "import logging\n",
    "import random\n",
    "from copy import deepcopy\n",
    "from pathlib import Path\n",
    "import re\n",
    "\n",
    "import torch\n",
    "from joblib import Parallel, delayed\n",
    "from poke_env.environment.battle import Battle\n",
    "from tqdm.auto import tqdm\n",
    "\n",
    "from alphagogoat.catalogs import MoveEnum\n",
    "from alphagogoat.constants import LSTM_INPUT_SIZE, DEVICE\n",
    "from alphagogoat.delphox import Delphox, train, evaluate\n",
    "from alphagogoat.utils import move_to_pred_vec_index\n",
    "\n",
    "LOGGER = logging.getLogger('poke-env')\n",
    "\n",
    "def process_input_log(log):\n",
    "    \"\"\"\n",
    "    >>> log = Path(\"cache/replays/gen8randombattle-1872565566.log\").read_text()\n",
    "    >>> process_input_log(log)\n",
    "    \"\"\"\n",
    "    input_log = log['inputlog']\n",
    "    input_log = input_log.split('\\n')\n",
    "    start = 0\n",
    "    for line in input_log:\n",
    "        if line.startswith('>p1'):\n",
    "            break\n",
    "        start += 1\n",
    "\n",
    "    input_log = input_log[start:]\n",
    "    out1 = []\n",
    "    out2 = []\n",
    "\n",
    "    for i in range(len(input_log) - 1):\n",
    "        curr_line = input_log[i]\n",
    "        next_line = input_log[i+1]\n",
    "        if curr_line.startswith('>p1') and next_line.startswith('>p2'): # that means this is a normal turn with no fainting or anything\n",
    "            out_me = torch.zeros(len(MoveEnum) + 1)\n",
    "            out_them = torch.zeros(len(MoveEnum) + 1)\n",
    "            curr_line = curr_line.split(' ')\n",
    "            next_line = next_line.split(' ')\n",
    "\n",
    "            if curr_line[1] == 'move':\n",
    "                out_me[move_to_pred_vec_index(curr_line[2])] = 1\n",
    "            elif curr_line[1] == 'switch':\n",
    "                print(curr_line)\n",
    "                out_me[-1] = 1\n",
    "\n",
    "            if next_line[1] == 'move':\n",
    "                out_them[move_to_pred_vec_index(next_line[2])] = 1\n",
    "            elif next_line[1] == 'switch':\n",
    "                print(next_line)\n",
    "                out_them[-1] = 1\n",
    "            i += 1\n",
    "            out1.append(out_me)\n",
    "            out2.append(out_them)\n",
    "        else:\n",
    "            continue\n",
    "\n",
    "    return out1, out2\n",
    "\n",
    "def make_data(filepath):\n",
    "    with open(filepath) as f:\n",
    "        replay = json.load(f)\n",
    "    history = replay['log'].split('\\n')\n",
    "    battles = []\n",
    "    b = Battle(replay['id'], replay['p1'], LOGGER, 8)\n",
    "    b._opponent_username = replay['p2']\n",
    "    mon1, mon2 = None, None\n",
    "    for line in history:\n",
    "        try:\n",
    "            b._parse_message(line.split('|'))\n",
    "            # print(b.turn)\n",
    "            # print(b.active_pokemon)\n",
    "            # print(b.opponent_active_pokemon)\n",
    "            if mon1 is None:\n",
    "                mon1 = b.active_pokemon\n",
    "            if mon2 is None:\n",
    "                mon2 = b.opponent_active_pokemon\n",
    "            if line.split('|')[1] == 'turn':\n",
    "                # monkey patch issue where fainted pokemon are immediately replaced the same turn\n",
    "                b.active_mon = mon1\n",
    "                b.opponent_active_mon = mon2\n",
    "                battles.append(deepcopy(b))\n",
    "                mon1, mon2 = None, None\n",
    "        except:\n",
    "            continue\n",
    "    move1, move2 = process_input_log(replay)\n",
    "    return battles, move1, move2\n",
    "\n",
    "def move_to_pred_vec_index(m):\n",
    "    return MoveEnum[re.sub(r\"\\s|-|'\", \"\", m.lower())].value - 1\n",
    "\n",
    "\n",
    "def pred_vec_to_string(pred: torch.Tensor):\n",
    "    i = pred.argmax().item()\n",
    "    if i == len(MoveEnum):\n",
    "        return 'switch'\n",
    "    else:\n",
    "        return MoveEnum(i + 1).name"
   ]
  },
  {
   "cell_type": "code",
   "execution_count": 80,
   "metadata": {
    "ExecuteTime": {
     "end_time": "2023-05-30T02:53:18.315813Z",
     "start_time": "2023-05-30T02:53:18.303828Z"
    },
    "collapsed": false
   },
   "outputs": [],
   "source": [
    "def process_line(line: str):\n",
    "    if \"switch\" in line:\n",
    "        pokemon_switch = re.search(r\"p[12]a: (.*?)\\|\", line).groups(0)[0]\n",
    "        pokemon_switch = re.sub(r\"[-’\\s\\.:]\", \"\", pokemon_switch.lower())\n",
    "        return (\"switch\", pokemon_switch)\n",
    "    else:\n",
    "        pokemon_move = re.search(r\"\\|([A-Z].*?)\\|\", line).groups(0)[0]\n",
    "        pokemon_move = re.sub(r\"\\s|-|'\", \"\", pokemon_move.lower())\n",
    "        return (\"move\", pokemon_move)\n",
    "\n",
    "def get_histories(filepath: str):\n",
    "    history1, history2 = [], []\n",
    "    with open(filepath) as f:\n",
    "        data = json.load(f)\n",
    "    turn_texts = data['log'].split('|turn|')[1:]\n",
    "    for text in turn_texts:\n",
    "        matches = re.findall(r\"(\\|[ms].+\\|)\", text)\n",
    "        for m in matches:\n",
    "            if \"|move|p1a:\" in m or \"|switch|p1a:\" in m:\n",
    "                cooked = process_line(m)\n",
    "                history1.append(cooked)\n",
    "                break\n",
    "        for m in matches:\n",
    "            if \"|move|p2a:\" in m or \"|switch|p2a:\" in m:\n",
    "                cooked = process_line(m)\n",
    "                history2.append(cooked)\n",
    "                break\n",
    "    return history1, history2"
   ]
  },
  {
   "cell_type": "code",
   "execution_count": 81,
   "metadata": {
    "ExecuteTime": {
     "end_time": "2023-05-30T02:53:18.855337Z",
     "start_time": "2023-05-30T02:53:18.837116Z"
    },
    "collapsed": false
   },
   "outputs": [
    {
     "data": {
      "text/plain": [
       "[('switch', 'suicune'),\n",
       " ('switch', 'buzzwole'),\n",
       " ('move', 'stoneedge'),\n",
       " ('move', 'stoneedge'),\n",
       " ('move', 'stoneedge'),\n",
       " ('move', 'stoneedge'),\n",
       " ('switch', 'torkoal'),\n",
       " ('move', 'stealthrock'),\n",
       " ('move', 'lavaplume'),\n",
       " ('move', 'solarbeam'),\n",
       " ('switch', 'cryogonal'),\n",
       " ('move', 'rapidspin'),\n",
       " ('move', 'earthquake'),\n",
       " ('move', 'maxknuckle'),\n",
       " ('move', 'maxquake'),\n",
       " ('switch', 'gyarados'),\n",
       " ('switch', 'krookodile'),\n",
       " ('move', 'earthquake'),\n",
       " ('move', 'calmmind'),\n",
       " ('move', 'rest'),\n",
       " ('move', 'sleeptalk'),\n",
       " ('move', 'sleeptalk'),\n",
       " ('move', 'scald')]"
      ]
     },
     "execution_count": 81,
     "metadata": {},
     "output_type": "execute_result"
    }
   ],
   "source": [
    "history1, history2 = get_histories(\"cache/replays/gen8randombattle-1872565566.json\")\n",
    "history1"
   ]
  },
  {
   "cell_type": "code",
   "execution_count": 82,
   "metadata": {
    "ExecuteTime": {
     "end_time": "2023-05-30T02:53:24.972887Z",
     "start_time": "2023-05-30T02:53:23.264744Z"
    },
    "collapsed": false
   },
   "outputs": [
    {
     "name": "stdout",
     "output_type": "stream",
     "text": [
      "['>p1', 'switch', '4']\n",
      "['>p1', 'switch', '5']\n",
      "['>p1', 'switch', '3']\n",
      "['>p1', 'switch', '3']\n"
     ]
    }
   ],
   "source": [
    "turns, moves1, moves2 = make_data(\"cache/replays/gen8randombattle-1872565566.json\")"
   ]
  },
  {
   "cell_type": "code",
   "execution_count": 83,
   "metadata": {
    "ExecuteTime": {
     "end_time": "2023-05-30T02:53:26.042249Z",
     "start_time": "2023-05-30T02:53:26.027962Z"
    },
    "collapsed": false
   },
   "outputs": [
    {
     "name": "stdout",
     "output_type": "stream",
     "text": [
      "Turn 1:\n",
      "\t cryogonal (pokemon object) [Active: True, Status: None]:\t('switch', 'suicune')\n",
      "\t ninetales (pokemon object) [Active: True, Status: None]:\t('move', 'nastyplot')\n",
      "Turn 2:\n",
      "\t suicune (pokemon object) [Active: True, Status: None]:\t('switch', 'buzzwole')\n",
      "\t ninetales (pokemon object) [Active: True, Status: None]:\t('move', 'solarbeam')\n",
      "Turn 3:\n",
      "\t buzzwole (pokemon object) [Active: True, Status: None]:\t('move', 'stoneedge')\n",
      "\t ninetales (pokemon object) [Active: True, Status: None]:\t('move', 'scorchingsands')\n",
      "Turn 4:\n",
      "\t buzzwole (pokemon object) [Active: True, Status: BRN]:\t('move', 'stoneedge')\n",
      "\t ninetales (pokemon object) [Active: True, Status: None]:\t('move', 'fireblast')\n",
      "Turn 5:\n",
      "\t buzzwole (pokemon object) [Active: True, Status: BRN]:\t('move', 'stoneedge')\n",
      "\t ninetales (pokemon object) [Active: True, Status: None]:\t('move', 'fireblast')\n",
      "Turn 6:\n",
      "\t buzzwole (pokemon object) [Active: True, Status: BRN]:\t('move', 'stoneedge')\n",
      "\t ninetales (pokemon object) [Active: True, Status: None]:\t('switch', 'manectric')\n",
      "Turn 7:\n",
      "\t buzzwole (pokemon object) [Active: True, Status: BRN]:\t('switch', 'torkoal')\n",
      "\t manectric (pokemon object) [Active: True, Status: None]:\t('move', 'voltswitch')\n",
      "Turn 8:\n",
      "\t torkoal (pokemon object) [Active: True, Status: None]:\t('move', 'stealthrock')\n",
      "\t ribombee (pokemon object) [Active: True, Status: None]:\t('move', 'stickyweb')\n",
      "Turn 9:\n",
      "\t torkoal (pokemon object) [Active: True, Status: None]:\t('move', 'lavaplume')\n",
      "\t ribombee (pokemon object) [Active: True, Status: None]:\t('move', 'stunspore')\n",
      "Turn 10:\n",
      "\t torkoal (pokemon object) [Active: True, Status: PAR]:\t('move', 'solarbeam')\n",
      "\t keldeoresolute (pokemon object) [Active: True, Status: None]:\t('move', 'calmmind')\n",
      "Turn 11:\n",
      "\t torkoal (pokemon object) [Active: True, Status: PAR]:\t('switch', 'cryogonal')\n",
      "\t keldeoresolute (pokemon object) [Active: True, Status: None]:\t('move', 'scald')\n",
      "Turn 12:\n",
      "\t cryogonal (pokemon object) [Active: True, Status: None]:\t('move', 'rapidspin')\n",
      "\t keldeoresolute (pokemon object) [Active: True, Status: None]:\t('move', 'secretsword')\n",
      "Turn 13:\n",
      "\t krookodile (pokemon object) [Active: True, Status: None]:\t('move', 'earthquake')\n",
      "\t keldeoresolute (pokemon object) [Active: True, Status: None]:\t('switch', 'wailord')\n",
      "Turn 14:\n",
      "\t krookodile (pokemon object) [Active: True, Status: None]:\t('move', 'maxknuckle')\n",
      "\t wailord (pokemon object) [Active: True, Status: None]:\t('move', 'hydropump')\n",
      "Turn 15:\n",
      "\t krookodile (pokemon object) [Active: True, Status: None]:\t('move', 'maxquake')\n",
      "\t wailord (pokemon object) [Active: True, Status: None]:\t('switch', 'manectric')\n",
      "Turn 16:\n",
      "\t krookodile (pokemon object) [Active: True, Status: None]:\t('switch', 'gyarados')\n",
      "\t manectric (pokemon object) [Active: True, Status: None]:\t('move', 'maxflare')\n",
      "Turn 17:\n",
      "\t gyarados (pokemon object) [Active: True, Status: None]:\t('switch', 'krookodile')\n",
      "\t manectric (pokemon object) [Active: True, Status: None]:\t('move', 'maxlightning')\n",
      "Turn 18:\n",
      "\t krookodile (pokemon object) [Active: True, Status: None]:\t('move', 'earthquake')\n",
      "\t manectric (pokemon object) [Active: True, Status: None]:\t('move', 'maxflare')\n",
      "Turn 19:\n",
      "\t suicune (pokemon object) [Active: True, Status: None]:\t('move', 'calmmind')\n",
      "\t manectric (pokemon object) [Active: True, Status: None]:\t('move', 'thunderbolt')\n",
      "Turn 20:\n",
      "\t suicune (pokemon object) [Active: True, Status: None]:\t('move', 'rest')\n",
      "\t manectric (pokemon object) [Active: True, Status: None]:\t('move', 'thunderbolt')\n",
      "Turn 21:\n",
      "\t suicune (pokemon object) [Active: True, Status: SLP]:\t('move', 'sleeptalk')\n",
      "\t manectric (pokemon object) [Active: True, Status: None]:\t('move', 'thunderbolt')\n",
      "Turn 22:\n",
      "\t suicune (pokemon object) [Active: True, Status: SLP]:\t('move', 'sleeptalk')\n",
      "\t talonflame (pokemon object) [Active: True, Status: None]:\t('move', 'swordsdance')\n",
      "Turn 23:\n",
      "\t suicune (pokemon object) [Active: True, Status: SLP]:\t('move', 'scald')\n",
      "\t talonflame (pokemon object) [Active: True, Status: None]:\t('move', 'bravebird')\n"
     ]
    }
   ],
   "source": [
    "for turn, m1, m2 in zip(turns, history1, history2):\n",
    "    print(f\"Turn {turn.turn}:\"\n",
    "          f\"\\n\\t {turn.active_pokemon}:\\t{m1}\"\n",
    "          f\"\\n\\t {turn.opponent_active_pokemon}:\\t{m2}\")"
   ]
  },
  {
   "cell_type": "code",
   "execution_count": 1,
   "metadata": {
    "collapsed": false
   },
   "outputs": [
    {
     "name": "stdout",
     "output_type": "stream",
     "text": [
      "0 tensor([1., 0., 0., 0., 0., 0., 0., 0., 0., 0., 0., 0.]) sylveon (pokemon object) [Active: True, Status: None] ['calmmind', 'hypervoice', 'mysticalfire', 'protect', 'psyshock', 'shadowball', 'wish']\n",
      "0 tensor([1., 0., 0., 0., 0., 0., 0., 0., 0., 0., 0., 0.]) shedinja (pokemon object) [Active: True, Status: None] ['poltergeist', 'shadowsneak', 'swordsdance', 'willowisp', 'xscissor']\n",
      "4 tensor([0., 0., 0., 0., 1., 0., 0., 0., 0., 0., 0., 0.]) shedinja (pokemon object) [Active: True, Status: None] ['poltergeist', 'shadowsneak', 'swordsdance', 'willowisp', 'xscissor']\n",
      "1 tensor([0., 1., 0., 0., 0., 0., 0., 0., 0., 0., 0., 0.]) sylveon (pokemon object) [Active: True, Status: None] ['calmmind', 'hypervoice', 'mysticalfire', 'protect', 'psyshock', 'shadowball', 'wish']\n",
      "2 tensor([0., 0., 1., 0., 0., 0., 0., 0., 0., 0., 0., 0.]) sylveon (pokemon object) [Active: True, Status: None] ['calmmind', 'hypervoice', 'mysticalfire', 'protect', 'psyshock', 'shadowball', 'wish']\n",
      "1 tensor([0., 1., 0., 0., 0., 0., 0., 0., 0., 0., 0., 0.]) sylveon (pokemon object) [Active: True, Status: None] ['calmmind', 'hypervoice', 'mysticalfire', 'protect', 'psyshock', 'shadowball', 'wish']\n",
      "1 tensor([0., 1., 0., 0., 0., 0., 0., 0., 0., 0., 0., 0.]) indeedeef (pokemon object) [Active: True, Status: TOX] ['calmmind', 'expandingforce', 'healingwish', 'hypervoice', 'mysticalfire']\n",
      "4 tensor([0., 0., 0., 0., 1., 0., 0., 0., 0., 0., 0., 0.]) rillaboom (pokemon object) [Active: True, Status: None] ['acrobatics', 'grassyglide', 'highhorsepower', 'knockoff', 'swordsdance', 'uturn', 'woodhammer']\n",
      "3 tensor([0., 0., 0., 1., 0., 0., 0., 0., 0., 0., 0., 0.]) rillaboom (pokemon object) [Active: True, Status: None] ['acrobatics', 'grassyglide', 'highhorsepower', 'knockoff', 'swordsdance', 'uturn', 'woodhammer']\n",
      "1 tensor([0., 1., 0., 0., 0., 0., 0., 0., 0., 0., 0., 0.]) rillaboom (pokemon object) [Active: True, Status: None] ['acrobatics', 'grassyglide', 'highhorsepower', 'knockoff', 'swordsdance', 'uturn', 'woodhammer']\n",
      "3 tensor([0., 0., 0., 1., 0., 0., 0., 0., 0., 0., 0., 0.]) rillaboom (pokemon object) [Active: True, Status: None] ['acrobatics', 'grassyglide', 'highhorsepower', 'knockoff', 'swordsdance', 'uturn', 'woodhammer']\n"
     ]
    }
   ],
   "source": [
    "from poke_env.environment.pokemon import Pokemon\n",
    "from alphagogoat.constants import *\n",
    "import alphagogoat.embedder as embedder\n",
    "emb = embedder.Embedder()\n",
    "import alphagogoat.victini as vc\n",
    "from alphagogoat.utils import make_delphox_data\n",
    "from pathlib import Path\n",
    "json_files = [filepath for filepath in Path(\"cache/replays\").iterdir() if filepath.name.endswith('.json')]\n",
    "test = make_delphox_data(json_files[0])\n",
    "battle = test[0][6]"
   ]
  },
  {
   "cell_type": "code",
   "execution_count": 4,
   "metadata": {},
   "outputs": [
    {
     "data": {
      "text/plain": [
       "{}"
      ]
     },
     "execution_count": 4,
     "metadata": {},
     "output_type": "execute_result"
    }
   ],
   "source": [
    "battle.active_pokemon.moves"
   ]
  },
  {
   "cell_type": "code",
   "execution_count": 6,
   "metadata": {},
   "outputs": [
    {
     "data": {
      "text/plain": [
       "tensor([[ 1.0000e+00,  1.6000e+01,  0.0000e+00,  0.0000e+00,  0.0000e+00,\n",
       "          0.0000e+00,  1.0000e+00,  3.3000e+01,  0.0000e+00,  0.0000e+00,\n",
       "          0.0000e+00,  0.0000e+00,  0.0000e+00,  0.0000e+00,  0.0000e+00,\n",
       "          0.0000e+00,  0.0000e+00,  0.0000e+00,  1.7800e+02,  2.0300e+02,\n",
       "          2.5700e+02,  1.9500e+02,  2.1100e+02,  1.2900e+02,  0.0000e+00,\n",
       "          0.0000e+00,  0.0000e+00,  0.0000e+00,  0.0000e+00,  0.0000e+00,\n",
       "          0.0000e+00,  0.0000e+00,  0.0000e+00,  0.0000e+00,  1.0000e+00,\n",
       "          2.5700e+02,  1.0000e+00,  0.0000e+00,  8.2000e+01,  0.0000e+00,\n",
       "          0.0000e+00,  1.0000e+01, -1.0000e+00, -1.0000e+00,  1.0000e+00,\n",
       "          1.5400e+02,  0.0000e+00,  0.0000e+00,  0.0000e+00,  0.0000e+00,\n",
       "          4.3700e-01,  3.3000e+01,  3.7580e-01,  3.4000e+01,  1.8720e-01,\n",
       "          1.0000e+01,  0.0000e+00,  0.0000e+00,  0.0000e+00,  0.0000e+00,\n",
       "          0.0000e+00,  0.0000e+00,  1.9000e+02,  1.8300e+02,  2.7800e+02,\n",
       "          2.1300e+02,  1.8700e+02,  1.9500e+02,  0.0000e+00,  0.0000e+00,\n",
       "          0.0000e+00,  0.0000e+00,  0.0000e+00,  0.0000e+00,  0.0000e+00,\n",
       "          0.0000e+00,  0.0000e+00,  0.0000e+00,  0.0000e+00,  9.1000e+01,\n",
       "          0.0000e+00,  0.0000e+00,  8.6000e+01,  0.0000e+00,  0.0000e+00,\n",
       "          1.8000e+01, -1.0000e+00, -1.0000e+00,  1.0000e+00,  4.3000e+01,\n",
       "          0.0000e+00,  0.0000e+00,  0.0000e+00,  0.0000e+00,  1.0000e+00,\n",
       "          3.4000e+01,  0.0000e+00,  0.0000e+00,  0.0000e+00,  0.0000e+00,\n",
       "          0.0000e+00,  0.0000e+00,  0.0000e+00,  0.0000e+00,  0.0000e+00,\n",
       "          0.0000e+00,  2.3200e+02,  1.9800e+02,  3.0700e+02,  2.6700e+02,\n",
       "          1.8000e+02,  1.2800e+02,  0.0000e+00,  0.0000e+00,  0.0000e+00,\n",
       "          0.0000e+00,  0.0000e+00,  0.0000e+00,  0.0000e+00,  0.0000e+00,\n",
       "          0.0000e+00,  0.0000e+00,  0.0000e+00,  0.0000e+00,  0.0000e+00,\n",
       "          0.0000e+00,  8.7000e+01,  0.0000e+00,  0.0000e+00,  1.0000e+01,\n",
       "          3.0000e+00,  2.0000e+00,  1.0000e+00,  1.0000e+02,  0.0000e+00,\n",
       "          0.0000e+00,  0.0000e+00,  0.0000e+00,  1.0000e+00,  3.3000e+01,\n",
       "          0.0000e+00,  0.0000e+00,  0.0000e+00,  0.0000e+00,  0.0000e+00,\n",
       "          0.0000e+00,  0.0000e+00,  0.0000e+00,  0.0000e+00,  0.0000e+00,\n",
       "          1.5700e+02,  1.5700e+02,  2.9700e+02,  2.3300e+02,  2.6700e+02,\n",
       "          1.4900e+02,  0.0000e+00,  0.0000e+00,  0.0000e+00,  0.0000e+00,\n",
       "          0.0000e+00,  0.0000e+00,  0.0000e+00,  0.0000e+00,  0.0000e+00,\n",
       "          0.0000e+00,  1.0000e+00,  2.5000e+02,  1.0000e+00,  0.0000e+00,\n",
       "          8.4000e+01,  0.0000e+00,  0.0000e+00,  5.0000e+00, -1.0000e+00,\n",
       "         -1.0000e+00,  1.0000e+00,  1.8100e+02,  0.0000e+00,  0.0000e+00,\n",
       "          0.0000e+00,  0.0000e+00,  1.0000e+00,  2.9000e+01,  0.0000e+00,\n",
       "          0.0000e+00,  0.0000e+00,  0.0000e+00,  0.0000e+00,  0.0000e+00,\n",
       "          0.0000e+00,  0.0000e+00,  0.0000e+00,  0.0000e+00,  2.0900e+02,\n",
       "          1.2900e+02,  5.2000e+01,  1.0300e+02,  1.0300e+02,  1.2100e+02,\n",
       "          0.0000e+00,  0.0000e+00,  0.0000e+00,  0.0000e+00,  0.0000e+00,\n",
       "          0.0000e+00,  0.0000e+00,  0.0000e+00,  0.0000e+00,  0.0000e+00,\n",
       "          0.0000e+00,  1.0000e+00,  0.0000e+00,  0.0000e+00,  8.8000e+01,\n",
       "          0.0000e+00,  0.0000e+00,  1.0000e+00,  9.0000e+00, -1.0000e+00,\n",
       "         -1.0000e+00, -1.0000e+00, -1.0000e+00, -1.0000e+00, -1.0000e+00,\n",
       "         -1.0000e+00, -1.0000e+00, -1.0000e+00, -1.0000e+00, -1.0000e+00,\n",
       "         -1.0000e+00, -1.0000e+00, -1.0000e+00, -1.0000e+00, -1.0000e+00,\n",
       "         -1.0000e+00, -1.0000e+00, -1.0000e+00, -1.0000e+00, -1.0000e+00,\n",
       "         -1.0000e+00, -1.0000e+00, -1.0000e+00, -1.0000e+00, -1.0000e+00,\n",
       "         -1.0000e+00, -1.0000e+00, -1.0000e+00, -1.0000e+00, -1.0000e+00,\n",
       "         -1.0000e+00, -1.0000e+00, -1.0000e+00, -1.0000e+00, -1.0000e+00,\n",
       "         -1.0000e+00, -1.0000e+00, -1.0000e+00, -1.0000e+00, -1.0000e+00,\n",
       "         -1.0000e+00, -1.0000e+00, -1.0000e+00, -1.0000e+00, -1.0000e+00,\n",
       "         -1.0000e+00, -1.0000e+00, -1.0000e+00, -1.0000e+00, -1.0000e+00,\n",
       "         -1.0000e+00, -1.0000e+00, -1.0000e+00, -1.0000e+00, -1.0000e+00,\n",
       "         -1.0000e+00, -1.0000e+00, -1.0000e+00, -1.0000e+00, -1.0000e+00,\n",
       "         -1.0000e+00, -1.0000e+00, -1.0000e+00, -1.0000e+00, -1.0000e+00,\n",
       "         -1.0000e+00, -1.0000e+00, -1.0000e+00, -1.0000e+00, -1.0000e+00,\n",
       "         -1.0000e+00, -1.0000e+00, -1.0000e+00, -1.0000e+00, -1.0000e+00,\n",
       "         -1.0000e+00, -1.0000e+00, -1.0000e+00, -1.0000e+00, -1.0000e+00,\n",
       "         -1.0000e+00, -1.0000e+00, -1.0000e+00, -1.0000e+00, -1.0000e+00,\n",
       "         -1.0000e+00, -1.0000e+00, -1.0000e+00, -1.0000e+00, -1.0000e+00,\n",
       "         -1.0000e+00, -1.0000e+00, -1.0000e+00, -1.0000e+00, -1.0000e+00,\n",
       "         -1.0000e+00, -1.0000e+00, -1.0000e+00, -1.0000e+00, -1.0000e+00,\n",
       "         -1.0000e+00, -1.0000e+00, -1.0000e+00, -1.0000e+00, -1.0000e+00,\n",
       "         -1.0000e+00, -1.0000e+00, -1.0000e+00, -1.0000e+00, -1.0000e+00,\n",
       "         -1.0000e+00, -1.0000e+00, -1.0000e+00, -1.0000e+00, -1.0000e+00,\n",
       "         -1.0000e+00, -1.0000e+00, -1.0000e+00, -1.0000e+00, -1.0000e+00,\n",
       "         -1.0000e+00, -1.0000e+00, -1.0000e+00, -1.0000e+00, -1.0000e+00,\n",
       "         -1.0000e+00, -1.0000e+00, -1.0000e+00, -1.0000e+00, -1.0000e+00,\n",
       "         -1.0000e+00, -1.0000e+00, -1.0000e+00, -1.0000e+00, -1.0000e+00,\n",
       "         -1.0000e+00, -1.0000e+00, -1.0000e+00, -1.0000e+00, -1.0000e+00,\n",
       "         -1.0000e+00, -1.0000e+00, -1.0000e+00, -1.0000e+00, -1.0000e+00,\n",
       "         -1.0000e+00, -1.0000e+00, -1.0000e+00, -1.0000e+00, -1.0000e+00,\n",
       "         -1.0000e+00, -1.0000e+00, -1.0000e+00, -1.0000e+00, -1.0000e+00,\n",
       "         -1.0000e+00, -1.0000e+00, -1.0000e+00, -1.0000e+00, -1.0000e+00,\n",
       "         -1.0000e+00, -1.0000e+00, -1.0000e+00, -1.0000e+00, -1.0000e+00,\n",
       "         -1.0000e+00, -1.0000e+00, -1.0000e+00, -1.0000e+00, -1.0000e+00,\n",
       "         -1.0000e+00, -1.0000e+00, -1.0000e+00, -1.0000e+00, -1.0000e+00,\n",
       "         -1.0000e+00, -1.0000e+00, -1.0000e+00, -1.0000e+00, -1.0000e+00,\n",
       "         -1.0000e+00, -1.0000e+00, -1.0000e+00, -1.0000e+00, -1.0000e+00,\n",
       "         -1.0000e+00, -1.0000e+00, -1.0000e+00, -1.0000e+00, -1.0000e+00,\n",
       "         -1.0000e+00, -1.0000e+00, -1.0000e+00, -1.0000e+00, -1.0000e+00,\n",
       "         -1.0000e+00, -1.0000e+00, -1.0000e+00, -1.0000e+00, -1.0000e+00,\n",
       "         -1.0000e+00, -1.0000e+00, -1.0000e+00, -1.0000e+00, -1.0000e+00,\n",
       "         -1.0000e+00, -1.0000e+00, -1.0000e+00, -1.0000e+00, -1.0000e+00,\n",
       "         -1.0000e+00, -1.0000e+00, -1.0000e+00, -1.0000e+00, -1.0000e+00,\n",
       "         -1.0000e+00, -1.0000e+00, -1.0000e+00, -1.0000e+00, -1.0000e+00,\n",
       "         -1.0000e+00, -1.0000e+00, -1.0000e+00, -1.0000e+00, -1.0000e+00,\n",
       "         -1.0000e+00, -1.0000e+00, -1.0000e+00, -1.0000e+00, -1.0000e+00,\n",
       "         -1.0000e+00, -1.0000e+00, -1.0000e+00, -1.0000e+00, -1.0000e+00,\n",
       "         -1.0000e+00, -1.0000e+00, -1.0000e+00, -1.0000e+00, -1.0000e+00,\n",
       "         -1.0000e+00, -1.0000e+00, -1.0000e+00, -1.0000e+00, -1.0000e+00,\n",
       "         -1.0000e+00, -1.0000e+00, -1.0000e+00, -1.0000e+00, -1.0000e+00,\n",
       "         -1.0000e+00, -1.0000e+00, -1.0000e+00, -1.0000e+00, -1.0000e+00,\n",
       "         -1.0000e+00, -1.0000e+00, -1.0000e+00, -1.0000e+00, -1.0000e+00,\n",
       "         -1.0000e+00, -1.0000e+00, -1.0000e+00, -1.0000e+00, -1.0000e+00,\n",
       "         -1.0000e+00, -1.0000e+00, -1.0000e+00, -1.0000e+00, -1.0000e+00,\n",
       "         -1.0000e+00, -1.0000e+00, -1.0000e+00, -1.0000e+00, -1.0000e+00,\n",
       "         -1.0000e+00, -1.0000e+00, -1.0000e+00, -1.0000e+00, -1.0000e+00,\n",
       "         -1.0000e+00, -1.0000e+00, -1.0000e+00, -1.0000e+00, -1.0000e+00,\n",
       "         -1.0000e+00, -1.0000e+00, -1.0000e+00, -1.0000e+00, -1.0000e+00,\n",
       "         -1.0000e+00, -1.0000e+00, -1.0000e+00, -1.0000e+00, -1.0000e+00,\n",
       "         -1.0000e+00, -1.0000e+00, -1.0000e+00, -1.0000e+00, -1.0000e+00,\n",
       "         -1.0000e+00, -1.0000e+00, -1.0000e+00, -1.0000e+00, -1.0000e+00,\n",
       "         -1.0000e+00, -1.0000e+00, -1.0000e+00, -1.0000e+00, -1.0000e+00,\n",
       "         -1.0000e+00, -1.0000e+00, -1.0000e+00, -1.0000e+00, -1.0000e+00,\n",
       "         -1.0000e+00, -1.0000e+00, -1.0000e+00, -1.0000e+00, -1.0000e+00,\n",
       "         -1.0000e+00, -1.0000e+00,  0.0000e+00,  0.0000e+00,  5.5500e+01,\n",
       "          0.0000e+00,  0.0000e+00,  4.6000e+01,  0.0000e+00, -1.0000e+00,\n",
       "         -1.0000e+00, -1.0000e+00, -1.0000e+00, -1.0000e+00, -1.0000e+00,\n",
       "          6.9500e+01,  0.0000e+00,  0.0000e+00,  1.1750e+02,  0.0000e+00,\n",
       "         -1.0000e+00, -1.0000e+00, -1.0000e+00, -1.0000e+00, -1.0000e+00,\n",
       "         -1.0000e+00, -1.0000e+00, -1.0000e+00, -1.0000e+00, -1.0000e+00,\n",
       "         -1.0000e+00, -1.0000e+00, -1.0000e+00, -1.0000e+00, -1.0000e+00,\n",
       "         -1.0000e+00, -1.0000e+00, -1.0000e+00, -1.0000e+00, -1.0000e+00,\n",
       "         -1.0000e+00, -1.0000e+00, -1.0000e+00, -1.0000e+00, -1.0000e+00,\n",
       "         -1.0000e+00, -1.0000e+00, -1.0000e+00, -1.0000e+00, -1.0000e+00,\n",
       "         -1.0000e+00, -1.0000e+00, -1.0000e+00, -1.0000e+00, -1.0000e+00,\n",
       "         -1.0000e+00, -1.0000e+00, -1.0000e+00, -1.0000e+00, -1.0000e+00,\n",
       "         -1.0000e+00, -1.0000e+00, -1.0000e+00, -1.0000e+00, -1.0000e+00,\n",
       "         -1.0000e+00, -1.0000e+00, -1.0000e+00, -1.0000e+00, -1.0000e+00,\n",
       "          6.6500e+01,  0.0000e+00,  5.0000e+01,  3.2500e+01,  4.4500e+01,\n",
       "          0.0000e+00, -1.0000e+00, -1.0000e+00, -1.0000e+00, -1.0000e+00,\n",
       "         -1.0000e+00,  1.6950e+02,  0.0000e+00,  1.2650e+02,  0.0000e+00,\n",
       "          1.1300e+02,  0.0000e+00, -1.0000e+00, -1.0000e+00, -1.0000e+00,\n",
       "         -1.0000e+00, -1.0000e+00, -1.0000e+00, -1.0000e+00, -1.0000e+00,\n",
       "         -1.0000e+00, -1.0000e+00, -1.0000e+00, -1.0000e+00, -1.0000e+00,\n",
       "         -1.0000e+00, -1.0000e+00, -1.0000e+00, -1.0000e+00, -1.0000e+00,\n",
       "         -1.0000e+00, -1.0000e+00, -1.0000e+00, -1.0000e+00, -1.0000e+00,\n",
       "         -1.0000e+00, -1.0000e+00, -1.0000e+00, -1.0000e+00, -1.0000e+00,\n",
       "         -1.0000e+00, -1.0000e+00, -1.0000e+00, -1.0000e+00, -1.0000e+00,\n",
       "         -1.0000e+00, -1.0000e+00, -1.0000e+00, -1.0000e+00, -1.0000e+00,\n",
       "         -1.0000e+00, -1.0000e+00, -1.0000e+00, -1.0000e+00, -1.0000e+00,\n",
       "         -1.0000e+00, -1.0000e+00, -1.0000e+00, -1.0000e+00, -1.0000e+00,\n",
       "         -1.0000e+00,  0.0000e+00,  6.3000e+01,  7.8500e+01,  1.3500e+02,\n",
       "          0.0000e+00, -1.0000e+00, -1.0000e+00, -1.0000e+00, -1.0000e+00,\n",
       "         -1.0000e+00, -1.0000e+00,  3.4650e+02,  3.2100e+02,  1.0000e+02,\n",
       "          1.7300e+02,  0.0000e+00, -1.0000e+00, -1.0000e+00, -1.0000e+00,\n",
       "         -1.0000e+00, -1.0000e+00, -1.0000e+00, -1.0000e+00, -1.0000e+00,\n",
       "         -1.0000e+00, -1.0000e+00, -1.0000e+00, -1.0000e+00, -1.0000e+00,\n",
       "         -1.0000e+00, -1.0000e+00, -1.0000e+00, -1.0000e+00, -1.0000e+00,\n",
       "         -1.0000e+00, -1.0000e+00, -1.0000e+00, -1.0000e+00, -1.0000e+00,\n",
       "         -1.0000e+00, -1.0000e+00, -1.0000e+00, -1.0000e+00, -1.0000e+00,\n",
       "         -1.0000e+00, -1.0000e+00, -1.0000e+00, -1.0000e+00, -1.0000e+00,\n",
       "         -1.0000e+00, -1.0000e+00, -1.0000e+00, -1.0000e+00, -1.0000e+00,\n",
       "         -1.0000e+00, -1.0000e+00, -1.0000e+00, -1.0000e+00, -1.0000e+00,\n",
       "         -1.0000e+00, -1.0000e+00, -1.0000e+00, -1.0000e+00, -1.0000e+00,\n",
       "         -1.0000e+00, -1.0000e+00, -1.0000e+00, -1.0000e+00, -1.0000e+00,\n",
       "         -1.0000e+00, -1.0000e+00, -1.0000e+00, -1.0000e+00, -1.0000e+00,\n",
       "         -1.0000e+00, -1.0000e+00, -1.0000e+00, -1.0000e+00, -1.0000e+00,\n",
       "         -1.0000e+00, -1.0000e+00, -1.0000e+00, -1.0000e+00, -1.0000e+00,\n",
       "         -1.0000e+00, -1.0000e+00, -1.0000e+00, -1.0000e+00, -1.0000e+00,\n",
       "         -1.0000e+00, -1.0000e+00, -1.0000e+00, -1.0000e+00, -1.0000e+00,\n",
       "         -1.0000e+00, -1.0000e+00, -1.0000e+00, -1.0000e+00, -1.0000e+00,\n",
       "         -1.0000e+00, -1.0000e+00, -1.0000e+00, -1.0000e+00, -1.0000e+00,\n",
       "         -1.0000e+00, -1.0000e+00, -1.0000e+00, -1.0000e+00, -1.0000e+00,\n",
       "         -1.0000e+00, -1.0000e+00, -1.0000e+00, -1.0000e+00, -1.0000e+00,\n",
       "         -1.0000e+00, -1.0000e+00, -1.0000e+00, -1.0000e+00, -1.0000e+00,\n",
       "         -1.0000e+00, -1.0000e+00, -1.0000e+00, -1.0000e+00, -1.0000e+00,\n",
       "         -1.0000e+00, -1.0000e+00, -1.0000e+00, -1.0000e+00, -1.0000e+00,\n",
       "         -1.0000e+00, -1.0000e+00, -1.0000e+00, -1.0000e+00, -1.0000e+00,\n",
       "         -1.0000e+00, -1.0000e+00, -1.0000e+00, -1.0000e+00, -1.0000e+00,\n",
       "         -1.0000e+00, -1.0000e+00, -1.0000e+00, -1.0000e+00, -1.0000e+00,\n",
       "         -1.0000e+00, -1.0000e+00, -1.0000e+00, -1.0000e+00, -1.0000e+00,\n",
       "         -1.0000e+00, -1.0000e+00, -1.0000e+00, -1.0000e+00, -1.0000e+00,\n",
       "         -1.0000e+00, -1.0000e+00, -1.0000e+00, -1.0000e+00, -1.0000e+00,\n",
       "         -1.0000e+00, -1.0000e+00, -1.0000e+00, -1.0000e+00, -1.0000e+00,\n",
       "         -1.0000e+00, -1.0000e+00, -1.0000e+00, -1.0000e+00, -1.0000e+00,\n",
       "         -1.0000e+00, -1.0000e+00, -1.0000e+00, -1.0000e+00, -1.0000e+00,\n",
       "         -1.0000e+00, -1.0000e+00, -1.0000e+00, -1.0000e+00, -1.0000e+00,\n",
       "         -1.0000e+00, -1.0000e+00, -1.0000e+00, -1.0000e+00, -1.0000e+00,\n",
       "         -1.0000e+00, -1.0000e+00, -1.0000e+00, -1.0000e+00, -1.0000e+00,\n",
       "         -1.0000e+00, -1.0000e+00, -1.0000e+00, -1.0000e+00, -1.0000e+00,\n",
       "         -1.0000e+00, -1.0000e+00, -1.0000e+00, -1.0000e+00, -1.0000e+00,\n",
       "         -1.0000e+00, -1.0000e+00, -1.0000e+00, -1.0000e+00, -1.0000e+00,\n",
       "         -1.0000e+00, -1.0000e+00, -1.0000e+00, -1.0000e+00, -1.0000e+00,\n",
       "         -1.0000e+00, -1.0000e+00, -1.0000e+00, -1.0000e+00, -1.0000e+00,\n",
       "         -1.0000e+00, -1.0000e+00, -1.0000e+00, -1.0000e+00, -1.0000e+00,\n",
       "         -1.0000e+00, -1.0000e+00, -1.0000e+00, -1.0000e+00, -1.0000e+00,\n",
       "         -1.0000e+00, -1.0000e+00, -1.0000e+00, -1.0000e+00, -1.0000e+00,\n",
       "         -1.0000e+00, -1.0000e+00, -1.0000e+00, -1.0000e+00, -1.0000e+00,\n",
       "         -1.0000e+00, -1.0000e+00, -1.0000e+00, -1.0000e+00, -1.0000e+00,\n",
       "         -1.0000e+00, -1.0000e+00, -1.0000e+00, -1.0000e+00, -1.0000e+00,\n",
       "         -1.0000e+00, -1.0000e+00, -1.0000e+00, -1.0000e+00, -1.0000e+00,\n",
       "         -1.0000e+00, -1.0000e+00, -1.0000e+00, -1.0000e+00, -1.0000e+00,\n",
       "         -1.0000e+00, -1.0000e+00, -1.0000e+00, -1.0000e+00, -1.0000e+00,\n",
       "         -1.0000e+00, -1.0000e+00, -1.0000e+00, -1.0000e+00, -1.0000e+00]])"
      ]
     },
     "execution_count": 6,
     "metadata": {},
     "output_type": "execute_result"
    }
   ],
   "source": [
    "vc.computeFuture(battle, (('bellossom', 'quiverdance'), ('sylveon', 'calmmind')))"
   ]
  },
  {
   "cell_type": "code",
   "execution_count": 15,
   "metadata": {},
   "outputs": [],
   "source": [
    "from poke_env.environment.status import Status"
   ]
  },
  {
   "cell_type": "code",
   "execution_count": 16,
   "metadata": {},
   "outputs": [
    {
     "data": {
      "text/plain": [
       "<Status.FNT: 2>"
      ]
     },
     "execution_count": 16,
     "metadata": {},
     "output_type": "execute_result"
    }
   ],
   "source": [
    "Status['FNT']"
   ]
  },
  {
   "cell_type": "code",
   "execution_count": 7,
   "metadata": {},
   "outputs": [],
   "source": [
    "def pass_around(b):\n",
    "    b.team['gigalith'] = Pokemon(species='gigalith', gen=8)"
   ]
  },
  {
   "cell_type": "code",
   "execution_count": 8,
   "metadata": {},
   "outputs": [],
   "source": [
    "d = pass_around(battle)"
   ]
  },
  {
   "cell_type": "code",
   "execution_count": 10,
   "metadata": {},
   "outputs": [
    {
     "ename": "AttributeError",
     "evalue": "'NoneType' object has no attribute 'team'",
     "output_type": "error",
     "traceback": [
      "\u001b[0;31m---------------------------------------------------------------------------\u001b[0m",
      "\u001b[0;31mAttributeError\u001b[0m                            Traceback (most recent call last)",
      "Cell \u001b[0;32mIn[10], line 2\u001b[0m\n\u001b[1;32m      1\u001b[0m battle\u001b[39m.\u001b[39mteam\n\u001b[0;32m----> 2\u001b[0m d\u001b[39m.\u001b[39;49mteam\n",
      "\u001b[0;31mAttributeError\u001b[0m: 'NoneType' object has no attribute 'team'"
     ]
    }
   ],
   "source": [
    "battle.team\n",
    "d.team"
   ]
  }
 ],
 "metadata": {
  "kernelspec": {
   "display_name": "Python 3",
   "language": "python",
   "name": "python3"
  },
  "language_info": {
   "codemirror_mode": {
    "name": "ipython",
    "version": 3
   },
   "file_extension": ".py",
   "mimetype": "text/x-python",
   "name": "python",
   "nbconvert_exporter": "python",
   "pygments_lexer": "ipython3",
   "version": "3.11.2"
  }
 },
 "nbformat": 4,
 "nbformat_minor": 0
}
