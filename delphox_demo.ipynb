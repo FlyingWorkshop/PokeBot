{
 "cells": [
  {
   "cell_type": "code",
   "execution_count": 24,
   "outputs": [
    {
     "name": "stdout",
     "output_type": "stream",
     "text": [
      "The autoreload extension is already loaded. To reload it, use:\n",
      "  %reload_ext autoreload\n"
     ]
    }
   ],
   "source": [
    "%load_ext autoreload\n",
    "%autoreload 2"
   ],
   "metadata": {
    "collapsed": false,
    "ExecuteTime": {
     "end_time": "2023-05-17T23:14:45.429166Z",
     "start_time": "2023-05-17T23:14:45.091555Z"
    }
   }
  },
  {
   "cell_type": "code",
   "execution_count": 30,
   "outputs": [],
   "source": [
    "from alphagogoat.delphox import Delphox\n",
    "from alphagogoat.utils import DataExtractor\n",
    "from pathlib import Path\n",
    "from tqdm.auto import tqdm\n",
    "from joblib import Parallel, delayed\n",
    "import json"
   ],
   "metadata": {
    "collapsed": false,
    "ExecuteTime": {
     "end_time": "2023-05-17T23:27:46.587002Z",
     "start_time": "2023-05-17T23:27:46.458228Z"
    }
   }
  },
  {
   "cell_type": "code",
   "execution_count": 32,
   "outputs": [
    {
     "data": {
      "text/plain": "  0%|          | 0/145 [00:00<?, ?it/s]",
      "application/vnd.jupyter.widget-view+json": {
       "version_major": 2,
       "version_minor": 0,
       "model_id": "10bf27f43b2244d2a28c8c400b5273a6"
      }
     },
     "metadata": {},
     "output_type": "display_data"
    },
    {
     "name": "stderr",
     "output_type": "stream",
     "text": [
      "2023-05-17 16:29:36,401 - poke-env - WARNING - Unmanaged move message format received - cleaned up message ['', 'move', 'p1a: Type: Null', 'Rest', 'p1a: Type: Null', '[from]Sleep Talk'] in battle gen8randombattle-1200357629 turn 14\n",
      "2023-05-17 16:29:37,157 - poke-env - WARNING - Unmanaged move message format received - cleaned up message ['', 'move', 'p1a: Type: Null', 'Crush Claw', 'p2a: Ninetales', '[from]Sleep Talk'] in battle gen8randombattle-1200357629 turn 26\n",
      "2023-05-17 16:29:37,484 - poke-env - WARNING - Unmanaged move message format received - cleaned up message ['', 'move', 'p1a: Type: Null', 'Swords Dance', 'p1a: Type: Null', '[from]Sleep Talk'] in battle gen8randombattle-1200357629 turn 31\n",
      "2023-05-17 16:29:40,311 - poke-env - WARNING - Rating information regarding an unrecognized username received. Received 'kyuremwhite&gt;blick', while only known players are 'darkell8' and 'kyuremwhite>blick'\n"
     ]
    }
   ],
   "source": [
    "battle_paths = [f\"cache/replays/{file.name}\" for file in Path(\"cache/replays\").iterdir() if file.name.endswith(\".json\")]\n",
    "\n",
    "def get_turns(battle_json_path):\n",
    "    return DataExtractor(battle_json_path).turns\n",
    "\n",
    "battles = Parallel(n_jobs=4)(delayed(get_turns)(battle_json_path) for battle_json_path in tqdm(battle_paths))"
   ],
   "metadata": {
    "collapsed": false,
    "ExecuteTime": {
     "end_time": "2023-05-17T23:29:53.359254Z",
     "start_time": "2023-05-17T23:28:18.260764Z"
    }
   }
  },
  {
   "cell_type": "code",
   "execution_count": 40,
   "outputs": [
    {
     "data": {
      "text/plain": "dracovish (pokemon object) [Active: True, Status: None]"
     },
     "execution_count": 40,
     "metadata": {},
     "output_type": "execute_result"
    }
   ],
   "source": [
    "battle = battles[0][0]\n",
    "battle.active_pokemon"
   ],
   "metadata": {
    "collapsed": false,
    "ExecuteTime": {
     "end_time": "2023-05-17T23:44:33.706547Z",
     "start_time": "2023-05-17T23:44:33.663925Z"
    }
   }
  },
  {
   "cell_type": "code",
   "execution_count": null,
   "outputs": [],
   "source": [],
   "metadata": {
    "collapsed": false
   }
  }
 ],
 "metadata": {
  "kernelspec": {
   "display_name": "Python 3",
   "language": "python",
   "name": "python3"
  },
  "language_info": {
   "codemirror_mode": {
    "name": "ipython",
    "version": 2
   },
   "file_extension": ".py",
   "mimetype": "text/x-python",
   "name": "python",
   "nbconvert_exporter": "python",
   "pygments_lexer": "ipython2",
   "version": "2.7.6"
  }
 },
 "nbformat": 4,
 "nbformat_minor": 0
}
