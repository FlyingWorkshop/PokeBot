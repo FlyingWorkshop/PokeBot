{
 "cells": [
  {
   "cell_type": "code",
   "execution_count": 1,
   "metadata": {
    "ExecuteTime": {
     "end_time": "2023-05-24T20:49:17.485665Z",
     "start_time": "2023-05-24T20:49:17.467245Z"
    }
   },
   "outputs": [],
   "source": [
    "%load_ext autoreload\n",
    "%autoreload 2"
   ]
  },
  {
   "cell_type": "code",
   "execution_count": 21,
   "metadata": {
    "ExecuteTime": {
     "end_time": "2023-05-24T22:10:28.348978Z",
     "start_time": "2023-05-24T22:10:28.313911Z"
    }
   },
   "outputs": [],
   "source": [
    "# from alphagogoat.delphox import Delphox\n",
    "from alphagogoat.utils import DataExtractor\n",
    "# from alphagogoat.embedder import process_battle\n",
    "from pathlib import Path\n",
    "from tqdm.auto import tqdm\n",
    "from joblib import Parallel, delayed\n",
    "import json\n",
    "import numpy as np\n",
    "import json\n",
    "import logging\n",
    "import copy\n",
    "from enum import IntEnum\n",
    "from collections import Counter\n",
    "\n",
    "from poke_env.environment.battle import Battle\n",
    "from poke_env.environment.move import Move\n",
    "import re\n",
    "from poke_env.environment.pokemon import Pokemon\n",
    "from poke_env.environment.effect import Effect\n",
    "import torch\n",
    "\n",
    "\n",
    "# from alphagogoat.pokedex import make_pokedex\n",
    "LOGGER = logging.getLogger('poke-env')\n",
    "GEN = 8\n",
    "# POKEDEX = make_pokedex()"
   ]
  },
  {
   "cell_type": "code",
   "execution_count": 9,
   "metadata": {
    "collapsed": false,
    "ExecuteTime": {
     "end_time": "2023-05-24T21:56:06.521327Z",
     "start_time": "2023-05-24T21:56:06.475845Z"
    }
   },
   "outputs": [],
   "source": [
    "def process_battle(battle_json: str) -> list[Battle]:\n",
    "    with open(battle_json) as f:\n",
    "        battle_data = json.load(f)\n",
    "    history = battle_data['log'].split('\\n')\n",
    "    curr_battle = Battle(battle_data['id'], battle_data['p1'], LOGGER, GEN)\n",
    "    curr_battle._opponent_username = battle_data['p2']\n",
    "    battle_objects = []\n",
    "    for line in history:\n",
    "        try:\n",
    "            curr_battle._parse_message(line.split('|'))\n",
    "            if line.split('|')[1] == 'turn':\n",
    "                battle_objects.append(copy.deepcopy(curr_battle))\n",
    "        except:\n",
    "            continue\n",
    "\n",
    "    return battle_objects\n"
   ]
  },
  {
   "cell_type": "code",
   "execution_count": 10,
   "metadata": {
    "ExecuteTime": {
     "end_time": "2023-05-24T21:56:16.354394Z",
     "start_time": "2023-05-24T21:56:07.362531Z"
    }
   },
   "outputs": [
    {
     "data": {
      "text/plain": "  0%|          | 0/5 [00:00<?, ?it/s]",
      "application/vnd.jupyter.widget-view+json": {
       "version_major": 2,
       "version_minor": 0,
       "model_id": "90ab94ba27594a3b848b86e38123fa77"
      }
     },
     "metadata": {},
     "output_type": "display_data"
    }
   ],
   "source": [
    "battle_paths = [f\"cache/replays/{file.name}\" for file in Path(\"cache/replays\").iterdir() if file.name.endswith(\".json\")]\n",
    "\n",
    "def get_turns(battle_json_path):\n",
    "    return DataExtractor(battle_json_path)\n",
    "\n",
    "# DEBUGGING\n",
    "battle_paths = battle_paths[:5]\n",
    "extractors = Parallel(n_jobs=4)(delayed(get_turns)(battle_json_path) for battle_json_path in tqdm(battle_paths))"
   ]
  },
  {
   "cell_type": "code",
   "execution_count": 11,
   "metadata": {
    "ExecuteTime": {
     "end_time": "2023-05-24T21:56:17.191349Z",
     "start_time": "2023-05-24T21:56:16.359046Z"
    }
   },
   "outputs": [
    {
     "data": {
      "text/plain": "  0%|          | 0/95 [00:00<?, ?it/s]",
      "application/vnd.jupyter.widget-view+json": {
       "version_major": 2,
       "version_minor": 0,
       "model_id": "c1ebadb82a2e49ec9d1ddb9a7cd8d46f"
      }
     },
     "metadata": {},
     "output_type": "display_data"
    },
    {
     "data": {
      "text/plain": "  0%|          | 0/460 [00:00<?, ?it/s]",
      "application/vnd.jupyter.widget-view+json": {
       "version_major": 2,
       "version_minor": 0,
       "model_id": "15f8108a69a4478186ff9ec18ca56963"
      }
     },
     "metadata": {},
     "output_type": "display_data"
    }
   ],
   "source": [
    "pokedex = {}\n",
    "for filepath in tqdm(list(Path(\"cache/teams\").iterdir())):\n",
    "    with open(filepath, 'r') as f:\n",
    "        data = json.load(f)\n",
    "    for key, value in data.items():\n",
    "        if key not in pokedex:\n",
    "            pokedex[key] = {k: [] for k in value.keys()}\n",
    "        for k, v in value.items():\n",
    "            pokedex[key][k].append(v)\n",
    "\n",
    "for pokemon, dicts in tqdm(pokedex.items()):\n",
    "    pokedex[pokemon]['level'] = int(np.round(np.mean(pokedex[pokemon]['level'])))\n",
    "    for k1 in ['abilities', 'moves', 'items']:\n",
    "        d = {}\n",
    "        if k1 in dicts:\n",
    "            for dict_ in dicts[k1]:\n",
    "                if not isinstance(dict_, dict):\n",
    "                    continue\n",
    "                for k2, prob in dict_.items():\n",
    "                    if k2 not in d:\n",
    "                        d[k2] = []\n",
    "                    d[k2].append(prob)\n",
    "            for k2, probs in d.items():\n",
    "                d[k2] = np.mean(probs)\n",
    "        pokedex[pokemon][k1] = d"
   ]
  },
  {
   "cell_type": "code",
   "execution_count": 14,
   "metadata": {
    "ExecuteTime": {
     "end_time": "2023-05-24T21:56:26.093413Z",
     "start_time": "2023-05-24T21:56:26.050886Z"
    }
   },
   "outputs": [
    {
     "data": {
      "text/plain": "{'level': 92,\n 'abilities': {'Lightning Rod': 1.0},\n 'items': {'Light Ball': 1.0},\n 'moves': {'Volt Tackle': 1.0,\n  'Volt Switch': 0.7811421052631576,\n  'Surf': 0.7477557894736836,\n  'Knock Off': 0.7467810526315792,\n  'Iron Tail': 0.7243210526315785}}"
     },
     "execution_count": 14,
     "metadata": {},
     "output_type": "execute_result"
    }
   ],
   "source": [
    "pokedex['Pikachu']"
   ]
  },
  {
   "cell_type": "code",
   "execution_count": 15,
   "outputs": [],
   "source": [
    "item_catalog = set()\n",
    "for pokemon, data in pokedex.items():\n",
    "    item_catalog.update(data['items'])\n",
    "\n",
    "item_catalog = sorted(list(item_catalog))\n",
    "Item = IntEnum('Item', item_catalog)"
   ],
   "metadata": {
    "collapsed": false,
    "ExecuteTime": {
     "end_time": "2023-05-24T21:56:27.049360Z",
     "start_time": "2023-05-24T21:56:27.004563Z"
    }
   }
  },
  {
   "cell_type": "code",
   "execution_count": 28,
   "outputs": [],
   "source": [
    "move_catalog = set()\n",
    "for pokemon, data in pokedex.items():\n",
    "    move_catalog.update(data['moves'])\n",
    "\n",
    "move_catalog = [Move(re.sub(\"\\s|-|'\", \"\", move.lower()), 8) for move in sorted(list(move_catalog))]\n",
    "volatile_status_catalog = set()\n",
    "for move in move_catalog:\n",
    "    if move.volatile_status is None:\n",
    "        continue\n",
    "    volatile_status_catalog.add(move.volatile_status)\n",
    "\n",
    "VolatileStatus = IntEnum(\"VolatileStatus\", list(sorted(volatile_status_catalog)))"
   ],
   "metadata": {
    "collapsed": false,
    "ExecuteTime": {
     "end_time": "2023-05-24T22:13:27.324539Z",
     "start_time": "2023-05-24T22:13:27.287136Z"
    }
   }
  },
  {
   "cell_type": "code",
   "execution_count": 59,
   "outputs": [
    {
     "name": "stdout",
     "output_type": "stream",
     "text": [
      "ancientpower (Move object)\n",
      "[{'chance': 10, 'self': {'boosts': {'atk': 1, 'def': 1, 'spa': 1, 'spd': 1, 'spe': 1}}}]\n",
      "appleacid (Move object)\n",
      "[{'boosts': {'spd': -1}, 'chance': 100}]\n",
      "aurawheel (Move object)\n",
      "[{'chance': 100, 'self': {'boosts': {'spe': 1}}}]\n",
      "bugbuzz (Move object)\n",
      "[{'boosts': {'spd': -1}, 'chance': 10}]\n",
      "crunch (Move object)\n",
      "[{'boosts': {'def': -1}, 'chance': 20}]\n",
      "crushclaw (Move object)\n",
      "[{'boosts': {'def': -1}, 'chance': 50}]\n",
      "earthpower (Move object)\n",
      "[{'boosts': {'spd': -1}, 'chance': 10}]\n",
      "energyball (Move object)\n",
      "[{'boosts': {'spd': -1}, 'chance': 10}]\n",
      "firelash (Move object)\n",
      "[{'boosts': {'def': -1}, 'chance': 100}]\n",
      "flamecharge (Move object)\n",
      "[{'chance': 100, 'self': {'boosts': {'spe': 1}}}]\n",
      "flashcannon (Move object)\n",
      "[{'boosts': {'spd': -1}, 'chance': 10}]\n",
      "focusblast (Move object)\n",
      "[{'boosts': {'spd': -1}, 'chance': 10}]\n",
      "glaciate (Move object)\n",
      "[{'boosts': {'spe': -1}, 'chance': 100}]\n",
      "gravapple (Move object)\n",
      "[{'boosts': {'def': -1}, 'chance': 100}]\n",
      "icywind (Move object)\n",
      "[{'boosts': {'spe': -1}, 'chance': 100}]\n",
      "irontail (Move object)\n",
      "[{'boosts': {'def': -1}, 'chance': 30}]\n",
      "liquidation (Move object)\n",
      "[{'boosts': {'def': -1}, 'chance': 20}]\n",
      "meteormash (Move object)\n",
      "[{'chance': 20, 'self': {'boosts': {'atk': 1}}}]\n",
      "moonblast (Move object)\n",
      "[{'boosts': {'spa': -1}, 'chance': 30}]\n",
      "mysticalfire (Move object)\n",
      "[{'boosts': {'spa': -1}, 'chance': 100}]\n",
      "playrough (Move object)\n",
      "[{'boosts': {'atk': -1}, 'chance': 10}]\n",
      "psychic (Move object)\n",
      "[{'boosts': {'spd': -1}, 'chance': 10}]\n",
      "rapidspin (Move object)\n",
      "[{'chance': 100, 'self': {'boosts': {'spe': 1}}}]\n",
      "rocktomb (Move object)\n",
      "[{'boosts': {'spe': -1}, 'chance': 100}]\n",
      "shadowball (Move object)\n",
      "[{'boosts': {'spd': -1}, 'chance': 20}]\n",
      "spiritbreak (Move object)\n",
      "[{'boosts': {'spa': -1}, 'chance': 100}]\n",
      "keys={'status', 'onHit', 'boosts', 'chance', 'volatileStatus', 'self', 'dustproof'}\n"
     ]
    }
   ],
   "source": [
    "max_slots = 0\n",
    "max_status = 0\n",
    "max_on_hit = 0\n",
    "max_boosts = 0\n",
    "max_chance = 0\n",
    "max_volatile_status = 0\n",
    "max_self = 0\n",
    "# NOTE: ignore dustproof\n",
    "keys = set()\n",
    "for move in move_catalog:\n",
    "    if move.secondary:\n",
    "        if any('self' in d for d in move.secondary):\n",
    "            print(move)\n",
    "            print(move.secondary)\n",
    "        if any('boosts' in d for d in move.secondary):\n",
    "            print(move)\n",
    "            print(move.secondary)\n",
    "        for d in move.secondary:\n",
    "            keys.update(d.keys())\n",
    "        # keys = Counter()\n",
    "        # for d in move.secondary:\n",
    "        #     for k in d:\n",
    "        #         if k == 'chance':\n",
    "        #             continue\n",
    "        #         keys[k] += 1\n",
    "        # print(keys.most_common(1))\n",
    "        # num_slots = 0\n",
    "        # for d in move.secondary:\n",
    "        #     num_slots += len(d)\n",
    "        #     keys.update(d.keys())\n",
    "        #     # print(list(d.keys())[0])\n",
    "        #     if 'status' in d:\n",
    "        #         print(d)\n",
    "        # max_slots = max(num_slots, max_slots)\n",
    "        # print(f\"{}\")\n",
    "# print(f\"{max_slots=}\")\n",
    "print(f\"{keys=}\")"
   ],
   "metadata": {
    "collapsed": false,
    "ExecuteTime": {
     "end_time": "2023-05-24T23:27:09.204999Z",
     "start_time": "2023-05-24T23:27:09.161397Z"
    }
   }
  },
  {
   "cell_type": "code",
   "execution_count": 53,
   "outputs": [
    {
     "data": {
      "text/plain": "[<VolatileStatus.banefulbunker: 1>,\n <VolatileStatus.curse: 2>,\n <VolatileStatus.destinybond: 3>,\n <VolatileStatus.disable: 4>,\n <VolatileStatus.encore: 5>,\n <VolatileStatus.focusenergy: 6>,\n <VolatileStatus.kingsshield: 7>,\n <VolatileStatus.leechseed: 8>,\n <VolatileStatus.magnetrise: 9>,\n <VolatileStatus.noretreat: 10>,\n <VolatileStatus.protect: 11>,\n <VolatileStatus.smackdown: 12>,\n <VolatileStatus.spikyshield: 13>,\n <VolatileStatus.substitute: 14>,\n <VolatileStatus.taunt: 15>,\n <VolatileStatus.yawn: 16>]"
     },
     "execution_count": 53,
     "metadata": {},
     "output_type": "execute_result"
    }
   ],
   "source": [
    "list(VolatileStatus)"
   ],
   "metadata": {
    "collapsed": false,
    "ExecuteTime": {
     "end_time": "2023-05-24T23:05:51.464315Z",
     "start_time": "2023-05-24T23:05:51.400853Z"
    }
   }
  },
  {
   "cell_type": "code",
   "execution_count": 28,
   "outputs": [
    {
     "data": {
      "text/plain": "63"
     },
     "execution_count": 28,
     "metadata": {},
     "output_type": "execute_result"
    }
   ],
   "source": [
    "len(item_catalog)"
   ],
   "metadata": {
    "collapsed": false,
    "ExecuteTime": {
     "end_time": "2023-05-23T21:52:46.270266Z",
     "start_time": "2023-05-23T21:52:46.263293Z"
    }
   }
  },
  {
   "cell_type": "code",
   "execution_count": 17,
   "metadata": {
    "ExecuteTime": {
     "end_time": "2023-05-24T22:03:04.676115Z",
     "start_time": "2023-05-24T22:03:04.637620Z"
    }
   },
   "outputs": [
    {
     "name": "stdout",
     "output_type": "stream",
     "text": [
      "max_abilities=3\n",
      "max_items=6\n",
      "max_moves=8\n"
     ]
    }
   ],
   "source": [
    "max_abilities = 0\n",
    "max_items = 0\n",
    "max_moves = 0\n",
    "for pokemon, data in pokedex.items():\n",
    "    max_abilities = max(len(data['abilities']), max_abilities)\n",
    "    max_moves = max(len(data['moves']), max_moves)\n",
    "    max_items = max(len(data['items']), max_items)\n",
    "print(f\"{max_abilities=}\\n{max_items=}\\n{max_moves=}\")"
   ]
  },
  {
   "cell_type": "code",
   "execution_count": null,
   "outputs": [],
   "source": [
    "\n",
    "dynamax_moves = [move.dynamaxed]"
   ],
   "metadata": {
    "collapsed": false
   }
  },
  {
   "cell_type": "code",
   "execution_count": 18,
   "metadata": {
    "ExecuteTime": {
     "end_time": "2023-05-24T22:03:06.259932Z",
     "start_time": "2023-05-24T22:03:06.194030Z"
    }
   },
   "outputs": [
    {
     "name": "stdout",
     "output_type": "stream",
     "text": [
      "successfully extracted all features\n"
     ]
    },
    {
     "data": {
      "text/plain": "torch.Size([4981])"
     },
     "execution_count": 18,
     "metadata": {},
     "output_type": "execute_result"
    }
   ],
   "source": [
    "turns = extractors[0].turns\n",
    "extractor = extractors[0]\n",
    "embedding = extractor.embed(turns[3])\n",
    "embedding.shape"
   ]
  },
  {
   "cell_type": "code",
   "execution_count": 19,
   "metadata": {
    "ExecuteTime": {
     "end_time": "2023-05-24T22:03:18.249562Z",
     "start_time": "2023-05-24T22:03:16.544282Z"
    }
   },
   "outputs": [],
   "source": [
    "battle_json = \"cache/replays/gen8randombattle-1123651831.json\"\n",
    "turns = process_battle(battle_json)"
   ]
  },
  {
   "cell_type": "code",
   "execution_count": 12,
   "metadata": {
    "ExecuteTime": {
     "end_time": "2023-05-23T21:27:26.347191Z",
     "start_time": "2023-05-23T21:27:26.336793Z"
    },
    "collapsed": false
   },
   "outputs": [
    {
     "name": "stdout",
     "output_type": "stream",
     "text": [
      "{'incineroar': incineroar (pokemon object) [Active: True, Status: TOX], 'rotommow': rotommow (pokemon object) [Active: True, Status: TOX], 'gourgeistlarge': gourgeistlarge (pokemon object) [Active: True, Status: None], 'falinks': falinks (pokemon object) [Active: True, Status: None]}\n"
     ]
    }
   ],
   "source": [
    "team = {}\n",
    "for turn in turns:\n",
    "    active = turn.active_pokemon\n",
    "    team[active.species] = active\n",
    "    # print(active.moves)\n",
    "print(team)"
   ]
  },
  {
   "cell_type": "code",
   "execution_count": null,
   "metadata": {
    "collapsed": false
   },
   "outputs": [],
   "source": [
    "pokedex['Incineroar'].keys()"
   ]
  },
  {
   "cell_type": "code",
   "execution_count": null,
   "metadata": {
    "collapsed": false
   },
   "outputs": [],
   "source": []
  }
 ],
 "metadata": {
  "kernelspec": {
   "display_name": "Python 3 (ipykernel)",
   "language": "python",
   "name": "python3"
  },
  "language_info": {
   "codemirror_mode": {
    "name": "ipython",
    "version": 3
   },
   "file_extension": ".py",
   "mimetype": "text/x-python",
   "name": "python",
   "nbconvert_exporter": "python",
   "pygments_lexer": "ipython3",
   "version": "3.11.2"
  }
 },
 "nbformat": 4,
 "nbformat_minor": 1
}
