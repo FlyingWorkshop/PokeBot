{
 "cells": [
  {
   "cell_type": "code",
   "execution_count": 4,
   "metadata": {
    "ExecuteTime": {
     "end_time": "2023-05-22T22:34:54.358799Z",
     "start_time": "2023-05-22T22:34:54.279636Z"
    }
   },
   "outputs": [
    {
     "name": "stdout",
     "output_type": "stream",
     "text": [
      "The autoreload extension is already loaded. To reload it, use:\n",
      "  %reload_ext autoreload\n"
     ]
    }
   ],
   "source": [
    "%load_ext autoreload\n",
    "%autoreload 2"
   ]
  },
  {
   "cell_type": "code",
   "execution_count": 16,
   "metadata": {
    "ExecuteTime": {
     "end_time": "2023-05-22T22:36:49.805285Z",
     "start_time": "2023-05-22T22:36:49.763422Z"
    }
   },
   "outputs": [],
   "source": [
    "from alphagogoat.delphox import Delphox\n",
    "from alphagogoat.utils import DataExtractor\n",
    "# from alphagogoat.embedder import process_battle\n",
    "from pathlib import Path\n",
    "from tqdm.auto import tqdm\n",
    "from joblib import Parallel, delayed\n",
    "import json\n",
    "import numpy as np\n",
    "import json\n",
    "import logging\n",
    "import copy\n",
    "\n",
    "from poke_env.environment.battle import Battle\n",
    "from poke_env.environment.pokemon import Pokemon\n",
    "from poke_env.environment.effect import Effect\n",
    "import torch\n",
    "\n",
    "\n",
    "# from alphagogoat.pokedex import make_pokedex\n",
    "\n",
    "\n",
    "LOGGER = logging.getLogger('poke-env')\n",
    "GEN = 8\n",
    "# POKEDEX = make_pokedex()"
   ]
  },
  {
   "cell_type": "code",
   "execution_count": 17,
   "outputs": [],
   "source": [
    "def process_battle(battle_json: str) -> list[Battle]:\n",
    "    with open(battle_json) as f:\n",
    "        battle_data = json.load(f)\n",
    "    history = battle_data['log'].split('\\n')\n",
    "    curr_battle = Battle(battle_data['id'], battle_data['p1'], LOGGER, GEN)\n",
    "    curr_battle._opponent_username = battle_data['p2']\n",
    "    battle_objects = []\n",
    "    for line in history:\n",
    "        try:\n",
    "            curr_battle._parse_message(line.split('|'))\n",
    "            if line.split('|')[1] == 'turn':\n",
    "                battle_objects.append(copy.deepcopy(curr_battle))\n",
    "        except:\n",
    "            continue\n",
    "\n",
    "    return battle_objects\n"
   ],
   "metadata": {
    "collapsed": false,
    "ExecuteTime": {
     "end_time": "2023-05-22T22:36:51.022851Z",
     "start_time": "2023-05-22T22:36:50.971061Z"
    }
   }
  },
  {
   "cell_type": "code",
   "execution_count": 6,
   "metadata": {
    "ExecuteTime": {
     "end_time": "2023-05-22T22:35:03.193853Z",
     "start_time": "2023-05-22T22:34:54.630794Z"
    }
   },
   "outputs": [
    {
     "data": {
      "text/plain": "  0%|          | 0/5 [00:00<?, ?it/s]",
      "application/vnd.jupyter.widget-view+json": {
       "version_major": 2,
       "version_minor": 0,
       "model_id": "519e5d55ae344a5199e0b7bdc831259a"
      }
     },
     "metadata": {},
     "output_type": "display_data"
    }
   ],
   "source": [
    "battle_paths = [f\"cache/replays/{file.name}\" for file in Path(\"cache/replays\").iterdir() if file.name.endswith(\".json\")]\n",
    "\n",
    "def get_turns(battle_json_path):\n",
    "    return DataExtractor(battle_json_path)\n",
    "\n",
    "# DEBUGGING\n",
    "battle_paths = battle_paths[:5]\n",
    "extractors = Parallel(n_jobs=4)(delayed(get_turns)(battle_json_path) for battle_json_path in tqdm(battle_paths))"
   ]
  },
  {
   "cell_type": "code",
   "execution_count": 7,
   "metadata": {
    "ExecuteTime": {
     "end_time": "2023-05-22T22:35:03.568417Z",
     "start_time": "2023-05-22T22:35:03.200239Z"
    }
   },
   "outputs": [
    {
     "data": {
      "text/plain": "  0%|          | 0/29 [00:00<?, ?it/s]",
      "application/vnd.jupyter.widget-view+json": {
       "version_major": 2,
       "version_minor": 0,
       "model_id": "5ef453a6aa3c41b59e7ff48cbb2123da"
      }
     },
     "metadata": {},
     "output_type": "display_data"
    },
    {
     "data": {
      "text/plain": "  0%|          | 0/460 [00:00<?, ?it/s]",
      "application/vnd.jupyter.widget-view+json": {
       "version_major": 2,
       "version_minor": 0,
       "model_id": "4c41703749c2479baaddce39f6af470d"
      }
     },
     "metadata": {},
     "output_type": "display_data"
    }
   ],
   "source": [
    "pokedex = {}\n",
    "for filepath in tqdm(list(Path(\"cache/teams\").iterdir())):\n",
    "    with open(filepath, 'r') as f:\n",
    "        data = json.load(f)\n",
    "    for key, value in data.items():\n",
    "        if key not in pokedex:\n",
    "            pokedex[key] = {k: [] for k in value.keys()}\n",
    "        for k, v in value.items():\n",
    "            pokedex[key][k].append(v)\n",
    "\n",
    "for pokemon, dicts in tqdm(pokedex.items()):\n",
    "    pokedex[pokemon]['level'] = int(np.round(np.mean(pokedex[pokemon]['level'])))\n",
    "    for k1 in ['abilities', 'moves', 'items']:\n",
    "        d = {}\n",
    "        if k1 in dicts:\n",
    "            for dict_ in dicts[k1]:\n",
    "                if not isinstance(dict_, dict):\n",
    "                    continue\n",
    "                for k2, prob in dict_.items():\n",
    "                    if k2 not in d:\n",
    "                        d[k2] = []\n",
    "                    d[k2].append(prob)\n",
    "            for k2, probs in d.items():\n",
    "                d[k2] = np.mean(probs)\n",
    "        pokedex[pokemon][k1] = d"
   ]
  },
  {
   "cell_type": "code",
   "execution_count": 8,
   "metadata": {
    "ExecuteTime": {
     "end_time": "2023-05-22T22:35:03.615359Z",
     "start_time": "2023-05-22T22:35:03.575795Z"
    }
   },
   "outputs": [
    {
     "data": {
      "text/plain": "{'level': 92,\n 'abilities': {'Lightning Rod': 1.0},\n 'items': {'Light Ball': 1.0},\n 'moves': {'Volt Tackle': 1.0,\n  'Volt Switch': 0.7812379310344825,\n  'Surf': 0.7469724137931036,\n  'Knock Off': 0.7469655172413794,\n  'Iron Tail': 0.7248241379310345}}"
     },
     "execution_count": 8,
     "metadata": {},
     "output_type": "execute_result"
    }
   ],
   "source": [
    "pokedex['Pikachu']"
   ]
  },
  {
   "cell_type": "code",
   "execution_count": 9,
   "metadata": {
    "ExecuteTime": {
     "end_time": "2023-05-22T22:35:03.690421Z",
     "start_time": "2023-05-22T22:35:03.615733Z"
    }
   },
   "outputs": [
    {
     "name": "stdout",
     "output_type": "stream",
     "text": [
      "max_abilities=3\n",
      "max_items=6\n",
      "max_moves=8\n"
     ]
    }
   ],
   "source": [
    "max_abilities = 0\n",
    "max_items = 0\n",
    "max_moves = 0\n",
    "for pokemon, data in pokedex.items():\n",
    "    max_abilities = max(len(data['abilities']), max_abilities)\n",
    "    max_moves = max(len(data['moves']), max_moves)\n",
    "    max_items = max(len(data['items']), max_items)\n",
    "print(f\"{max_abilities=}\\n{max_items=}\\n{max_moves=}\")"
   ]
  },
  {
   "cell_type": "code",
   "execution_count": 10,
   "metadata": {
    "ExecuteTime": {
     "end_time": "2023-05-22T22:35:03.766793Z",
     "start_time": "2023-05-22T22:35:03.652749Z"
    }
   },
   "outputs": [
    {
     "name": "stdout",
     "output_type": "stream",
     "text": [
      "successfully extracted all features\n"
     ]
    },
    {
     "data": {
      "text/plain": "torch.Size([4981])"
     },
     "execution_count": 10,
     "metadata": {},
     "output_type": "execute_result"
    }
   ],
   "source": [
    "turns = extractors[0].turns\n",
    "extractor = extractors[0]\n",
    "embedding = extractor.embed(turns[3])\n",
    "embedding.shape"
   ]
  },
  {
   "cell_type": "code",
   "execution_count": 18,
   "metadata": {
    "ExecuteTime": {
     "end_time": "2023-05-22T22:36:57.540482Z",
     "start_time": "2023-05-22T22:36:55.359530Z"
    }
   },
   "outputs": [],
   "source": [
    "battle_json = \"cache/replays/gen8randombattle-1123651831.json\"\n",
    "turns = process_battle(battle_json)"
   ]
  },
  {
   "cell_type": "code",
   "execution_count": 20,
   "outputs": [
    {
     "name": "stdout",
     "output_type": "stream",
     "text": [
      "{'accuracy': 0, 'atk': 0, 'def': 0, 'evasion': 0, 'spa': 0, 'spd': 0, 'spe': 0}\n",
      "{'accuracy': 0, 'atk': 0, 'def': 0, 'evasion': 0, 'spa': 0, 'spd': 0, 'spe': 0}\n",
      "{'accuracy': 0, 'atk': 0, 'def': 0, 'evasion': 0, 'spa': 0, 'spd': 0, 'spe': 0}\n",
      "{'accuracy': 0, 'atk': 0, 'def': 0, 'evasion': 0, 'spa': 0, 'spd': 0, 'spe': 0}\n",
      "{'accuracy': 0, 'atk': 0, 'def': 0, 'evasion': 0, 'spa': 0, 'spd': 0, 'spe': 0}\n",
      "{'accuracy': 0, 'atk': 0, 'def': 0, 'evasion': 0, 'spa': 0, 'spd': 0, 'spe': 0}\n",
      "{'accuracy': 0, 'atk': 0, 'def': 0, 'evasion': 0, 'spa': 0, 'spd': 0, 'spe': 0}\n",
      "{'accuracy': 0, 'atk': 0, 'def': 0, 'evasion': 0, 'spa': 0, 'spd': 0, 'spe': 0}\n",
      "{'accuracy': 0, 'atk': 0, 'def': 0, 'evasion': 0, 'spa': 0, 'spd': 0, 'spe': 0}\n",
      "{'accuracy': 0, 'atk': 0, 'def': 0, 'evasion': 0, 'spa': 0, 'spd': 0, 'spe': 0}\n",
      "{'accuracy': 0, 'atk': 0, 'def': 0, 'evasion': 0, 'spa': 0, 'spd': 0, 'spe': 0}\n",
      "{'accuracy': 0, 'atk': 0, 'def': 0, 'evasion': 0, 'spa': 0, 'spd': 0, 'spe': 0}\n",
      "{'accuracy': 0, 'atk': 0, 'def': 0, 'evasion': 0, 'spa': 0, 'spd': 0, 'spe': 0}\n",
      "{'accuracy': 0, 'atk': 0, 'def': 0, 'evasion': 0, 'spa': 0, 'spd': 0, 'spe': 0}\n",
      "{'accuracy': 0, 'atk': 0, 'def': 0, 'evasion': 0, 'spa': 0, 'spd': 0, 'spe': 0}\n",
      "{'accuracy': 0, 'atk': 0, 'def': 0, 'evasion': 0, 'spa': 0, 'spd': 0, 'spe': 0}\n",
      "{'accuracy': 0, 'atk': 0, 'def': 0, 'evasion': 0, 'spa': 0, 'spd': 0, 'spe': 0}\n",
      "{'accuracy': 0, 'atk': 0, 'def': 0, 'evasion': 0, 'spa': 0, 'spd': 0, 'spe': 0}\n",
      "{'accuracy': 0, 'atk': 0, 'def': 0, 'evasion': 0, 'spa': 0, 'spd': 0, 'spe': 0}\n",
      "{'accuracy': 0, 'atk': 0, 'def': 0, 'evasion': 0, 'spa': 0, 'spd': 0, 'spe': 0}\n",
      "{'accuracy': 0, 'atk': 0, 'def': 0, 'evasion': 0, 'spa': 0, 'spd': 0, 'spe': 0}\n",
      "{'accuracy': 0, 'atk': 0, 'def': 0, 'evasion': 0, 'spa': 0, 'spd': 0, 'spe': 0}\n",
      "{'accuracy': 0, 'atk': 0, 'def': 0, 'evasion': 0, 'spa': 0, 'spd': 0, 'spe': 0}\n",
      "{'accuracy': 0, 'atk': 0, 'def': 0, 'evasion': 0, 'spa': 0, 'spd': 0, 'spe': 0}\n",
      "{'accuracy': 0, 'atk': 0, 'def': 0, 'evasion': 0, 'spa': 0, 'spd': 0, 'spe': 0}\n",
      "{'accuracy': 0, 'atk': 0, 'def': 0, 'evasion': 0, 'spa': 0, 'spd': 0, 'spe': 0}\n",
      "{'accuracy': 0, 'atk': 0, 'def': 0, 'evasion': 0, 'spa': 0, 'spd': 0, 'spe': 0}\n",
      "{'accuracy': 0, 'atk': 1, 'def': 1, 'evasion': 0, 'spa': 1, 'spd': 1, 'spe': 1}\n",
      "{'atk': 115, 'def': 90, 'hp': 95, 'spa': 80, 'spd': 90, 'spe': 60}\n"
     ]
    }
   ],
   "source": [
    "team = {}\n",
    "for turn in turns:\n",
    "    active = turn.active_pokemon\n",
    "    team[active.species] = active\n",
    "    print(active.boosts)\n",
    "\n",
    "print(team['incineroar'].base_stats)"
   ],
   "metadata": {
    "collapsed": false,
    "ExecuteTime": {
     "end_time": "2023-05-22T22:37:06.706061Z",
     "start_time": "2023-05-22T22:37:06.657149Z"
    }
   }
  },
  {
   "cell_type": "code",
   "execution_count": null,
   "outputs": [],
   "source": [
    "pokedex['Incineroar'].keys()"
   ],
   "metadata": {
    "collapsed": false
   }
  },
  {
   "cell_type": "code",
   "execution_count": null,
   "outputs": [],
   "source": [],
   "metadata": {
    "collapsed": false
   }
  }
 ],
 "metadata": {
  "kernelspec": {
   "display_name": "Python 3 (ipykernel)",
   "language": "python",
   "name": "python3"
  },
  "language_info": {
   "codemirror_mode": {
    "name": "ipython",
    "version": 3
   },
   "file_extension": ".py",
   "mimetype": "text/x-python",
   "name": "python",
   "nbconvert_exporter": "python",
   "pygments_lexer": "ipython3",
   "version": "3.10.8"
  }
 },
 "nbformat": 4,
 "nbformat_minor": 1
}
