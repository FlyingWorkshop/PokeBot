{
 "cells": [
  {
   "cell_type": "code",
   "execution_count": 3,
   "metadata": {
    "ExecuteTime": {
     "end_time": "2023-05-27T00:07:35.879897Z",
     "start_time": "2023-05-27T00:07:35.857637Z"
    }
   },
   "outputs": [],
   "source": [
    "%load_ext autoreload\n",
    "%autoreload 2"
   ]
  },
  {
   "cell_type": "code",
   "execution_count": 4,
   "metadata": {
    "ExecuteTime": {
     "end_time": "2023-05-27T00:07:39.049260Z",
     "start_time": "2023-05-27T00:07:36.290612Z"
    }
   },
   "outputs": [],
   "source": [
    "# from alphagogoat.delphox import Delphox\n",
    "from alphagogoat.utils import DataExtractor\n",
    "# from alphagogoat.embedder import process_battle\n",
    "from pathlib import Path\n",
    "from tqdm.auto import tqdm\n",
    "from joblib import Parallel, delayed\n",
    "import json\n",
    "import numpy as np\n",
    "import json\n",
    "import logging\n",
    "import copy\n",
    "from enum import IntEnum\n",
    "from collections import Counter\n",
    "\n",
    "from poke_env.environment.battle import Battle\n",
    "from poke_env.environment.move import Move\n",
    "import re\n",
    "from poke_env.environment.pokemon import Pokemon\n",
    "from poke_env.environment.effect import Effect\n",
    "import torch\n",
    "\n",
    "\n",
    "# from alphagogoat.pokedex import make_pokedex\n",
    "LOGGER = logging.getLogger('poke-env')\n",
    "GEN = 8\n",
    "# POKEDEX = make_pokedex()"
   ]
  },
  {
   "cell_type": "code",
   "execution_count": 5,
   "metadata": {
    "collapsed": false,
    "ExecuteTime": {
     "end_time": "2023-05-27T00:07:39.090607Z",
     "start_time": "2023-05-27T00:07:39.053403Z"
    }
   },
   "outputs": [],
   "source": [
    "def process_battle(battle_json: str) -> list[Battle]:\n",
    "    with open(battle_json) as f:\n",
    "        battle_data = json.load(f)\n",
    "    history = battle_data['log'].split('\\n')\n",
    "    curr_battle = Battle(battle_data['id'], battle_data['p1'], LOGGER, GEN)\n",
    "    curr_battle._opponent_username = battle_data['p2']\n",
    "    battle_objects = []\n",
    "    for line in history:\n",
    "        try:\n",
    "            curr_battle._parse_message(line.split('|'))\n",
    "            if line.split('|')[1] == 'turn':\n",
    "                battle_objects.append(copy.deepcopy(curr_battle))\n",
    "        except:\n",
    "            continue\n",
    "\n",
    "    return battle_objects\n"
   ]
  },
  {
   "cell_type": "code",
   "execution_count": 3,
   "metadata": {
    "ExecuteTime": {
     "end_time": "2023-05-26T07:55:05.694756Z",
     "start_time": "2023-05-26T07:54:54.735293Z"
    }
   },
   "outputs": [
    {
     "data": {
      "text/plain": "  0%|          | 0/5 [00:00<?, ?it/s]",
      "application/vnd.jupyter.widget-view+json": {
       "version_major": 2,
       "version_minor": 0,
       "model_id": "973ff08f6a0b4073a7663f72a0c7e226"
      }
     },
     "metadata": {},
     "output_type": "display_data"
    }
   ],
   "source": [
    "battle_paths = [f\"cache/replays/{file.name}\" for file in Path(\"cache/replays\").iterdir() if file.name.endswith(\".json\")]\n",
    "\n",
    "def get_turns(battle_json_path):\n",
    "    return DataExtractor(battle_json_path)\n",
    "\n",
    "# DEBUGGING\n",
    "battle_paths = battle_paths[:5]\n",
    "extractors = Parallel(n_jobs=4)(delayed(get_turns)(battle_json_path) for battle_json_path in tqdm(battle_paths))"
   ]
  },
  {
   "cell_type": "code",
   "execution_count": 4,
   "metadata": {},
   "outputs": [
    {
     "data": {
      "text/plain": "  0%|          | 0/96 [00:00<?, ?it/s]",
      "application/vnd.jupyter.widget-view+json": {
       "version_major": 2,
       "version_minor": 0,
       "model_id": "072e6f7e6c834c3580ad83872d7c4224"
      }
     },
     "metadata": {},
     "output_type": "display_data"
    },
    {
     "data": {
      "text/plain": "  0%|          | 0/460 [00:00<?, ?it/s]",
      "application/vnd.jupyter.widget-view+json": {
       "version_major": 2,
       "version_minor": 0,
       "model_id": "f79b40caf0f94e019a045042639dbb08"
      }
     },
     "metadata": {},
     "output_type": "display_data"
    }
   ],
   "source": [
    "pokedex = {}\n",
    "for filepath in tqdm(list(Path(\"cache/teams\").iterdir())):\n",
    "    with open(filepath, 'r') as f:\n",
    "        data = json.load(f)\n",
    "    for key, value in data.items():\n",
    "        if key not in pokedex:\n",
    "            pokedex[key] = {k: [] for k in value.keys()}\n",
    "        for k, v in value.items():\n",
    "            pokedex[key][k].append(v)\n",
    "\n",
    "for pokemon, dicts in tqdm(pokedex.items()):\n",
    "    pokedex[pokemon]['level'] = int(np.round(np.mean(pokedex[pokemon]['level'])))\n",
    "    for k1 in ['abilities', 'moves', 'items']:\n",
    "        d = {}\n",
    "        if k1 in dicts:\n",
    "            for dict_ in dicts[k1]:\n",
    "                if not isinstance(dict_, dict):\n",
    "                    continue\n",
    "                for k2, prob in dict_.items():\n",
    "                    if k2 not in d:\n",
    "                        d[k2] = []\n",
    "                    d[k2].append(prob)\n",
    "            for k2, probs in d.items():\n",
    "                d[k2] = np.mean(probs)\n",
    "        pokedex[pokemon][k1] = d"
   ]
  },
  {
   "cell_type": "code",
   "execution_count": 14,
   "metadata": {
    "ExecuteTime": {
     "end_time": "2023-05-24T21:56:26.093413Z",
     "start_time": "2023-05-24T21:56:26.050886Z"
    }
   },
   "outputs": [
    {
     "data": {
      "text/plain": "{'level': 92,\n 'abilities': {'Lightning Rod': 1.0},\n 'items': {'Light Ball': 1.0},\n 'moves': {'Volt Tackle': 1.0,\n  'Volt Switch': 0.7811421052631576,\n  'Surf': 0.7477557894736836,\n  'Knock Off': 0.7467810526315792,\n  'Iron Tail': 0.7243210526315785}}"
     },
     "execution_count": 14,
     "metadata": {},
     "output_type": "execute_result"
    }
   ],
   "source": [
    "pokedex['Pikachu']"
   ]
  },
  {
   "cell_type": "code",
   "execution_count": 75,
   "outputs": [
    {
     "name": "stdout",
     "output_type": "stream",
     "text": [
      "Accelgor\n",
      "[{'atk': 0}, {'atk': 0}, {'atk': 0}, {'atk': 0}, {'atk': 0}, {'atk': 0}, {'atk': 0}, {'atk': 0}, {'atk': 0}, {'atk': 0}, {'atk': 0}, {'atk': 0}, {'atk': 0}, {'atk': 0}, {'atk': 0}, {'atk': 0}, {'atk': 0}, {'atk': 0}, {'atk': 0}, {'atk': 0}, {'atk': 0}, {'atk': 0}, {'atk': 0}, {'atk': 0}, {'atk': 0}, {'atk': 0}, {'atk': 0}, {'atk': 0}, {'atk': 0}, {'atk': 0}, {'atk': 0}, {'atk': 0}, {'atk': 0}, {'atk': 0}, {'atk': 0}, {'atk': 0}, {'atk': 0}, {'atk': 0}, {'atk': 0}, {'atk': 0}, {'atk': 0}, {'atk': 0}, {'atk': 0}, {'atk': 0}, {'atk': 0}, {'atk': 0}, {'atk': 0}, {'atk': 0}, {'atk': 0}, {'atk': 0}, {'atk': 0}, {'atk': 0}, {'atk': 0}, {'atk': 0}, {'atk': 0}, {'atk': 0}, {'atk': 0}, {'atk': 0}, {'atk': 0}, {'atk': 0}, {'atk': 0}, {'atk': 0}, {'atk': 0}, {'atk': 0}, {'atk': 0}, {'atk': 0}, {'atk': 0}, {'atk': 0}, {'atk': 0}, {'atk': 0}, {'atk': 0}, {'atk': 0}, {'atk': 0}, {'atk': 0}, {'atk': 0}, {'atk': 0}, {'atk': 0}, {'atk': 0}, {'atk': 0}, {'atk': 0}, {'atk': 0}, {'atk': 0}, {'atk': 0}, {'atk': 0}, {'atk': 0}, {'atk': 0}, {'atk': 0}, {'atk': 0}, {'atk': 0}, {'atk': 0}, {'atk': 0}, {'atk': 0}, {'atk': 0}, {'atk': 0}, {'atk': 0}]\n"
     ]
    }
   ],
   "source": [
    "for pokemon, data in pokedex.items():\n",
    "    if 'ivs' in data:\n",
    "        print(pokemon)\n",
    "        print(data['ivs'])\n",
    "        break"
   ],
   "metadata": {
    "collapsed": false,
    "ExecuteTime": {
     "end_time": "2023-05-25T03:27:41.017733Z",
     "start_time": "2023-05-25T03:27:40.987061Z"
    }
   }
  },
  {
   "cell_type": "code",
   "execution_count": 15,
   "outputs": [],
   "source": [
    "item_catalog = set()\n",
    "for pokemon, data in pokedex.items():\n",
    "    item_catalog.update(data['items'])\n",
    "\n",
    "item_catalog = sorted(list(item_catalog))\n",
    "Item = IntEnum('Item', item_catalog)"
   ],
   "metadata": {
    "collapsed": false,
    "ExecuteTime": {
     "end_time": "2023-05-24T21:56:27.049360Z",
     "start_time": "2023-05-24T21:56:27.004563Z"
    }
   }
  },
  {
   "cell_type": "code",
   "execution_count": 70,
   "outputs": [
    {
     "data": {
      "text/plain": "[<Ability.Adaptability: 1>,\n <Ability.Aftermath: 2>,\n <Ability.Air Lock: 3>,\n <Ability.Analytic: 4>,\n <Ability.Arena Trap: 5>,\n <Ability.Aroma Veil: 6>,\n <Ability.As One (Glastrier): 7>,\n <Ability.As One (Spectrier): 8>,\n <Ability.Aura Break: 9>,\n <Ability.Battle Armor: 10>,\n <Ability.Beast Boost: 11>,\n <Ability.Berserk: 12>,\n <Ability.Bulletproof: 13>,\n <Ability.Cheek Pouch: 14>,\n <Ability.Chilling Neigh: 15>,\n <Ability.Chlorophyll: 16>,\n <Ability.Clear Body: 17>,\n <Ability.Competitive: 18>,\n <Ability.Compound Eyes: 19>,\n <Ability.Contrary: 20>,\n <Ability.Corrosion: 21>,\n <Ability.Cursed Body: 22>,\n <Ability.Cute Charm: 23>,\n <Ability.Dark Aura: 24>,\n <Ability.Dauntless Shield: 25>,\n <Ability.Defeatist: 26>,\n <Ability.Defiant: 27>,\n <Ability.Disguise: 28>,\n <Ability.Download: 29>,\n <Ability.Dragon's Maw: 30>,\n <Ability.Drizzle: 31>,\n <Ability.Drought: 32>,\n <Ability.Dry Skin: 33>,\n <Ability.Effect Spore: 34>,\n <Ability.Electric Surge: 35>,\n <Ability.Emergency Exit: 36>,\n <Ability.Fairy Aura: 37>,\n <Ability.Filter: 38>,\n <Ability.Flame Body: 39>,\n <Ability.Flash Fire: 40>,\n <Ability.Flower Gift: 41>,\n <Ability.Fluffy: 42>,\n <Ability.Frisk: 43>,\n <Ability.Full Metal Body: 44>,\n <Ability.Fur Coat: 45>,\n <Ability.Gale Wings: 46>,\n <Ability.Gluttony: 47>,\n <Ability.Gorilla Tactics: 48>,\n <Ability.Grassy Surge: 49>,\n <Ability.Grim Neigh: 50>,\n <Ability.Gulp Missile: 51>,\n <Ability.Guts: 52>,\n <Ability.Harvest: 53>,\n <Ability.Heavy Metal: 54>,\n <Ability.Huge Power: 55>,\n <Ability.Hunger Switch: 56>,\n <Ability.Hustle: 57>,\n <Ability.Ice Body: 58>,\n <Ability.Ice Face: 59>,\n <Ability.Ice Scales: 60>,\n <Ability.Illusion: 61>,\n <Ability.Imposter: 62>,\n <Ability.Infiltrator: 63>,\n <Ability.Inner Focus: 64>,\n <Ability.Intimidate: 65>,\n <Ability.Intrepid Sword: 66>,\n <Ability.Iron Barbs: 67>,\n <Ability.Iron Fist: 68>,\n <Ability.Justified: 69>,\n <Ability.Leaf Guard: 70>,\n <Ability.Levitate: 71>,\n <Ability.Libero: 72>,\n <Ability.Light Metal: 73>,\n <Ability.Lightning Rod: 74>,\n <Ability.Limber: 75>,\n <Ability.Liquid Ooze: 76>,\n <Ability.Magic Bounce: 77>,\n <Ability.Magic Guard: 78>,\n <Ability.Magnet Pull: 79>,\n <Ability.Marvel Scale: 80>,\n <Ability.Mega Launcher: 81>,\n <Ability.Mimicry: 82>,\n <Ability.Mirror Armor: 83>,\n <Ability.Misty Surge: 84>,\n <Ability.Mold Breaker: 85>,\n <Ability.Moody: 86>,\n <Ability.Motor Drive: 87>,\n <Ability.Moxie: 88>,\n <Ability.Multiscale: 89>,\n <Ability.Mummy: 90>,\n <Ability.Natural Cure: 91>,\n <Ability.Neutralizing Gas: 92>,\n <Ability.No Guard: 93>,\n <Ability.Oblivious: 94>,\n <Ability.Overcoat: 95>,\n <Ability.Overgrow: 96>,\n <Ability.Own Tempo: 97>,\n <Ability.Pastel Veil: 98>,\n <Ability.Pickpocket: 99>,\n <Ability.Pixilate: 100>,\n <Ability.Power Construct: 101>,\n <Ability.Power Spot: 102>,\n <Ability.Prankster: 103>,\n <Ability.Pressure: 104>,\n <Ability.Prism Armor: 105>,\n <Ability.Psychic Surge: 106>,\n <Ability.Punk Rock: 107>,\n <Ability.Queenly Majesty: 108>,\n <Ability.RKS System: 109>,\n <Ability.Reckless: 110>,\n <Ability.Regenerator: 111>,\n <Ability.Rock Head: 112>,\n <Ability.Rough Skin: 113>,\n <Ability.Sand Force: 114>,\n <Ability.Sand Rush: 115>,\n <Ability.Sand Stream: 116>,\n <Ability.Sand Veil: 117>,\n <Ability.Sap Sipper: 118>,\n <Ability.Schooling: 119>,\n <Ability.Scrappy: 120>,\n <Ability.Screen Cleaner: 121>,\n <Ability.Serene Grace: 122>,\n <Ability.Shadow Shield: 123>,\n <Ability.Shadow Tag: 124>,\n <Ability.Shed Skin: 125>,\n <Ability.Sheer Force: 126>,\n <Ability.Shell Armor: 127>,\n <Ability.Shield Dust: 128>,\n <Ability.Simple: 129>,\n <Ability.Skill Link: 130>,\n <Ability.Slow Start: 131>,\n <Ability.Slush Rush: 132>,\n <Ability.Sniper: 133>,\n <Ability.Snow Cloak: 134>,\n <Ability.Snow Warning: 135>,\n <Ability.Solar Power: 136>,\n <Ability.Solid Rock: 137>,\n <Ability.Soul-Heart: 138>,\n <Ability.Speed Boost: 139>,\n <Ability.Stakeout: 140>,\n <Ability.Stamina: 141>,\n <Ability.Stance Change: 142>,\n <Ability.Static: 143>,\n <Ability.Steelworker: 144>,\n <Ability.Steely Spirit: 145>,\n <Ability.Sticky Hold: 146>,\n <Ability.Storm Drain: 147>,\n <Ability.Strong Jaw: 148>,\n <Ability.Sturdy: 149>,\n <Ability.Super Luck: 150>,\n <Ability.Surge Surfer: 151>,\n <Ability.Swarm: 152>,\n <Ability.Sweet Veil: 153>,\n <Ability.Swift Swim: 154>,\n <Ability.Synchronize: 155>,\n <Ability.Tangled Feet: 156>,\n <Ability.Tangling Hair: 157>,\n <Ability.Technician: 158>,\n <Ability.Teravolt: 159>,\n <Ability.Thick Fat: 160>,\n <Ability.Tinted Lens: 161>,\n <Ability.Torrent: 162>,\n <Ability.Tough Claws: 163>,\n <Ability.Trace: 164>,\n <Ability.Transistor: 165>,\n <Ability.Triage: 166>,\n <Ability.Turboblaze: 167>,\n <Ability.Unaware: 168>,\n <Ability.Unburden: 169>,\n <Ability.Unnerve: 170>,\n <Ability.Unseen Fist: 171>,\n <Ability.Victory Star: 172>,\n <Ability.Vital Spirit: 173>,\n <Ability.Volt Absorb: 174>,\n <Ability.Wandering Spirit: 175>,\n <Ability.Water Absorb: 176>,\n <Ability.Water Bubble: 177>,\n <Ability.Water Compaction: 178>,\n <Ability.Water Veil: 179>,\n <Ability.Weak Armor: 180>,\n <Ability.Wonder Guard: 181>,\n <Ability.Zen Mode: 182>]"
     },
     "execution_count": 70,
     "metadata": {},
     "output_type": "execute_result"
    }
   ],
   "source": [
    "ability_catalog = set()\n",
    "for pokemon, data in pokedex.items():\n",
    "    ability_catalog.update(data['abilities'])\n",
    "\n",
    "ability_catalog = sorted(list(ability_catalog))\n",
    "Ability = IntEnum('Ability', ability_catalog)\n",
    "list(Ability)"
   ],
   "metadata": {
    "collapsed": false,
    "ExecuteTime": {
     "end_time": "2023-05-25T02:16:43.135925Z",
     "start_time": "2023-05-25T02:16:43.077864Z"
    }
   }
  },
  {
   "cell_type": "code",
   "execution_count": 63,
   "outputs": [],
   "source": [
    "move_catalog = set()\n",
    "move_enum = set()\n",
    "for pokemon, data in pokedex.items():\n",
    "    move_catalog.update(data['moves'])\n",
    "    for move in data['moves']:\n",
    "        move_enum.add(re.sub(\"\\s|-|'\", \"\", move.lower()))\n",
    "\n",
    "\n",
    "MoveEnum = IntEnum(\"MoveEnum\", list(sorted(move_enum)))\n",
    "\n",
    "move_catalog = [Move(re.sub(\"\\s|-|'\", \"\", move.lower()), 8) for move in sorted(list(move_catalog))]\n",
    "volatile_status_catalog = set()\n",
    "for move in move_catalog:\n",
    "    if move.volatile_status is None:\n",
    "        continue\n",
    "    volatile_status_catalog.add(move.volatile_status)\n",
    "\n",
    "VolatileStatus = IntEnum(\"VolatileStatus\", list(sorted(volatile_status_catalog)))"
   ],
   "metadata": {
    "collapsed": false,
    "ExecuteTime": {
     "end_time": "2023-05-25T01:47:34.232908Z",
     "start_time": "2023-05-25T01:47:34.179642Z"
    }
   }
  },
  {
   "cell_type": "code",
   "execution_count": 67,
   "outputs": [
    {
     "data": {
      "text/plain": "[<MoveEnum.accelerock: 1>,\n <MoveEnum.acrobatics: 2>,\n <MoveEnum.aerialace: 3>,\n <MoveEnum.agility: 4>,\n <MoveEnum.airslash: 5>,\n <MoveEnum.anchorshot: 6>,\n <MoveEnum.ancientpower: 7>,\n <MoveEnum.appleacid: 8>,\n <MoveEnum.aquajet: 9>,\n <MoveEnum.aquatail: 10>,\n <MoveEnum.aromatherapy: 11>,\n <MoveEnum.astralbarrage: 12>,\n <MoveEnum.aurasphere: 13>,\n <MoveEnum.aurawheel: 14>,\n <MoveEnum.auroraveil: 15>,\n <MoveEnum.avalanche: 16>,\n <MoveEnum.banefulbunker: 17>,\n <MoveEnum.behemothbash: 18>,\n <MoveEnum.behemothblade: 19>,\n <MoveEnum.bellydrum: 20>,\n <MoveEnum.blazekick: 21>,\n <MoveEnum.blizzard: 22>,\n <MoveEnum.blueflare: 23>,\n <MoveEnum.bodypress: 24>,\n <MoveEnum.bodyslam: 25>,\n <MoveEnum.boltbeak: 26>,\n <MoveEnum.boltstrike: 27>,\n <MoveEnum.boomburst: 28>,\n <MoveEnum.bounce: 29>,\n <MoveEnum.bravebird: 30>,\n <MoveEnum.brickbreak: 31>,\n <MoveEnum.brutalswing: 32>,\n <MoveEnum.bugbuzz: 33>,\n <MoveEnum.bulkup: 34>,\n <MoveEnum.bulletpunch: 35>,\n <MoveEnum.bulletseed: 36>,\n <MoveEnum.calmmind: 37>,\n <MoveEnum.charm: 38>,\n <MoveEnum.circlethrow: 39>,\n <MoveEnum.clangingscales: 40>,\n <MoveEnum.clangoroussoul: 41>,\n <MoveEnum.clearsmog: 42>,\n <MoveEnum.closecombat: 43>,\n <MoveEnum.coil: 44>,\n <MoveEnum.copycat: 45>,\n <MoveEnum.cottonguard: 46>,\n <MoveEnum.counter: 47>,\n <MoveEnum.courtchange: 48>,\n <MoveEnum.crabhammer: 49>,\n <MoveEnum.crosschop: 50>,\n <MoveEnum.crunch: 51>,\n <MoveEnum.crushclaw: 52>,\n <MoveEnum.curse: 53>,\n <MoveEnum.darkestlariat: 54>,\n <MoveEnum.darkpulse: 55>,\n <MoveEnum.dazzlinggleam: 56>,\n <MoveEnum.defog: 57>,\n <MoveEnum.destinybond: 58>,\n <MoveEnum.diamondstorm: 59>,\n <MoveEnum.disable: 60>,\n <MoveEnum.discharge: 61>,\n <MoveEnum.doubleedge: 62>,\n <MoveEnum.doubleironbash: 63>,\n <MoveEnum.dracometeor: 64>,\n <MoveEnum.dragonascent: 65>,\n <MoveEnum.dragondance: 66>,\n <MoveEnum.dragonpulse: 67>,\n <MoveEnum.drainingkiss: 68>,\n <MoveEnum.drainpunch: 69>,\n <MoveEnum.drillrun: 70>,\n <MoveEnum.dualwingbeat: 71>,\n <MoveEnum.dynamaxcannon: 72>,\n <MoveEnum.dynamicpunch: 73>,\n <MoveEnum.earthpower: 74>,\n <MoveEnum.earthquake: 75>,\n <MoveEnum.encore: 76>,\n <MoveEnum.energyball: 77>,\n <MoveEnum.expandingforce: 78>,\n <MoveEnum.explosion: 79>,\n <MoveEnum.extremespeed: 80>,\n <MoveEnum.facade: 81>,\n <MoveEnum.fakeout: 82>,\n <MoveEnum.fierywrath: 83>,\n <MoveEnum.fireblast: 84>,\n <MoveEnum.firefang: 85>,\n <MoveEnum.firelash: 86>,\n <MoveEnum.firepunch: 87>,\n <MoveEnum.firstimpression: 88>,\n <MoveEnum.fishiousrend: 89>,\n <MoveEnum.flamecharge: 90>,\n <MoveEnum.flamethrower: 91>,\n <MoveEnum.flareblitz: 92>,\n <MoveEnum.flashcannon: 93>,\n <MoveEnum.fleurcannon: 94>,\n <MoveEnum.flipturn: 95>,\n <MoveEnum.fly: 96>,\n <MoveEnum.focusblast: 97>,\n <MoveEnum.focusenergy: 98>,\n <MoveEnum.foulplay: 99>,\n <MoveEnum.freezedry: 100>,\n <MoveEnum.freezingglare: 101>,\n <MoveEnum.fusionbolt: 102>,\n <MoveEnum.fusionflare: 103>,\n <MoveEnum.futuresight: 104>,\n <MoveEnum.geargrind: 105>,\n <MoveEnum.geomancy: 106>,\n <MoveEnum.gigadrain: 107>,\n <MoveEnum.glaciallance: 108>,\n <MoveEnum.glaciate: 109>,\n <MoveEnum.glare: 110>,\n <MoveEnum.grassknot: 111>,\n <MoveEnum.grasspledge: 112>,\n <MoveEnum.grassyglide: 113>,\n <MoveEnum.gravapple: 114>,\n <MoveEnum.gunkshot: 115>,\n <MoveEnum.gyroball: 116>,\n <MoveEnum.hammerarm: 117>,\n <MoveEnum.haze: 118>,\n <MoveEnum.headcharge: 119>,\n <MoveEnum.headsmash: 120>,\n <MoveEnum.healbell: 121>,\n <MoveEnum.healingwish: 122>,\n <MoveEnum.heatcrash: 123>,\n <MoveEnum.heatwave: 124>,\n <MoveEnum.heavyslam: 125>,\n <MoveEnum.hex: 126>,\n <MoveEnum.highhorsepower: 127>,\n <MoveEnum.highjumpkick: 128>,\n <MoveEnum.honeclaws: 129>,\n <MoveEnum.hornleech: 130>,\n <MoveEnum.howl: 131>,\n <MoveEnum.hurricane: 132>,\n <MoveEnum.hydropump: 133>,\n <MoveEnum.hypervoice: 134>,\n <MoveEnum.hypnosis: 135>,\n <MoveEnum.icebeam: 136>,\n <MoveEnum.icefang: 137>,\n <MoveEnum.icepunch: 138>,\n <MoveEnum.iceshard: 139>,\n <MoveEnum.iciclecrash: 140>,\n <MoveEnum.iciclespear: 141>,\n <MoveEnum.icywind: 142>,\n <MoveEnum.ironhead: 143>,\n <MoveEnum.irontail: 144>,\n <MoveEnum.junglehealing: 145>,\n <MoveEnum.kingsshield: 146>,\n <MoveEnum.knockoff: 147>,\n <MoveEnum.lavaplume: 148>,\n <MoveEnum.leafblade: 149>,\n <MoveEnum.leafstorm: 150>,\n <MoveEnum.leechlife: 151>,\n <MoveEnum.leechseed: 152>,\n <MoveEnum.lightscreen: 153>,\n <MoveEnum.liquidation: 154>,\n <MoveEnum.lovelykiss: 155>,\n <MoveEnum.lowkick: 156>,\n <MoveEnum.machpunch: 157>,\n <MoveEnum.magnetrise: 158>,\n <MoveEnum.megahorn: 159>,\n <MoveEnum.memento: 160>,\n <MoveEnum.meteormash: 161>,\n <MoveEnum.milkdrink: 162>,\n <MoveEnum.mirrorcoat: 163>,\n <MoveEnum.moonblast: 164>,\n <MoveEnum.moongeistbeam: 165>,\n <MoveEnum.moonlight: 166>,\n <MoveEnum.morningsun: 167>,\n <MoveEnum.multiattack: 168>,\n <MoveEnum.mysticalfire: 169>,\n <MoveEnum.nastyplot: 170>,\n <MoveEnum.nightshade: 171>,\n <MoveEnum.nightslash: 172>,\n <MoveEnum.noretreat: 173>,\n <MoveEnum.nuzzle: 174>,\n <MoveEnum.oblivionwing: 175>,\n <MoveEnum.originpulse: 176>,\n <MoveEnum.outrage: 177>,\n <MoveEnum.overdrive: 178>,\n <MoveEnum.overheat: 179>,\n <MoveEnum.painsplit: 180>,\n <MoveEnum.partingshot: 181>,\n <MoveEnum.payback: 182>,\n <MoveEnum.petaldance: 183>,\n <MoveEnum.photongeyser: 184>,\n <MoveEnum.plasmafists: 185>,\n <MoveEnum.playrough: 186>,\n <MoveEnum.poisonjab: 187>,\n <MoveEnum.pollenpuff: 188>,\n <MoveEnum.poltergeist: 189>,\n <MoveEnum.powergem: 190>,\n <MoveEnum.powerwhip: 191>,\n <MoveEnum.precipiceblades: 192>,\n <MoveEnum.protect: 193>,\n <MoveEnum.psychic: 194>,\n <MoveEnum.psychicfangs: 195>,\n <MoveEnum.psychocut: 196>,\n <MoveEnum.psyshock: 197>,\n <MoveEnum.psystrike: 198>,\n <MoveEnum.pyroball: 199>,\n <MoveEnum.quickattack: 200>,\n <MoveEnum.quiverdance: 201>,\n <MoveEnum.raindance: 202>,\n <MoveEnum.rapidspin: 203>,\n <MoveEnum.recover: 204>,\n <MoveEnum.recycle: 205>,\n <MoveEnum.reflect: 206>,\n <MoveEnum.rest: 207>,\n <MoveEnum.risingvoltage: 208>,\n <MoveEnum.rockblast: 209>,\n <MoveEnum.rockpolish: 210>,\n <MoveEnum.rockslide: 211>,\n <MoveEnum.rocktomb: 212>,\n <MoveEnum.roost: 213>,\n <MoveEnum.sacredfire: 214>,\n <MoveEnum.sacredsword: 215>,\n <MoveEnum.scald: 216>,\n <MoveEnum.scorchingsands: 217>,\n <MoveEnum.secretsword: 218>,\n <MoveEnum.seismictoss: 219>,\n <MoveEnum.shadowball: 220>,\n <MoveEnum.shadowclaw: 221>,\n <MoveEnum.shadowsneak: 222>,\n <MoveEnum.shellsidearm: 223>,\n <MoveEnum.shellsmash: 224>,\n <MoveEnum.shiftgear: 225>,\n <MoveEnum.shoreup: 226>,\n <MoveEnum.slackoff: 227>,\n <MoveEnum.sleeppowder: 228>,\n <MoveEnum.sleeptalk: 229>,\n <MoveEnum.sludgebomb: 230>,\n <MoveEnum.sludgewave: 231>,\n <MoveEnum.smartstrike: 232>,\n <MoveEnum.softboiled: 233>,\n <MoveEnum.solarbeam: 234>,\n <MoveEnum.spacialrend: 235>,\n <MoveEnum.sparklingaria: 236>,\n <MoveEnum.spectralthief: 237>,\n <MoveEnum.spikes: 238>,\n <MoveEnum.spikyshield: 239>,\n <MoveEnum.spiritbreak: 240>,\n <MoveEnum.spore: 241>,\n <MoveEnum.stealthrock: 242>,\n <MoveEnum.steameruption: 243>,\n <MoveEnum.stickyweb: 244>,\n <MoveEnum.stompingtantrum: 245>,\n <MoveEnum.stoneedge: 246>,\n <MoveEnum.storedpower: 247>,\n <MoveEnum.stormthrow: 248>,\n <MoveEnum.strangesteam: 249>,\n <MoveEnum.strengthsap: 250>,\n <MoveEnum.stunspore: 251>,\n <MoveEnum.substitute: 252>,\n <MoveEnum.suckerpunch: 253>,\n <MoveEnum.sunsteelstrike: 254>,\n <MoveEnum.superfang: 255>,\n <MoveEnum.superpower: 256>,\n <MoveEnum.surf: 257>,\n <MoveEnum.surgingstrikes: 258>,\n <MoveEnum.switcheroo: 259>,\n <MoveEnum.swordsdance: 260>,\n <MoveEnum.synthesis: 261>,\n <MoveEnum.tailslap: 262>,\n <MoveEnum.taunt: 263>,\n <MoveEnum.technoblast: 264>,\n <MoveEnum.teleport: 265>,\n <MoveEnum.thousandarrows: 266>,\n <MoveEnum.throatchop: 267>,\n <MoveEnum.thunder: 268>,\n <MoveEnum.thunderbolt: 269>,\n <MoveEnum.thunderfang: 270>,\n <MoveEnum.thunderpunch: 271>,\n <MoveEnum.thunderwave: 272>,\n <MoveEnum.toxic: 273>,\n <MoveEnum.toxicspikes: 274>,\n <MoveEnum.transform: 275>,\n <MoveEnum.triattack: 276>,\n <MoveEnum.trick: 277>,\n <MoveEnum.trickroom: 278>,\n <MoveEnum.tripleaxel: 279>,\n <MoveEnum.uturn: 280>,\n <MoveEnum.vcreate: 281>,\n <MoveEnum.voltswitch: 282>,\n <MoveEnum.volttackle: 283>,\n <MoveEnum.waterfall: 284>,\n <MoveEnum.waterpulse: 285>,\n <MoveEnum.waterspout: 286>,\n <MoveEnum.whirlwind: 287>,\n <MoveEnum.wickedblow: 288>,\n <MoveEnum.wildcharge: 289>,\n <MoveEnum.willowisp: 290>,\n <MoveEnum.wish: 291>,\n <MoveEnum.woodhammer: 292>,\n <MoveEnum.xscissor: 293>,\n <MoveEnum.yawn: 294>,\n <MoveEnum.zenheadbutt: 295>,\n <MoveEnum.zingzap: 296>]"
     },
     "execution_count": 67,
     "metadata": {},
     "output_type": "execute_result"
    }
   ],
   "source": [
    "list(MoveEnum)"
   ],
   "metadata": {
    "collapsed": false,
    "ExecuteTime": {
     "end_time": "2023-05-25T01:48:10.640223Z",
     "start_time": "2023-05-25T01:48:10.607306Z"
    }
   }
  },
  {
   "cell_type": "code",
   "execution_count": 59,
   "outputs": [
    {
     "name": "stdout",
     "output_type": "stream",
     "text": [
      "ancientpower (Move object)\n",
      "[{'chance': 10, 'self': {'boosts': {'atk': 1, 'def': 1, 'spa': 1, 'spd': 1, 'spe': 1}}}]\n",
      "appleacid (Move object)\n",
      "[{'boosts': {'spd': -1}, 'chance': 100}]\n",
      "aurawheel (Move object)\n",
      "[{'chance': 100, 'self': {'boosts': {'spe': 1}}}]\n",
      "bugbuzz (Move object)\n",
      "[{'boosts': {'spd': -1}, 'chance': 10}]\n",
      "crunch (Move object)\n",
      "[{'boosts': {'def': -1}, 'chance': 20}]\n",
      "crushclaw (Move object)\n",
      "[{'boosts': {'def': -1}, 'chance': 50}]\n",
      "earthpower (Move object)\n",
      "[{'boosts': {'spd': -1}, 'chance': 10}]\n",
      "energyball (Move object)\n",
      "[{'boosts': {'spd': -1}, 'chance': 10}]\n",
      "firelash (Move object)\n",
      "[{'boosts': {'def': -1}, 'chance': 100}]\n",
      "flamecharge (Move object)\n",
      "[{'chance': 100, 'self': {'boosts': {'spe': 1}}}]\n",
      "flashcannon (Move object)\n",
      "[{'boosts': {'spd': -1}, 'chance': 10}]\n",
      "focusblast (Move object)\n",
      "[{'boosts': {'spd': -1}, 'chance': 10}]\n",
      "glaciate (Move object)\n",
      "[{'boosts': {'spe': -1}, 'chance': 100}]\n",
      "gravapple (Move object)\n",
      "[{'boosts': {'def': -1}, 'chance': 100}]\n",
      "icywind (Move object)\n",
      "[{'boosts': {'spe': -1}, 'chance': 100}]\n",
      "irontail (Move object)\n",
      "[{'boosts': {'def': -1}, 'chance': 30}]\n",
      "liquidation (Move object)\n",
      "[{'boosts': {'def': -1}, 'chance': 20}]\n",
      "meteormash (Move object)\n",
      "[{'chance': 20, 'self': {'boosts': {'atk': 1}}}]\n",
      "moonblast (Move object)\n",
      "[{'boosts': {'spa': -1}, 'chance': 30}]\n",
      "mysticalfire (Move object)\n",
      "[{'boosts': {'spa': -1}, 'chance': 100}]\n",
      "playrough (Move object)\n",
      "[{'boosts': {'atk': -1}, 'chance': 10}]\n",
      "psychic (Move object)\n",
      "[{'boosts': {'spd': -1}, 'chance': 10}]\n",
      "rapidspin (Move object)\n",
      "[{'chance': 100, 'self': {'boosts': {'spe': 1}}}]\n",
      "rocktomb (Move object)\n",
      "[{'boosts': {'spe': -1}, 'chance': 100}]\n",
      "shadowball (Move object)\n",
      "[{'boosts': {'spd': -1}, 'chance': 20}]\n",
      "spiritbreak (Move object)\n",
      "[{'boosts': {'spa': -1}, 'chance': 100}]\n",
      "keys={'status', 'onHit', 'boosts', 'chance', 'volatileStatus', 'self', 'dustproof'}\n"
     ]
    }
   ],
   "source": [
    "max_slots = 0\n",
    "max_status = 0\n",
    "max_on_hit = 0\n",
    "max_boosts = 0\n",
    "max_chance = 0\n",
    "max_volatile_status = 0\n",
    "max_self = 0\n",
    "# NOTE: ignore dustproof\n",
    "keys = set()\n",
    "for move in move_catalog:\n",
    "    if move.secondary:\n",
    "        if any('self' in d for d in move.secondary):\n",
    "            print(move)\n",
    "            print(move.secondary)\n",
    "        if any('boosts' in d for d in move.secondary):\n",
    "            print(move)\n",
    "            print(move.secondary)\n",
    "        for d in move.secondary:\n",
    "            keys.update(d.keys())\n",
    "        # keys = Counter()\n",
    "        # for d in move.secondary:\n",
    "        #     for k in d:\n",
    "        #         if k == 'chance':\n",
    "        #             continue\n",
    "        #         keys[k] += 1\n",
    "        # print(keys.most_common(1))\n",
    "        # num_slots = 0\n",
    "        # for d in move.secondary:\n",
    "        #     num_slots += len(d)\n",
    "        #     keys.update(d.keys())\n",
    "        #     # print(list(d.keys())[0])\n",
    "        #     if 'status' in d:\n",
    "        #         print(d)\n",
    "        # max_slots = max(num_slots, max_slots)\n",
    "        # print(f\"{}\")\n",
    "# print(f\"{max_slots=}\")\n",
    "print(f\"{keys=}\")"
   ],
   "metadata": {
    "collapsed": false,
    "ExecuteTime": {
     "end_time": "2023-05-24T23:27:09.204999Z",
     "start_time": "2023-05-24T23:27:09.161397Z"
    }
   }
  },
  {
   "cell_type": "code",
   "execution_count": 53,
   "outputs": [
    {
     "data": {
      "text/plain": "[<VolatileStatus.banefulbunker: 1>,\n <VolatileStatus.curse: 2>,\n <VolatileStatus.destinybond: 3>,\n <VolatileStatus.disable: 4>,\n <VolatileStatus.encore: 5>,\n <VolatileStatus.focusenergy: 6>,\n <VolatileStatus.kingsshield: 7>,\n <VolatileStatus.leechseed: 8>,\n <VolatileStatus.magnetrise: 9>,\n <VolatileStatus.noretreat: 10>,\n <VolatileStatus.protect: 11>,\n <VolatileStatus.smackdown: 12>,\n <VolatileStatus.spikyshield: 13>,\n <VolatileStatus.substitute: 14>,\n <VolatileStatus.taunt: 15>,\n <VolatileStatus.yawn: 16>]"
     },
     "execution_count": 53,
     "metadata": {},
     "output_type": "execute_result"
    }
   ],
   "source": [
    "list(VolatileStatus)"
   ],
   "metadata": {
    "collapsed": false,
    "ExecuteTime": {
     "end_time": "2023-05-24T23:05:51.464315Z",
     "start_time": "2023-05-24T23:05:51.400853Z"
    }
   }
  },
  {
   "cell_type": "code",
   "execution_count": 28,
   "outputs": [
    {
     "data": {
      "text/plain": "63"
     },
     "execution_count": 28,
     "metadata": {},
     "output_type": "execute_result"
    }
   ],
   "source": [
    "len(item_catalog)"
   ],
   "metadata": {
    "collapsed": false,
    "ExecuteTime": {
     "end_time": "2023-05-23T21:52:46.270266Z",
     "start_time": "2023-05-23T21:52:46.263293Z"
    }
   }
  },
  {
   "cell_type": "code",
   "execution_count": 17,
   "metadata": {
    "ExecuteTime": {
     "end_time": "2023-05-24T22:03:04.676115Z",
     "start_time": "2023-05-24T22:03:04.637620Z"
    }
   },
   "outputs": [
    {
     "name": "stdout",
     "output_type": "stream",
     "text": [
      "max_abilities=3\n",
      "max_items=6\n",
      "max_moves=8\n"
     ]
    }
   ],
   "source": [
    "max_abilities = 0\n",
    "max_items = 0\n",
    "max_moves = 0\n",
    "for pokemon, data in pokedex.items():\n",
    "    max_abilities = max(len(data['abilities']), max_abilities)\n",
    "    max_moves = max(len(data['moves']), max_moves)\n",
    "    max_items = max(len(data['items']), max_items)\n",
    "print(f\"{max_abilities=}\\n{max_items=}\\n{max_moves=}\")"
   ]
  },
  {
   "cell_type": "code",
   "execution_count": null,
   "outputs": [],
   "source": [
    "dynamax_moves = [move.dynamaxed]"
   ],
   "metadata": {
    "collapsed": false
   }
  },
  {
   "cell_type": "code",
   "execution_count": 61,
   "outputs": [
    {
     "data": {
      "text/plain": "296"
     },
     "execution_count": 61,
     "metadata": {},
     "output_type": "execute_result"
    }
   ],
   "source": [
    "len(move_catalog)"
   ],
   "metadata": {
    "collapsed": false,
    "ExecuteTime": {
     "end_time": "2023-05-25T01:39:15.435452Z",
     "start_time": "2023-05-25T01:39:15.406306Z"
    }
   }
  },
  {
   "cell_type": "code",
   "execution_count": 18,
   "metadata": {
    "ExecuteTime": {
     "end_time": "2023-05-24T22:03:06.259932Z",
     "start_time": "2023-05-24T22:03:06.194030Z"
    }
   },
   "outputs": [
    {
     "name": "stdout",
     "output_type": "stream",
     "text": [
      "successfully extracted all features\n"
     ]
    },
    {
     "data": {
      "text/plain": "torch.Size([4981])"
     },
     "execution_count": 18,
     "metadata": {},
     "output_type": "execute_result"
    }
   ],
   "source": [
    "turns = extractors[0].turns\n",
    "extractor = extractors[0]\n",
    "embedding = extractor.embed(turns[3])\n",
    "embedding.shape"
   ]
  },
  {
   "cell_type": "code",
   "execution_count": 6,
   "metadata": {
    "ExecuteTime": {
     "end_time": "2023-05-27T00:07:56.568222Z",
     "start_time": "2023-05-27T00:07:54.189274Z"
    }
   },
   "outputs": [],
   "source": [
    "battle_json = \"cache/replays/gen8randombattle-1123651831.json\"\n",
    "turns = process_battle(battle_json)"
   ]
  },
  {
   "cell_type": "code",
   "execution_count": 7,
   "metadata": {
    "collapsed": false,
    "ExecuteTime": {
     "end_time": "2023-05-27T00:07:56.605692Z",
     "start_time": "2023-05-27T00:07:56.570010Z"
    }
   },
   "outputs": [
    {
     "name": "stdout",
     "output_type": "stream",
     "text": [
      "{'atk': None, 'def': None, 'spa': None, 'spd': None, 'spe': None}\n",
      "{'atk': None, 'def': None, 'spa': None, 'spd': None, 'spe': None}\n",
      "{'atk': None, 'def': None, 'spa': None, 'spd': None, 'spe': None}\n",
      "{'atk': None, 'def': None, 'spa': None, 'spd': None, 'spe': None}\n",
      "{'atk': None, 'def': None, 'spa': None, 'spd': None, 'spe': None}\n",
      "{'atk': None, 'def': None, 'spa': None, 'spd': None, 'spe': None}\n",
      "{'atk': None, 'def': None, 'spa': None, 'spd': None, 'spe': None}\n",
      "{'atk': None, 'def': None, 'spa': None, 'spd': None, 'spe': None}\n",
      "{'atk': None, 'def': None, 'spa': None, 'spd': None, 'spe': None}\n",
      "{'atk': None, 'def': None, 'spa': None, 'spd': None, 'spe': None}\n",
      "{'atk': None, 'def': None, 'spa': None, 'spd': None, 'spe': None}\n",
      "{'atk': None, 'def': None, 'spa': None, 'spd': None, 'spe': None}\n",
      "{'atk': None, 'def': None, 'spa': None, 'spd': None, 'spe': None}\n",
      "{'atk': None, 'def': None, 'spa': None, 'spd': None, 'spe': None}\n",
      "{'atk': None, 'def': None, 'spa': None, 'spd': None, 'spe': None}\n",
      "{'atk': None, 'def': None, 'spa': None, 'spd': None, 'spe': None}\n",
      "{'atk': None, 'def': None, 'spa': None, 'spd': None, 'spe': None}\n",
      "{'atk': None, 'def': None, 'spa': None, 'spd': None, 'spe': None}\n",
      "{'atk': None, 'def': None, 'spa': None, 'spd': None, 'spe': None}\n",
      "{'atk': None, 'def': None, 'spa': None, 'spd': None, 'spe': None}\n",
      "{'atk': None, 'def': None, 'spa': None, 'spd': None, 'spe': None}\n",
      "{'atk': None, 'def': None, 'spa': None, 'spd': None, 'spe': None}\n",
      "{'atk': None, 'def': None, 'spa': None, 'spd': None, 'spe': None}\n",
      "{'atk': None, 'def': None, 'spa': None, 'spd': None, 'spe': None}\n",
      "{'atk': None, 'def': None, 'spa': None, 'spd': None, 'spe': None}\n",
      "{'atk': None, 'def': None, 'spa': None, 'spd': None, 'spe': None}\n",
      "{'atk': None, 'def': None, 'spa': None, 'spd': None, 'spe': None}\n",
      "{'atk': None, 'def': None, 'spa': None, 'spd': None, 'spe': None}\n",
      "{'incineroar': incineroar (pokemon object) [Active: True, Status: TOX], 'rotommow': rotommow (pokemon object) [Active: True, Status: TOX], 'gourgeistlarge': gourgeistlarge (pokemon object) [Active: True, Status: None], 'falinks': falinks (pokemon object) [Active: True, Status: None]}\n"
     ]
    }
   ],
   "source": [
    "team = {}\n",
    "for turn in turns:\n",
    "    active = turn.active_pokemon\n",
    "    team[active.species] = active\n",
    "    print(active.stats)\n",
    "print(team)"
   ]
  },
  {
   "cell_type": "code",
   "execution_count": null,
   "metadata": {
    "collapsed": false
   },
   "outputs": [],
   "source": [
    "pokedex['Incineroar'].keys()"
   ]
  },
  {
   "cell_type": "code",
   "execution_count": null,
   "metadata": {
    "collapsed": false
   },
   "outputs": [],
   "source": []
  }
 ],
 "metadata": {
  "kernelspec": {
   "display_name": "Python 3 (ipykernel)",
   "language": "python",
   "name": "python3"
  },
  "language_info": {
   "codemirror_mode": {
    "name": "ipython",
    "version": 3
   },
   "file_extension": ".py",
   "mimetype": "text/x-python",
   "name": "python",
   "nbconvert_exporter": "python",
   "pygments_lexer": "ipython3",
   "version": "3.11.2"
  }
 },
 "nbformat": 4,
 "nbformat_minor": 1
}
