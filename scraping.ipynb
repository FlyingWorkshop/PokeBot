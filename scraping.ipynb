{
 "cells": [
  {
   "cell_type": "code",
   "execution_count": 2,
   "metadata": {
    "ExecuteTime": {
     "end_time": "2023-04-28T18:11:06.682884Z",
     "start_time": "2023-04-28T18:11:06.184054Z"
    },
    "collapsed": true
   },
   "outputs": [],
   "source": [
    "from bs4 import BeautifulSoup\n",
    "from selenium import webdriver\n",
    "from selenium.webdriver.common.by import By\n",
    "import time\n",
    "import requests\n",
    "import re\n",
    "import selenium"
   ]
  },
  {
   "cell_type": "code",
   "execution_count": 4,
   "metadata": {
    "ExecuteTime": {
     "end_time": "2023-04-28T18:11:07.200459Z",
     "start_time": "2023-04-28T18:11:06.684950Z"
    },
    "collapsed": false
   },
   "outputs": [
    {
     "ename": "URLError",
     "evalue": "<urlopen error [SSL: CERTIFICATE_VERIFY_FAILED] certificate verify failed: unable to get local issuer certificate (_ssl.c:992)>",
     "output_type": "error",
     "traceback": [
      "\u001b[0;31m---------------------------------------------------------------------------\u001b[0m",
      "\u001b[0;31mSSLCertVerificationError\u001b[0m                  Traceback (most recent call last)",
      "File \u001b[0;32m/Library/Frameworks/Python.framework/Versions/3.11/lib/python3.11/urllib/request.py:1348\u001b[0m, in \u001b[0;36mAbstractHTTPHandler.do_open\u001b[0;34m(self, http_class, req, **http_conn_args)\u001b[0m\n\u001b[1;32m   1347\u001b[0m \u001b[39mtry\u001b[39;00m:\n\u001b[0;32m-> 1348\u001b[0m     h\u001b[39m.\u001b[39;49mrequest(req\u001b[39m.\u001b[39;49mget_method(), req\u001b[39m.\u001b[39;49mselector, req\u001b[39m.\u001b[39;49mdata, headers,\n\u001b[1;32m   1349\u001b[0m               encode_chunked\u001b[39m=\u001b[39;49mreq\u001b[39m.\u001b[39;49mhas_header(\u001b[39m'\u001b[39;49m\u001b[39mTransfer-encoding\u001b[39;49m\u001b[39m'\u001b[39;49m))\n\u001b[1;32m   1350\u001b[0m \u001b[39mexcept\u001b[39;00m \u001b[39mOSError\u001b[39;00m \u001b[39mas\u001b[39;00m err: \u001b[39m# timeout error\u001b[39;00m\n",
      "File \u001b[0;32m/Library/Frameworks/Python.framework/Versions/3.11/lib/python3.11/http/client.py:1282\u001b[0m, in \u001b[0;36mHTTPConnection.request\u001b[0;34m(self, method, url, body, headers, encode_chunked)\u001b[0m\n\u001b[1;32m   1281\u001b[0m \u001b[39m\u001b[39m\u001b[39m\"\"\"Send a complete request to the server.\"\"\"\u001b[39;00m\n\u001b[0;32m-> 1282\u001b[0m \u001b[39mself\u001b[39;49m\u001b[39m.\u001b[39;49m_send_request(method, url, body, headers, encode_chunked)\n",
      "File \u001b[0;32m/Library/Frameworks/Python.framework/Versions/3.11/lib/python3.11/http/client.py:1328\u001b[0m, in \u001b[0;36mHTTPConnection._send_request\u001b[0;34m(self, method, url, body, headers, encode_chunked)\u001b[0m\n\u001b[1;32m   1327\u001b[0m     body \u001b[39m=\u001b[39m _encode(body, \u001b[39m'\u001b[39m\u001b[39mbody\u001b[39m\u001b[39m'\u001b[39m)\n\u001b[0;32m-> 1328\u001b[0m \u001b[39mself\u001b[39;49m\u001b[39m.\u001b[39;49mendheaders(body, encode_chunked\u001b[39m=\u001b[39;49mencode_chunked)\n",
      "File \u001b[0;32m/Library/Frameworks/Python.framework/Versions/3.11/lib/python3.11/http/client.py:1277\u001b[0m, in \u001b[0;36mHTTPConnection.endheaders\u001b[0;34m(self, message_body, encode_chunked)\u001b[0m\n\u001b[1;32m   1276\u001b[0m     \u001b[39mraise\u001b[39;00m CannotSendHeader()\n\u001b[0;32m-> 1277\u001b[0m \u001b[39mself\u001b[39;49m\u001b[39m.\u001b[39;49m_send_output(message_body, encode_chunked\u001b[39m=\u001b[39;49mencode_chunked)\n",
      "File \u001b[0;32m/Library/Frameworks/Python.framework/Versions/3.11/lib/python3.11/http/client.py:1037\u001b[0m, in \u001b[0;36mHTTPConnection._send_output\u001b[0;34m(self, message_body, encode_chunked)\u001b[0m\n\u001b[1;32m   1036\u001b[0m \u001b[39mdel\u001b[39;00m \u001b[39mself\u001b[39m\u001b[39m.\u001b[39m_buffer[:]\n\u001b[0;32m-> 1037\u001b[0m \u001b[39mself\u001b[39;49m\u001b[39m.\u001b[39;49msend(msg)\n\u001b[1;32m   1039\u001b[0m \u001b[39mif\u001b[39;00m message_body \u001b[39mis\u001b[39;00m \u001b[39mnot\u001b[39;00m \u001b[39mNone\u001b[39;00m:\n\u001b[1;32m   1040\u001b[0m \n\u001b[1;32m   1041\u001b[0m     \u001b[39m# create a consistent interface to message_body\u001b[39;00m\n",
      "File \u001b[0;32m/Library/Frameworks/Python.framework/Versions/3.11/lib/python3.11/http/client.py:975\u001b[0m, in \u001b[0;36mHTTPConnection.send\u001b[0;34m(self, data)\u001b[0m\n\u001b[1;32m    974\u001b[0m \u001b[39mif\u001b[39;00m \u001b[39mself\u001b[39m\u001b[39m.\u001b[39mauto_open:\n\u001b[0;32m--> 975\u001b[0m     \u001b[39mself\u001b[39;49m\u001b[39m.\u001b[39;49mconnect()\n\u001b[1;32m    976\u001b[0m \u001b[39melse\u001b[39;00m:\n",
      "File \u001b[0;32m/Library/Frameworks/Python.framework/Versions/3.11/lib/python3.11/http/client.py:1454\u001b[0m, in \u001b[0;36mHTTPSConnection.connect\u001b[0;34m(self)\u001b[0m\n\u001b[1;32m   1452\u001b[0m     server_hostname \u001b[39m=\u001b[39m \u001b[39mself\u001b[39m\u001b[39m.\u001b[39mhost\n\u001b[0;32m-> 1454\u001b[0m \u001b[39mself\u001b[39m\u001b[39m.\u001b[39msock \u001b[39m=\u001b[39m \u001b[39mself\u001b[39;49m\u001b[39m.\u001b[39;49m_context\u001b[39m.\u001b[39;49mwrap_socket(\u001b[39mself\u001b[39;49m\u001b[39m.\u001b[39;49msock,\n\u001b[1;32m   1455\u001b[0m                                       server_hostname\u001b[39m=\u001b[39;49mserver_hostname)\n",
      "File \u001b[0;32m/Library/Frameworks/Python.framework/Versions/3.11/lib/python3.11/ssl.py:517\u001b[0m, in \u001b[0;36mSSLContext.wrap_socket\u001b[0;34m(self, sock, server_side, do_handshake_on_connect, suppress_ragged_eofs, server_hostname, session)\u001b[0m\n\u001b[1;32m    511\u001b[0m \u001b[39mdef\u001b[39;00m \u001b[39mwrap_socket\u001b[39m(\u001b[39mself\u001b[39m, sock, server_side\u001b[39m=\u001b[39m\u001b[39mFalse\u001b[39;00m,\n\u001b[1;32m    512\u001b[0m                 do_handshake_on_connect\u001b[39m=\u001b[39m\u001b[39mTrue\u001b[39;00m,\n\u001b[1;32m    513\u001b[0m                 suppress_ragged_eofs\u001b[39m=\u001b[39m\u001b[39mTrue\u001b[39;00m,\n\u001b[1;32m    514\u001b[0m                 server_hostname\u001b[39m=\u001b[39m\u001b[39mNone\u001b[39;00m, session\u001b[39m=\u001b[39m\u001b[39mNone\u001b[39;00m):\n\u001b[1;32m    515\u001b[0m     \u001b[39m# SSLSocket class handles server_hostname encoding before it calls\u001b[39;00m\n\u001b[1;32m    516\u001b[0m     \u001b[39m# ctx._wrap_socket()\u001b[39;00m\n\u001b[0;32m--> 517\u001b[0m     \u001b[39mreturn\u001b[39;00m \u001b[39mself\u001b[39;49m\u001b[39m.\u001b[39;49msslsocket_class\u001b[39m.\u001b[39;49m_create(\n\u001b[1;32m    518\u001b[0m         sock\u001b[39m=\u001b[39;49msock,\n\u001b[1;32m    519\u001b[0m         server_side\u001b[39m=\u001b[39;49mserver_side,\n\u001b[1;32m    520\u001b[0m         do_handshake_on_connect\u001b[39m=\u001b[39;49mdo_handshake_on_connect,\n\u001b[1;32m    521\u001b[0m         suppress_ragged_eofs\u001b[39m=\u001b[39;49msuppress_ragged_eofs,\n\u001b[1;32m    522\u001b[0m         server_hostname\u001b[39m=\u001b[39;49mserver_hostname,\n\u001b[1;32m    523\u001b[0m         context\u001b[39m=\u001b[39;49m\u001b[39mself\u001b[39;49m,\n\u001b[1;32m    524\u001b[0m         session\u001b[39m=\u001b[39;49msession\n\u001b[1;32m    525\u001b[0m     )\n",
      "File \u001b[0;32m/Library/Frameworks/Python.framework/Versions/3.11/lib/python3.11/ssl.py:1075\u001b[0m, in \u001b[0;36mSSLSocket._create\u001b[0;34m(cls, sock, server_side, do_handshake_on_connect, suppress_ragged_eofs, server_hostname, context, session)\u001b[0m\n\u001b[1;32m   1074\u001b[0m             \u001b[39mraise\u001b[39;00m \u001b[39mValueError\u001b[39;00m(\u001b[39m\"\u001b[39m\u001b[39mdo_handshake_on_connect should not be specified for non-blocking sockets\u001b[39m\u001b[39m\"\u001b[39m)\n\u001b[0;32m-> 1075\u001b[0m         \u001b[39mself\u001b[39;49m\u001b[39m.\u001b[39;49mdo_handshake()\n\u001b[1;32m   1076\u001b[0m \u001b[39mexcept\u001b[39;00m (\u001b[39mOSError\u001b[39;00m, \u001b[39mValueError\u001b[39;00m):\n",
      "File \u001b[0;32m/Library/Frameworks/Python.framework/Versions/3.11/lib/python3.11/ssl.py:1346\u001b[0m, in \u001b[0;36mSSLSocket.do_handshake\u001b[0;34m(self, block)\u001b[0m\n\u001b[1;32m   1345\u001b[0m         \u001b[39mself\u001b[39m\u001b[39m.\u001b[39msettimeout(\u001b[39mNone\u001b[39;00m)\n\u001b[0;32m-> 1346\u001b[0m     \u001b[39mself\u001b[39;49m\u001b[39m.\u001b[39;49m_sslobj\u001b[39m.\u001b[39;49mdo_handshake()\n\u001b[1;32m   1347\u001b[0m \u001b[39mfinally\u001b[39;00m:\n",
      "\u001b[0;31mSSLCertVerificationError\u001b[0m: [SSL: CERTIFICATE_VERIFY_FAILED] certificate verify failed: unable to get local issuer certificate (_ssl.c:992)",
      "\nDuring handling of the above exception, another exception occurred:\n",
      "\u001b[0;31mURLError\u001b[0m                                  Traceback (most recent call last)",
      "Cell \u001b[0;32mIn[4], line 3\u001b[0m\n\u001b[1;32m      1\u001b[0m \u001b[39m# scrape from url\u001b[39;00m\n\u001b[1;32m      2\u001b[0m url \u001b[39m=\u001b[39m \u001b[39m\"\u001b[39m\u001b[39mhttps://play.pkmn.cc/data/random/gen9randombattle.json\u001b[39m\u001b[39m\"\u001b[39m\n\u001b[0;32m----> 3\u001b[0m response \u001b[39m=\u001b[39m urlopen(url)\n\u001b[1;32m      4\u001b[0m \u001b[39mwith\u001b[39;00m urlopen(url) \u001b[39mas\u001b[39;00m f:\n\u001b[1;32m      5\u001b[0m     data \u001b[39m=\u001b[39m json\u001b[39m.\u001b[39mloads(f\u001b[39m.\u001b[39mread())\n",
      "File \u001b[0;32m/Library/Frameworks/Python.framework/Versions/3.11/lib/python3.11/urllib/request.py:216\u001b[0m, in \u001b[0;36murlopen\u001b[0;34m(url, data, timeout, cafile, capath, cadefault, context)\u001b[0m\n\u001b[1;32m    214\u001b[0m \u001b[39melse\u001b[39;00m:\n\u001b[1;32m    215\u001b[0m     opener \u001b[39m=\u001b[39m _opener\n\u001b[0;32m--> 216\u001b[0m \u001b[39mreturn\u001b[39;00m opener\u001b[39m.\u001b[39;49mopen(url, data, timeout)\n",
      "File \u001b[0;32m/Library/Frameworks/Python.framework/Versions/3.11/lib/python3.11/urllib/request.py:519\u001b[0m, in \u001b[0;36mOpenerDirector.open\u001b[0;34m(self, fullurl, data, timeout)\u001b[0m\n\u001b[1;32m    516\u001b[0m     req \u001b[39m=\u001b[39m meth(req)\n\u001b[1;32m    518\u001b[0m sys\u001b[39m.\u001b[39maudit(\u001b[39m'\u001b[39m\u001b[39murllib.Request\u001b[39m\u001b[39m'\u001b[39m, req\u001b[39m.\u001b[39mfull_url, req\u001b[39m.\u001b[39mdata, req\u001b[39m.\u001b[39mheaders, req\u001b[39m.\u001b[39mget_method())\n\u001b[0;32m--> 519\u001b[0m response \u001b[39m=\u001b[39m \u001b[39mself\u001b[39;49m\u001b[39m.\u001b[39;49m_open(req, data)\n\u001b[1;32m    521\u001b[0m \u001b[39m# post-process response\u001b[39;00m\n\u001b[1;32m    522\u001b[0m meth_name \u001b[39m=\u001b[39m protocol\u001b[39m+\u001b[39m\u001b[39m\"\u001b[39m\u001b[39m_response\u001b[39m\u001b[39m\"\u001b[39m\n",
      "File \u001b[0;32m/Library/Frameworks/Python.framework/Versions/3.11/lib/python3.11/urllib/request.py:536\u001b[0m, in \u001b[0;36mOpenerDirector._open\u001b[0;34m(self, req, data)\u001b[0m\n\u001b[1;32m    533\u001b[0m     \u001b[39mreturn\u001b[39;00m result\n\u001b[1;32m    535\u001b[0m protocol \u001b[39m=\u001b[39m req\u001b[39m.\u001b[39mtype\n\u001b[0;32m--> 536\u001b[0m result \u001b[39m=\u001b[39m \u001b[39mself\u001b[39;49m\u001b[39m.\u001b[39;49m_call_chain(\u001b[39mself\u001b[39;49m\u001b[39m.\u001b[39;49mhandle_open, protocol, protocol \u001b[39m+\u001b[39;49m\n\u001b[1;32m    537\u001b[0m                           \u001b[39m'\u001b[39;49m\u001b[39m_open\u001b[39;49m\u001b[39m'\u001b[39;49m, req)\n\u001b[1;32m    538\u001b[0m \u001b[39mif\u001b[39;00m result:\n\u001b[1;32m    539\u001b[0m     \u001b[39mreturn\u001b[39;00m result\n",
      "File \u001b[0;32m/Library/Frameworks/Python.framework/Versions/3.11/lib/python3.11/urllib/request.py:496\u001b[0m, in \u001b[0;36mOpenerDirector._call_chain\u001b[0;34m(self, chain, kind, meth_name, *args)\u001b[0m\n\u001b[1;32m    494\u001b[0m \u001b[39mfor\u001b[39;00m handler \u001b[39min\u001b[39;00m handlers:\n\u001b[1;32m    495\u001b[0m     func \u001b[39m=\u001b[39m \u001b[39mgetattr\u001b[39m(handler, meth_name)\n\u001b[0;32m--> 496\u001b[0m     result \u001b[39m=\u001b[39m func(\u001b[39m*\u001b[39;49margs)\n\u001b[1;32m    497\u001b[0m     \u001b[39mif\u001b[39;00m result \u001b[39mis\u001b[39;00m \u001b[39mnot\u001b[39;00m \u001b[39mNone\u001b[39;00m:\n\u001b[1;32m    498\u001b[0m         \u001b[39mreturn\u001b[39;00m result\n",
      "File \u001b[0;32m/Library/Frameworks/Python.framework/Versions/3.11/lib/python3.11/urllib/request.py:1391\u001b[0m, in \u001b[0;36mHTTPSHandler.https_open\u001b[0;34m(self, req)\u001b[0m\n\u001b[1;32m   1390\u001b[0m \u001b[39mdef\u001b[39;00m \u001b[39mhttps_open\u001b[39m(\u001b[39mself\u001b[39m, req):\n\u001b[0;32m-> 1391\u001b[0m     \u001b[39mreturn\u001b[39;00m \u001b[39mself\u001b[39;49m\u001b[39m.\u001b[39;49mdo_open(http\u001b[39m.\u001b[39;49mclient\u001b[39m.\u001b[39;49mHTTPSConnection, req,\n\u001b[1;32m   1392\u001b[0m         context\u001b[39m=\u001b[39;49m\u001b[39mself\u001b[39;49m\u001b[39m.\u001b[39;49m_context, check_hostname\u001b[39m=\u001b[39;49m\u001b[39mself\u001b[39;49m\u001b[39m.\u001b[39;49m_check_hostname)\n",
      "File \u001b[0;32m/Library/Frameworks/Python.framework/Versions/3.11/lib/python3.11/urllib/request.py:1351\u001b[0m, in \u001b[0;36mAbstractHTTPHandler.do_open\u001b[0;34m(self, http_class, req, **http_conn_args)\u001b[0m\n\u001b[1;32m   1348\u001b[0m         h\u001b[39m.\u001b[39mrequest(req\u001b[39m.\u001b[39mget_method(), req\u001b[39m.\u001b[39mselector, req\u001b[39m.\u001b[39mdata, headers,\n\u001b[1;32m   1349\u001b[0m                   encode_chunked\u001b[39m=\u001b[39mreq\u001b[39m.\u001b[39mhas_header(\u001b[39m'\u001b[39m\u001b[39mTransfer-encoding\u001b[39m\u001b[39m'\u001b[39m))\n\u001b[1;32m   1350\u001b[0m     \u001b[39mexcept\u001b[39;00m \u001b[39mOSError\u001b[39;00m \u001b[39mas\u001b[39;00m err: \u001b[39m# timeout error\u001b[39;00m\n\u001b[0;32m-> 1351\u001b[0m         \u001b[39mraise\u001b[39;00m URLError(err)\n\u001b[1;32m   1352\u001b[0m     r \u001b[39m=\u001b[39m h\u001b[39m.\u001b[39mgetresponse()\n\u001b[1;32m   1353\u001b[0m \u001b[39mexcept\u001b[39;00m:\n",
      "\u001b[0;31mURLError\u001b[0m: <urlopen error [SSL: CERTIFICATE_VERIFY_FAILED] certificate verify failed: unable to get local issuer certificate (_ssl.c:992)>"
     ]
    }
   ],
   "source": [
    "# scrape from url\n",
    "url = \"https://play.pkmn.cc/data/random/gen9randombattle.json\"\n",
    "response = urlopen(url)\n",
    "with urlopen(url) as f:\n",
    "    data = json.loads(f.read())\n",
    "\n",
    "data"
   ]
  },
  {
   "cell_type": "code",
   "execution_count": 10,
   "metadata": {
    "ExecuteTime": {
     "end_time": "2023-04-28T18:24:47.824217Z",
     "start_time": "2023-04-28T18:24:47.815768Z"
    },
    "collapsed": false
   },
   "outputs": [
    {
     "data": {
      "text/plain": [
       "{'level': 88,\n",
       " 'abilities': {'Static': 1},\n",
       " 'items': {'Life Orb': 0.5171, 'Choice Specs': 0.4829},\n",
       " 'roles': {'Wallbreaker': {'weight': 1,\n",
       "   'abilities': {'Static': 1},\n",
       "   'items': {'Life Orb': 0.5171, 'Choice Specs': 0.4829},\n",
       "   'teraTypes': {'Fairy': 0.5043, 'Electric': 0.4957},\n",
       "   'moves': {'Dazzling Gleam': 1,\n",
       "    'Focus Blast': 1,\n",
       "    'Thunderbolt': 1,\n",
       "    'Agility': 0.5171,\n",
       "    'Volt Switch': 0.4829},\n",
       "   'evs': {'atk': 0},\n",
       "   'ivs': {'atk': 0}}},\n",
       " 'evs': {'atk': 0},\n",
       " 'ivs': {'atk': 0}}"
      ]
     },
     "execution_count": 43,
     "metadata": {},
     "output_type": "execute_result"
    }
   ],
   "source": [
<<<<<<< HEAD
    "data['Ampharos']"
   ]
=======
    "pattern = re.compile(\"(\\d-\\d) hours ago\")\n",
    "times = [m for m in pattern.findall(html)]\n",
    "indices = [m.start() for m in pattern.finditer(html)]\n",
    "i = indices[times.index(\"1-2\") + 1]\n",
    "i"
   ],
   "metadata": {
    "collapsed": false,
    "ExecuteTime": {
     "end_time": "2023-05-11T19:45:14.714101Z",
     "start_time": "2023-05-11T19:45:14.689689Z"
    }
   }
  },
  {
   "cell_type": "code",
   "execution_count": 54,
   "outputs": [
    {
     "name": "stdout",
     "output_type": "stream",
     "text": [
      "https://replay.pokemonshowdown.com/gen8randombattle-1862102090.log\n",
      "https://replay.pokemonshowdown.com/gen8randombattle-1862097433.log\n",
      "https://replay.pokemonshowdown.com/gen8randombattle-1862092716.log\n",
      "https://replay.pokemonshowdown.com/gen8randombattle-1862089863.log\n",
      "https://replay.pokemonshowdown.com/gen8randombattle-1862087705.log\n",
      "https://replay.pokemonshowdown.com/gen8randombattle-1862086215.log\n",
      "https://replay.pokemonshowdown.com/gen8randombattle-1862085000.log\n",
      "https://replay.pokemonshowdown.com/gen8randombattle-1862080785.log\n",
      "https://replay.pokemonshowdown.com/gen8randombattle-1862077534.log\n",
      "https://replay.pokemonshowdown.com/gen8randombattle-1862042337.log\n",
      "https://replay.pokemonshowdown.com/gen8randombattle-1862019986.log\n",
      "https://replay.pokemonshowdown.com/gen8randombattle-1861940689.log\n",
      "https://replay.pokemonshowdown.com/gen8randombattle-1861912182.log\n",
      "https://replay.pokemonshowdown.com/gen8randombattle-1861899693.log\n",
      "https://replay.pokemonshowdown.com/gen8randombattle-1861878707.log\n",
      "https://replay.pokemonshowdown.com/gen8randombattle-1861873580.log\n",
      "https://replay.pokemonshowdown.com/gen8randombattle-1861862963.log\n",
      "https://replay.pokemonshowdown.com/gen8randombattle-1861866246.log\n",
      "https://replay.pokemonshowdown.com/gen8randombattle-1861859064.log\n",
      "https://replay.pokemonshowdown.com/gen8randombattle-1861858620.log\n",
      "https://replay.pokemonshowdown.com/gen8randombattle-1861853730.log\n",
      "https://replay.pokemonshowdown.com/gen8randombattle-1861848799.log\n",
      "https://replay.pokemonshowdown.com/gen8randombattle-1861846891.log\n",
      "https://replay.pokemonshowdown.com/gen8randombattle-1861840072.log\n",
      "https://replay.pokemonshowdown.com/gen8randombattle-1861823207.log\n",
      "https://replay.pokemonshowdown.com/gen8randombattle-1861788476.log\n",
      "https://replay.pokemonshowdown.com/gen8randombattle-1861738487.log\n",
      "https://replay.pokemonshowdown.com/gen8randombattle-1861736720.log\n",
      "https://replay.pokemonshowdown.com/gen8randombattle-1861735083.log\n",
      "https://replay.pokemonshowdown.com/gen8randombattle-1861737165.log\n",
      "https://replay.pokemonshowdown.com/gen8randombattle-1861725622.log\n",
      "https://replay.pokemonshowdown.com/gen8randombattle-1861722596.log\n",
      "https://replay.pokemonshowdown.com/gen8randombattle-1861722624.log\n",
      "https://replay.pokemonshowdown.com/gen8randombattle-1861720287.log\n",
      "https://replay.pokemonshowdown.com/gen8randombattle-1861669130.log\n",
      "https://replay.pokemonshowdown.com/gen8randombattle-1861664387.log\n",
      "https://replay.pokemonshowdown.com/gen8randombattle-1861626789.log\n",
      "https://replay.pokemonshowdown.com/gen8randombattle-1861619579.log\n",
      "https://replay.pokemonshowdown.com/gen8randombattle-1861609562.log\n",
      "https://replay.pokemonshowdown.com/gen8randombattle-1861606011.log\n",
      "https://replay.pokemonshowdown.com/gen8randombattle-1861599588.log\n",
      "https://replay.pokemonshowdown.com/gen8randombattle-1861598999.log\n",
      "https://replay.pokemonshowdown.com/gen8randombattle-1861594488.log\n",
      "https://replay.pokemonshowdown.com/gen8randombattle-1861588869.log\n",
      "https://replay.pokemonshowdown.com/gen8randombattle-1861573029.log\n",
      "https://replay.pokemonshowdown.com/gen8randombattle-1861569296.log\n",
      "https://replay.pokemonshowdown.com/gen8randombattle-1861564420.log\n",
      "https://replay.pokemonshowdown.com/gen8randombattle-1861551534.log\n"
     ]
    }
   ],
   "source": [
    "cache = {}\n",
    "for m in re.findall('href=\"(\\/gen8randombattle-\\d+)\"', html):\n",
    "    log_url = f\"https://replay.pokemonshowdown.com{m}.log\"\n",
    "    print(log_url)"
   ],
   "metadata": {
    "collapsed": false,
    "ExecuteTime": {
     "end_time": "2023-05-11T21:15:19.522657Z",
     "start_time": "2023-05-11T21:15:19.509941Z"
    }
   }
  },
  {
   "cell_type": "code",
   "execution_count": 49,
   "outputs": [
    {
     "data": {
      "text/plain": "dict_keys(['https://replay.pokemonshowdown.com/gen8randombattle-1862042337.log', 'https://replay.pokemonshowdown.com/gen8randombattle-1862019986.log'])"
     },
     "execution_count": 49,
     "metadata": {},
     "output_type": "execute_result"
    }
   ],
   "source": [
    "cache.keys()"
   ],
   "metadata": {
    "collapsed": false,
    "ExecuteTime": {
     "end_time": "2023-05-11T19:48:59.790235Z",
     "start_time": "2023-05-11T19:48:59.784633Z"
    }
   }
  },
  {
   "cell_type": "code",
   "execution_count": 33,
   "outputs": [
    {
     "data": {
      "text/plain": "-1"
     },
     "execution_count": 33,
     "metadata": {},
     "output_type": "execute_result"
    }
   ],
   "source": [
    "response = requests.get(\"https://play.pkmn.cc/data/random/gen8randombattle.json\")\n",
    "data = response.json()"
   ],
   "metadata": {
    "collapsed": false,
    "ExecuteTime": {
     "end_time": "2023-05-11T19:34:37.293181Z",
     "start_time": "2023-05-11T19:34:37.284919Z"
    }
   }
  },
  {
   "cell_type": "code",
   "execution_count": 23,
   "outputs": [
    {
     "data": {
      "text/plain": "[<h3>10 minutes ago</h3>,\n <h3>30 minutes ago</h3>,\n <h3>1-2 hours ago</h3>,\n <h3>2-3 hours ago</h3>,\n <h3>3-4 hours ago</h3>,\n <h3>4-8 hours ago</h3>,\n <h3>8-12 hours ago</h3>]"
     },
     "execution_count": 23,
     "metadata": {},
     "output_type": "execute_result"
    }
   ],
   "source": [
    "h3_tags"
   ],
   "metadata": {
    "collapsed": false,
    "ExecuteTime": {
     "end_time": "2023-05-11T19:31:27.533695Z",
     "start_time": "2023-05-11T19:31:27.495073Z"
    }
   }
  },
  {
   "cell_type": "code",
   "execution_count": 24,
   "outputs": [
    {
     "data": {
      "text/plain": "<html><head>\n<meta charset=\"utf-8\"/>\n<title>Replays - Pokémon Showdown</title>\n<meta content=\"Watch replays of battles on Pokémon Showdown!\" name=\"description\"/>\n<meta content=\"IE=Edge,chrome=IE8\" http-equiv=\"X-UA-Compatible\"/>\n<link href=\"//play.pokemonshowdown.com/style/font-awesome.css?932f42c7\" rel=\"stylesheet\"/>\n<link href=\"//pokemonshowdown.com/theme/panels.css?0.04542194821443135\" rel=\"stylesheet\"/>\n<link href=\"//pokemonshowdown.com/theme/main.css?0.9000112450299962\" rel=\"stylesheet\"/>\n<link href=\"//play.pokemonshowdown.com/style/battle.css?e7869647\" rel=\"stylesheet\"/>\n<link href=\"//play.pokemonshowdown.com/style/replay.css?cfa51183\" rel=\"stylesheet\"/>\n<link href=\"//play.pokemonshowdown.com/style/utilichart.css?e39c48cf\" rel=\"stylesheet\"/>\n<!-- Workarounds for IE bugs to display trees correctly. -->\n<!--[if lte IE 6]><style> li.tree { height: 1px; } </style><![endif]-->\n<!--[if IE 7]><style> li.tree { zoom: 1; } </style><![endif]-->\n<script async=\"\" src=\"https://ssl.google-analytics.com/ga.js\" type=\"text/javascript\"></script><script type=\"text/javascript\">\n\t\tvar _gaq = _gaq || [];\n\t\t_gaq.push(['_setAccount', 'UA-26211653-1']);\n\t\t_gaq.push(['_setDomainName', 'pokemonshowdown.com']);\n\t\t_gaq.push(['_setAllowLinker', true]);\n\t\t_gaq.push(['_trackPageview']);\n\n\t\t(function() {\n\t\t\tvar ga = document.createElement('script'); ga.type = 'text/javascript'; ga.async = true;\n\t\t\tga.src = ('https:' == document.location.protocol ? 'https://ssl' : 'http://www') + '.google-analytics.com/ga.js';\n\t\t\tvar s = document.getElementsByTagName('script')[0]; s.parentNode.insertBefore(ga, s);\n\t\t})();\n\t</script>\n</head><body style=\"overflow: hidden;\">\n<div class=\"pfx-topbar\" style=\"position: absolute; top: 0px; left: 0px; right: 0px;\">\n<div class=\"header\">\n<ul class=\"nav\">\n<li><a class=\"button nav-first\" href=\"//pokemonshowdown.com/?0.6423609811651454\"><img alt=\"Pokémon Showdown! (beta)\" src=\"//pokemonshowdown.com/images/pokemonshowdownbeta.png?0.1828231296417\"/> Home</a></li>\n<li><a class=\"button\" href=\"//dex.pokemonshowdown.com/?0.9504027934479382\">Pokédex</a></li>\n<li><a class=\"button cur\" href=\"/?0.9568928673223203\">Replays</a></li>\n<li><a class=\"button\" href=\"//pokemonshowdown.com/ladder/?0.974670051699922\">Ladder</a></li>\n<li><a class=\"button nav-last\" href=\"//pokemonshowdown.com/forums/?0.6579293781453428\">Forum</a></li>\n</ul>\n<ul class=\"nav nav-play\">\n<li><a class=\"button greenbutton nav-first nav-last\" href=\"http://play.pokemonshowdown.com/\">Play</a></li>\n</ul>\n<div style=\"clear:both\"></div>\n</div>\n</div>\n<div class=\"pfx-panel\" style=\"position: absolute; inset: 51px 0px 0px; height: auto; overflow: auto; display: block; width: auto;\"><div class=\"pfx-body pfx-body-padded\" style=\"margin-left: auto; margin-right: auto; max-width: 600px;\">\n<h1>Search replays</h1>\n<form action=\"/search/\" data-target=\"replace\" method=\"get\">\n<p style=\"text-align:center\">\n<label><input class=\"textbox\" name=\"user\" placeholder=\"Username\" size=\"24\" type=\"text\" value=\"&lt;br /&gt;\n&lt;b&gt;Deprecated&lt;/b&gt;:  htmlspecialchars(): Passing null to parameter #1 ($string) of type string is deprecated in &lt;b&gt;/var/www/html/play.pokemonshowdown.com/replays/search.php&lt;/b&gt; on line &lt;b&gt;42&lt;/b&gt;&lt;br /&gt;\n\"/></label>\n<button type=\"submit\"><strong>Search</strong></button>\n</p>\n</form>\n<form action=\"/search/\" data-target=\"replace\" method=\"get\">\n<p style=\"text-align:center\">\n<label><input autofocus=\"autofocus\" class=\"textbox\" name=\"format\" placeholder=\"Format\" size=\"24\" type=\"text\" value=\"gen8randombattle\"/></label>\n<button type=\"submit\"><strong>Search</strong></button>\n</p>\n</form>\n<h1>Search results for \"gen8randombattle\"</h1>\n<ul class=\"tabbar centered\" style=\"margin-bottom: 18px\"><li><a class=\"button nav-first cur\" data-target=\"replace\" href=\"/search/?format=gen8randombattle\">Newest</a></li><li><a class=\"button nav-last\" data-target=\"replace\" href=\"/search/?format=gen8randombattle&amp;rating\">Highest rated</a></li></ul>\n<ul class=\"linklist\" style=\"max-width:480px;margin:0 auto;text-align:center\">\n<li><a data-target=\"push\" href=\"/gen8randombattle-1861485905\"><small>[gen8randombattle]<br/></small> <strong>WillSadman</strong> vs. <strong>vezne</strong></a></li>\n<h3>10 minutes ago</h3> <li><a data-target=\"push\" href=\"/gen8randombattle-1861485597\"><small>[gen8randombattle]<br/></small> <strong>Kdhfjddhsub</strong> vs. <strong>Rainy Day 1</strong></a></li>\n<li><a data-target=\"push\" href=\"/gen8randombattle-1861482338\"><small>[gen8randombattle]<br/></small> <strong>WillSadman</strong> vs. <strong>vezne</strong></a></li>\n<li><a data-target=\"push\" href=\"/gen8randombattle-1861483369\"><small>[gen8randombattle]<br/></small> <strong>!Kdhfjddhsub</strong> vs. <strong>!ItzAzulzin</strong></a></li>\n<h3>30 minutes ago</h3> <li><a data-target=\"push\" href=\"/gen8randombattle-1861470120\"><small>[gen8randombattle]<br/></small> <strong>ShimeNaruka</strong> vs. <strong>ZN o Shuckle</strong></a></li>\n<li><a data-target=\"push\" href=\"/gen8randombattle-1861466661\"><small>[gen8randombattle]<br/></small> <strong>ShimeNaruka</strong> vs. <strong>ZN o Shuckle</strong></a></li>\n<h3>1-2 hours ago</h3> <li><a data-target=\"push\" href=\"/gen8randombattle-1861459879\"><small>[gen8randombattle]<br/></small> <strong>lucasarreguy</strong> vs. <strong>Rebornsan93</strong></a></li>\n<li><a data-target=\"push\" href=\"/gen8randombattle-1861463044\"><small>[gen8randombattle]<br/></small> <strong>Hon10</strong> vs. <strong>eyesaxx</strong></a></li>\n<li><a data-target=\"push\" href=\"/gen8randombattle-1861462716\"><small>[gen8randombattle]<br/></small> <strong>Linasxx11</strong> vs. <strong>Rainy Day 1</strong></a></li>\n<li><a data-target=\"push\" href=\"/gen8randombattle-1861454642\"><small>[gen8randombattle]<br/></small> <strong>lucasarreguy</strong> vs. <strong>Rebornsan93</strong></a></li>\n<h3>2-3 hours ago</h3> <li><a data-target=\"push\" href=\"/gen8randombattle-1861403995\"><small>[gen8randombattle]<br/></small> <strong>deftinwolf</strong> vs. <strong>Abbcheese</strong></a></li>\n<h3>3-4 hours ago</h3> <li><a data-target=\"push\" href=\"/gen8randombattle-1861400351\"><small>[gen8randombattle]<br/></small> <strong>Alehh_B</strong> vs. <strong>Hidrosortgaming</strong></a></li>\n<li><a data-target=\"push\" href=\"/gen8randombattle-1861387217\"><small>[gen8randombattle]<br/></small> <strong>lauda Mera</strong> vs. <strong>zeraora emo</strong></a></li>\n<li><a data-target=\"push\" href=\"/gen8randombattle-1861382720\"><small>[gen8randombattle]<br/></small> <strong>AdmiralLonghorn</strong> vs. <strong>odakanai</strong></a></li>\n<li><a data-target=\"push\" href=\"/gen8randombattle-1861381563\"><small>[gen8randombattle]<br/></small> <strong>lauda Mera</strong> vs. <strong>Zanny15</strong></a></li>\n<li><a data-target=\"push\" href=\"/gen8randombattle-1861376758\"><small>[gen8randombattle]<br/></small> <strong>lauda Mera</strong> vs. <strong>RealOat</strong></a></li>\n<li><a data-target=\"push\" href=\"/gen8randombattle-1861374014\"><small>[gen8randombattle]<br/></small> <strong>lauda Mera</strong> vs. <strong>Domnus285</strong></a></li>\n<li><a data-target=\"push\" href=\"/gen8randombattle-1861372976\"><small>[gen8randombattle]<br/></small> <strong>lauda Mera</strong> vs. <strong>Zanny15</strong></a></li>\n<li><a data-target=\"push\" href=\"/gen8randombattle-1861366825\"><small>[gen8randombattle]<br/></small> <strong>juice2668</strong> vs. <strong>lauda Mera</strong></a></li>\n<h3>4-8 hours ago</h3> <li><a data-target=\"push\" href=\"/gen8randombattle-1861365380\"><small>[gen8randombattle]<br/></small> <strong>Sr1inkyy_</strong> vs. <strong>lauda Mera</strong></a></li>\n<li><a data-target=\"push\" href=\"/gen8randombattle-1861358404\"><small>[gen8randombattle]<br/></small> <strong>baygo0ne</strong> vs. <strong>lauda Mera</strong></a></li>\n<li><a data-target=\"push\" href=\"/gen8randombattle-1861354856\"><small>[gen8randombattle]<br/></small> <strong>lauda Mera</strong> vs. <strong>Freshlycaught</strong></a></li>\n<li><a data-target=\"push\" href=\"/gen8randombattle-1861350527\"><small>[gen8randombattle]<br/></small> <strong>caiopozzobon</strong> vs. <strong>lauda Mera</strong></a></li>\n<li><a data-target=\"push\" href=\"/gen8randombattle-1861348317\"><small>[gen8randombattle]<br/></small> <strong>Avatar Nicki Minaj</strong> vs. <strong>cupcake26</strong></a></li>\n<li><a data-target=\"push\" href=\"/gen8randombattle-1861351098\"><small>[gen8randombattle]<br/></small> <strong>lauda Mera</strong> vs. <strong>Benji43</strong></a></li>\n<li><a data-target=\"push\" href=\"/gen8randombattle-1861349435\"><small>[gen8randombattle]<br/></small> <strong>Trefleuh</strong> vs. <strong>F1.Phoenix</strong></a></li>\n<li><a data-target=\"push\" href=\"/gen8randombattle-1861348629\"><small>[gen8randombattle]<br/></small> <strong>cupcake26</strong> vs. <strong>lauda Mera</strong></a></li>\n<li><a data-target=\"push\" href=\"/gen8randombattle-1861347137\"><small>[gen8randombattle]<br/></small> <strong>lauda Mera</strong> vs. <strong>whogivesadam</strong></a></li>\n<li><a data-target=\"push\" href=\"/gen8randombattle-1861346495\"><small>[gen8randombattle]<br/></small> <strong>CamSoprano</strong> vs. <strong>lauda Mera</strong></a></li>\n<li><a data-target=\"push\" href=\"/gen8randombattle-1861340185\"><small>[gen8randombattle]<br/></small> <strong>lauda Mera</strong> vs. <strong>elduo</strong></a></li>\n<li><a data-target=\"push\" href=\"/gen8randombattle-1861320383\"><small>[gen8randombattle]<br/></small> <strong>BigCheeser3</strong> vs. <strong>Applejuicebruh</strong></a></li>\n<li><a data-target=\"push\" href=\"/gen8randombattle-1861316817\"><small>[gen8randombattle]<br/></small> <strong>ZeekLost</strong> vs. <strong>Applejuicebruh</strong></a></li>\n<li><a data-target=\"push\" href=\"/gen8randombattle-1861270280\"><small>[gen8randombattle]<br/></small> <strong>!ExodusKlop</strong> vs. <strong>!leahsanchez</strong></a></li>\n<li><a data-target=\"push\" href=\"/gen8randombattle-1861259634\"><small>[gen8randombattle]<br/></small> <strong>xxpichu_slayer69xx</strong> vs. <strong>MARMITEWILLY</strong></a></li>\n<li><a data-target=\"push\" href=\"/gen8randombattle-1861252334\"><small>[gen8randombattle]<br/></small> <strong>bbgun11</strong> vs. <strong>bevor</strong></a></li>\n<li><a data-target=\"push\" href=\"/gen8randombattle-1861246059\"><small>[gen8randombattle]<br/></small> <strong>juandalepringle420</strong> vs. <strong>Tenshigo</strong></a></li>\n<li><a data-target=\"push\" href=\"/rom-gen8randombattle-1784183\"><small>[gen8randombattle]<br/></small> <strong>scrools19</strong> vs. <strong>Abyssal Bot</strong></a></li>\n<li><a data-target=\"push\" href=\"/rom-gen8randombattle-1784181\"><small>[gen8randombattle]<br/></small> <strong>scrools19</strong> vs. <strong>Abyssal Bot</strong></a></li>\n<li><a data-target=\"push\" href=\"/rom-gen8randombattle-1784180\"><small>[gen8randombattle]<br/></small> <strong>scrools19</strong> vs. <strong>Abyssal Bot</strong></a></li>\n<li><a data-target=\"push\" href=\"/gen8randombattle-1861219022\"><small>[gen8randombattle]<br/></small> <strong>Hasuinna</strong> vs. <strong>VapidPigeon</strong></a></li>\n<li><a data-target=\"push\" href=\"/gen8randombattle-1861202321\"><small>[gen8randombattle]<br/></small> <strong>parshuisa</strong> vs. <strong>Themissingpower</strong></a></li>\n<h3>8-12 hours ago</h3> <li><a data-target=\"push\" href=\"/gen8randombattle-1861192036\"><small>[gen8randombattle]<br/></small> <strong>RKDudes</strong> vs. <strong>Mt. Treverest</strong></a></li>\n<li><a data-target=\"push\" href=\"/gen8randombattle-1861194596\"><small>[gen8randombattle]<br/></small> <strong>ShlokKrules</strong> vs. <strong>manzanita2002</strong></a></li>\n<li><a data-target=\"push\" href=\"/gen8randombattle-1861191287\"><small>[gen8randombattle]<br/></small> <strong>RKDudes</strong> vs. <strong>Victorstark</strong></a></li>\n<li><a data-target=\"push\" href=\"/gen8randombattle-1861184881\"><small>[gen8randombattle]<br/></small> <strong>hdeemrd</strong> vs. <strong>LuisFGR</strong></a></li>\n<li><a data-target=\"push\" href=\"/gen8randombattle-1861182020\"><small>[gen8randombattle]<br/></small> <strong>PKMM12121</strong> vs. <strong>Teddiursa Lasso</strong></a></li>\n<li><a data-target=\"push\" href=\"/gen8randombattle-1861173152\"><small>[gen8randombattle]<br/></small> <strong>pizzibarbarodella</strong> vs. <strong>Hasuinna</strong></a></li>\n<li><a data-target=\"push\" href=\"/radicalred-gen8randombattle-474151\"><small>[gen8randombattle]<br/></small> <strong>elitherebel</strong> vs. <strong>PedroMELXD</strong></a></li>\n<li><a data-target=\"push\" href=\"/gen8randombattle-1861134837\"><small>[gen8randombattle]<br/></small> <strong>GamerGridd</strong> vs. <strong>illianes</strong></a></li>\n<li><a data-target=\"push\" href=\"/gen8randombattle-1861077358\"><small>[gen8randombattle]<br/></small> <strong>N0VAgenesis</strong> vs. <strong>Jgsohf</strong></a></li>\n</ul>\n<p style=\"text-align: center\"><button class=\"button\" data-format=\"gen8randombattle\" data-private=\"\" data-user=\"\" name=\"moreResults\" value=\"\">More<br/><i class=\"fa fa-caret-down\"></i></button></p>\n</div></div><div></div>\n<script src=\"//play.pokemonshowdown.com/js/lib/jquery-1.11.0.min.js?8fc25e27\"></script>\n<script src=\"//play.pokemonshowdown.com/js/lib/lodash.core.js?e9be4c2d\"></script>\n<script src=\"//play.pokemonshowdown.com/js/lib/backbone.js?8a8d8296\"></script>\n<script src=\"//dex.pokemonshowdown.com/js/panels.js?0.9851114083345553\"></script>\n<script src=\"//play.pokemonshowdown.com/js/lib/jquery-cookie.js?38477214\"></script>\n<script src=\"//play.pokemonshowdown.com/js/lib/html-sanitizer-minified.js?949c4200\"></script>\n<script src=\"//play.pokemonshowdown.com/js/battle-sound.js?8e5efe0f\"></script>\n<script src=\"//play.pokemonshowdown.com/config/config.js?be13b463\"></script>\n<script src=\"//play.pokemonshowdown.com/js/battledata.js?3362ddb4\"></script>\n<script src=\"//play.pokemonshowdown.com/data/pokedex-mini.js?e27ee230\"></script>\n<script src=\"//play.pokemonshowdown.com/data/pokedex-mini-bw.js?c3dd6385\"></script>\n<script src=\"//play.pokemonshowdown.com/data/graphics.js?f8610c3f\"></script>\n<script src=\"//play.pokemonshowdown.com/data/pokedex.js?d51187d0\"></script>\n<script src=\"//play.pokemonshowdown.com/data/items.js?bfadfac0\"></script>\n<script src=\"//play.pokemonshowdown.com/data/moves.js?e95c4a7a\"></script>\n<script src=\"//play.pokemonshowdown.com/data/abilities.js?b4a2cc7a\"></script>\n<script src=\"//play.pokemonshowdown.com/data/teambuilder-tables.js?16c5d980\"></script>\n<script src=\"//play.pokemonshowdown.com/js/battle-tooltips.js?5b09e2d2\"></script>\n<script src=\"//play.pokemonshowdown.com/js/battle.js?ce8e6dfb\"></script>\n<script src=\"/js/replay.js?1e09ceb9\"></script>\n</body></html>"
     },
     "execution_count": 24,
     "metadata": {},
     "output_type": "execute_result"
    }
   ],
   "source": [
    "soup"
   ],
   "metadata": {
    "collapsed": false,
    "ExecuteTime": {
     "end_time": "2023-05-11T19:31:27.550332Z",
     "start_time": "2023-05-11T19:31:27.536270Z"
    }
   }
  },
  {
   "cell_type": "code",
   "execution_count": 25,
   "outputs": [
    {
     "ename": "IndexError",
     "evalue": "list index out of range",
     "output_type": "error",
     "traceback": [
      "\u001B[0;31m---------------------------------------------------------------------------\u001B[0m",
      "\u001B[0;31mIndexError\u001B[0m                                Traceback (most recent call last)",
      "Cell \u001B[0;32mIn[25], line 2\u001B[0m\n\u001B[1;32m      1\u001B[0m divs \u001B[38;5;241m=\u001B[39m soup\u001B[38;5;241m.\u001B[39mfind_all(\u001B[38;5;124m\"\u001B[39m\u001B[38;5;124mul\u001B[39m\u001B[38;5;124m\"\u001B[39m, {\u001B[38;5;124m\"\u001B[39m\u001B[38;5;124mclass\u001B[39m\u001B[38;5;124m\"\u001B[39m: \u001B[38;5;124m\"\u001B[39m\u001B[38;5;124mlinklist\u001B[39m\u001B[38;5;124m\"\u001B[39m, \u001B[38;5;124m\"\u001B[39m\u001B[38;5;124mstyle\u001B[39m\u001B[38;5;124m\"\u001B[39m: \u001B[38;5;124m\"\u001B[39m\u001B[38;5;124mmax-width:480px;margin:0 auto;text-align:center\u001B[39m\u001B[38;5;124m\"\u001B[39m})\n\u001B[0;32m----> 2\u001B[0m \u001B[43mdivs\u001B[49m\u001B[43m[\u001B[49m\u001B[38;5;241;43m1\u001B[39;49m\u001B[43m]\u001B[49m\n",
      "\u001B[0;31mIndexError\u001B[0m: list index out of range"
     ]
    }
   ],
   "source": [
    "divs = soup.find_all(\"ul\", {\"class\": \"linklist\", \"style\": \"max-width:480px;margin:0 auto;text-align:center\"})\n",
    "divs[1]"
   ],
   "metadata": {
    "collapsed": false,
    "ExecuteTime": {
     "end_time": "2023-05-11T19:31:27.622802Z",
     "start_time": "2023-05-11T19:31:27.557526Z"
    }
   }
>>>>>>> c36b892a6ea8e428ad0d99f735bc6547e756a4e0
  }
 ],
 "metadata": {
  "kernelspec": {
   "display_name": "Python 3",
   "language": "python",
   "name": "python3"
  },
  "language_info": {
   "codemirror_mode": {
    "name": "ipython",
    "version": 3
   },
   "file_extension": ".py",
   "mimetype": "text/x-python",
   "name": "python",
   "nbconvert_exporter": "python",
   "pygments_lexer": "ipython3",
   "version": "3.11.2"
  }
 },
 "nbformat": 4,
 "nbformat_minor": 0
}
