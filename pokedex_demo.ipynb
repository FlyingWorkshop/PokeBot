{
 "cells": [
  {
   "cell_type": "code",
   "execution_count": 5,
   "metadata": {
    "collapsed": true,
    "ExecuteTime": {
     "end_time": "2023-05-17T23:40:27.960175Z",
     "start_time": "2023-05-17T23:40:27.949710Z"
    }
   },
   "outputs": [],
   "source": [
    "import json\n",
    "from pathlib import Path\n",
    "from tqdm.auto import tqdm"
   ]
  },
  {
   "cell_type": "code",
   "execution_count": 8,
   "outputs": [
    {
     "data": {
      "text/plain": "  0%|          | 0/2 [00:00<?, ?it/s]",
      "application/vnd.jupyter.widget-view+json": {
       "version_major": 2,
       "version_minor": 0,
       "model_id": "e288aa0d837c45d1a419d38d34154fd1"
      }
     },
     "metadata": {},
     "output_type": "display_data"
    }
   ],
   "source": [
    "# Initialize an empty dictionary to store the merged data\n",
    "pokedex = {}\n",
    "\n",
    "# Load and merge the dictionaries\n",
    "for file in tqdm(list(Path(\"cache/teams\").iterdir())):\n",
    "    with open(file, 'r') as f:\n",
    "        data = json.load(f)\n",
    "        pokedex.update(data)"
   ],
   "metadata": {
    "collapsed": false,
    "ExecuteTime": {
     "end_time": "2023-05-17T23:42:06.530503Z",
     "start_time": "2023-05-17T23:42:06.501698Z"
    }
   }
  },
  {
   "cell_type": "code",
   "execution_count": 17,
   "outputs": [],
   "source": [
    "max_pokemon = \"\"\n",
    "max_roles = 0\n",
    "for pokemon, roles in pokedex.items():\n",
    "    if len(roles) > max_roles:\n",
    "        max_pokemon = pokemon\n",
    "        max_roles = len(roles)"
   ],
   "metadata": {
    "collapsed": false,
    "ExecuteTime": {
     "end_time": "2023-05-17T23:47:57.595230Z",
     "start_time": "2023-05-17T23:47:57.590510Z"
    }
   }
  },
  {
   "cell_type": "code",
   "execution_count": 18,
   "outputs": [
    {
     "data": {
      "text/plain": "'Accelgor'"
     },
     "execution_count": 18,
     "metadata": {},
     "output_type": "execute_result"
    }
   ],
   "source": [
    "max_pokemon"
   ],
   "metadata": {
    "collapsed": false,
    "ExecuteTime": {
     "end_time": "2023-05-17T23:48:01.397992Z",
     "start_time": "2023-05-17T23:48:01.392205Z"
    }
   }
  },
  {
   "cell_type": "code",
   "execution_count": 19,
   "outputs": [
    {
     "data": {
      "text/plain": "{'level': 86,\n 'abilities': {'Sticky Hold': 1},\n 'items': {'Heavy-Duty Boots': 0.7319,\n  'Focus Sash': 0.1677,\n  'Choice Specs': 0.0366,\n  'Life Orb': 0.0346,\n  'Leftovers': 0.0293},\n 'moves': {'Bug Buzz': 1,\n  'Toxic': 0.6487,\n  'Sludge Bomb': 0.5602,\n  'Focus Blast': 0.5429,\n  'Spikes': 0.5216,\n  'Energy Ball': 0.5203,\n  'Yawn': 0.2063},\n 'evs': {'atk': 0},\n 'ivs': {'atk': 0}}"
     },
     "execution_count": 19,
     "metadata": {},
     "output_type": "execute_result"
    }
   ],
   "source": [
    "pokedex[max_pokemon]"
   ],
   "metadata": {
    "collapsed": false,
    "ExecuteTime": {
     "end_time": "2023-05-17T23:48:09.224971Z",
     "start_time": "2023-05-17T23:48:09.218875Z"
    }
   }
  },
  {
   "cell_type": "code",
   "execution_count": null,
   "outputs": [],
   "source": [],
   "metadata": {
    "collapsed": false
   }
  }
 ],
 "metadata": {
  "kernelspec": {
   "display_name": "Python 3",
   "language": "python",
   "name": "python3"
  },
  "language_info": {
   "codemirror_mode": {
    "name": "ipython",
    "version": 2
   },
   "file_extension": ".py",
   "mimetype": "text/x-python",
   "name": "python",
   "nbconvert_exporter": "python",
   "pygments_lexer": "ipython2",
   "version": "2.7.6"
  }
 },
 "nbformat": 4,
 "nbformat_minor": 0
}
