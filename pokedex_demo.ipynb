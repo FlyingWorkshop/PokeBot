{
 "cells": [
  {
   "cell_type": "code",
   "execution_count": 1,
   "metadata": {
    "ExecuteTime": {
     "end_time": "2023-05-17T23:40:27.960175Z",
     "start_time": "2023-05-17T23:40:27.949710Z"
    },
    "collapsed": true
   },
   "outputs": [
    {
     "name": "stderr",
     "output_type": "stream",
     "text": [
      "/Library/Frameworks/Python.framework/Versions/3.11/lib/python3.11/site-packages/tqdm/auto.py:21: TqdmWarning: IProgress not found. Please update jupyter and ipywidgets. See https://ipywidgets.readthedocs.io/en/stable/user_install.html\n",
      "  from .autonotebook import tqdm as notebook_tqdm\n"
     ]
    }
   ],
   "source": [
    "import json\n",
    "from pathlib import Path\n",
    "from tqdm.auto import tqdm"
   ]
  },
  {
   "cell_type": "code",
   "execution_count": 2,
   "metadata": {
    "ExecuteTime": {
     "end_time": "2023-05-17T23:42:06.530503Z",
     "start_time": "2023-05-17T23:42:06.501698Z"
    },
    "collapsed": false
   },
   "outputs": [
    {
     "name": "stderr",
     "output_type": "stream",
     "text": [
      "100%|██████████| 72/72 [00:00<00:00, 846.92it/s]\n"
     ]
    }
   ],
   "source": [
    "# Initialize an empty dictionary to store the merged data\n",
    "pokedex = {}\n",
    "\n",
    "# Load and merge the dictionaries\n",
    "for file in tqdm(list(Path(\"cache/teams\").iterdir())):\n",
    "    with open(file, 'r') as f:\n",
    "        data = json.load(f)\n",
    "        pokedex.update(data)"
   ]
  },
  {
   "cell_type": "code",
   "execution_count": 3,
   "metadata": {
    "ExecuteTime": {
     "end_time": "2023-05-17T23:47:57.595230Z",
     "start_time": "2023-05-17T23:47:57.590510Z"
    },
    "collapsed": false
   },
   "outputs": [],
   "source": [
    "max_pokemon = \"\"\n",
    "max_roles = 0\n",
    "for pokemon, roles in pokedex.items():\n",
    "    if len(roles) > max_roles:\n",
    "        max_pokemon = pokemon\n",
    "        max_roles = len(roles)"
   ]
  },
  {
   "cell_type": "code",
   "execution_count": 4,
   "metadata": {
    "ExecuteTime": {
     "end_time": "2023-05-17T23:48:01.397992Z",
     "start_time": "2023-05-17T23:48:01.392205Z"
    },
    "collapsed": false
   },
   "outputs": [
    {
     "data": {
      "text/plain": [
       "'Accelgor'"
      ]
     },
     "execution_count": 4,
     "metadata": {},
     "output_type": "execute_result"
    }
   ],
   "source": [
    "max_pokemon"
   ]
  },
  {
   "cell_type": "code",
   "execution_count": 7,
   "metadata": {
    "ExecuteTime": {
     "end_time": "2023-05-17T23:48:09.224971Z",
     "start_time": "2023-05-17T23:48:09.218875Z"
    },
    "collapsed": false
   },
   "outputs": [
    {
     "data": {
      "text/plain": [
       "{'level': 86,\n",
       " 'abilities': {'Sticky Hold': 1},\n",
       " 'items': {'Heavy-Duty Boots': 0.7319,\n",
       "  'Focus Sash': 0.1677,\n",
       "  'Choice Specs': 0.0366,\n",
       "  'Life Orb': 0.0346,\n",
       "  'Leftovers': 0.0293},\n",
       " 'moves': {'Bug Buzz': 1,\n",
       "  'Toxic': 0.6487,\n",
       "  'Sludge Bomb': 0.5602,\n",
       "  'Focus Blast': 0.5429,\n",
       "  'Spikes': 0.5216,\n",
       "  'Energy Ball': 0.5203,\n",
       "  'Yawn': 0.2063},\n",
       " 'evs': {'atk': 0},\n",
       " 'ivs': {'atk': 0}}"
      ]
     },
     "execution_count": 7,
     "metadata": {},
     "output_type": "execute_result"
    }
   ],
   "source": [
    "pokedex[max_pokemon]"
   ]
  },
  {
   "cell_type": "code",
   "execution_count": null,
   "metadata": {
    "collapsed": false
   },
   "outputs": [],
   "source": []
  }
 ],
 "metadata": {
  "kernelspec": {
   "display_name": "Python 3",
   "language": "python",
   "name": "python3"
  },
  "language_info": {
   "codemirror_mode": {
    "name": "ipython",
    "version": 3
   },
   "file_extension": ".py",
   "mimetype": "text/x-python",
   "name": "python",
   "nbconvert_exporter": "python",
   "pygments_lexer": "ipython3",
   "version": "3.11.2"
  }
 },
 "nbformat": 4,
 "nbformat_minor": 0
}
