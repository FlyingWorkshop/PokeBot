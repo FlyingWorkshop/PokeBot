{
 "cells": [
  {
   "cell_type": "code",
   "execution_count": 29,
   "metadata": {
    "ExecuteTime": {
     "end_time": "2023-05-26T07:59:04.517997Z",
     "start_time": "2023-05-26T07:59:04.498480Z"
    }
   },
   "outputs": [
    {
     "name": "stdout",
     "output_type": "stream",
     "text": [
      "The autoreload extension is already loaded. To reload it, use:\n",
      "  %reload_ext autoreload\n"
     ]
    }
   ],
   "source": [
    "%load_ext autoreload\n",
    "%autoreload 2"
   ]
  },
  {
   "cell_type": "code",
   "execution_count": 33,
   "metadata": {
    "ExecuteTime": {
     "end_time": "2023-05-26T08:12:40.173037Z",
     "start_time": "2023-05-26T08:12:30.174408Z"
    }
   },
   "outputs": [],
   "source": [
    "from alphagogoat.embedder import process_battle\n",
    "from alphagogoat.catalogs import MoveEnum\n",
    "from alphagogoat.delphox import Delphox, train\n",
    "from alphagogoat.constants import LSTM_INPUT_SIZE, LSTM_OUTPUT_SIZE, device\n",
    "\n",
    "from tqdm.auto import tqdm\n",
    "import torch\n",
    "import json\n",
    "from pathlib import Path\n",
    "from joblib import Parallel, delayed"
   ]
  },
  {
   "cell_type": "code",
   "execution_count": 31,
   "metadata": {
    "ExecuteTime": {
     "end_time": "2023-05-26T08:08:55.269797Z",
     "start_time": "2023-05-26T08:08:55.227923Z"
    }
   },
   "outputs": [],
   "source": [
    "def process_input_log(log):\n",
    "    input_log = log['inputlog']\n",
    "    input_log = input_log.split('\\n')\n",
    "    start = 0\n",
    "    for line in input_log:\n",
    "        if line.startswith('>p1'):\n",
    "            break\n",
    "        start += 1\n",
    "\n",
    "    input_log = input_log[start:]\n",
    "    out = []\n",
    "\n",
    "    for i in range(len(input_log) - 1):\n",
    "        curr_line = input_log[i]\n",
    "        next_line = input_log[i+1]\n",
    "        if curr_line.startswith('>p1') and next_line.startswith('>p2'): # that means this is a normal turn with no fainting or anything\n",
    "            out_me = torch.zeros(len(MoveEnum) + 1)\n",
    "            out_them = torch.zeros(len(MoveEnum) + 1)\n",
    "            curr_line = curr_line.split(' ')\n",
    "            next_line = next_line.split(' ')\n",
    "\n",
    "            if curr_line[1] == 'move':\n",
    "                out_me[MoveEnum[curr_line[2].lower()].value - 1] = 1\n",
    "            elif curr_line[1] == 'switch':\n",
    "                out_me[-1] = 1\n",
    "\n",
    "            if next_line[1] == 'move':\n",
    "                out_them[MoveEnum[next_line[2].lower()].value - 1] = 1\n",
    "            elif next_line[1] == 'switch':\n",
    "                out_them[-1] = 1\n",
    "            i += 1\n",
    "            out.append(torch.cat((out_me, out_them)))\n",
    "        else:\n",
    "            continue\n",
    "\n",
    "    return out\n",
    "\n",
    "def make_data(filepath):\n",
    "    battle = process_battle(filepath)\n",
    "    with open(filepath, 'r') as f:\n",
    "        replay = json.load(f)\n",
    "        turn_actions = process_input_log(replay)\n",
    "    k, v = [],[]\n",
    "    for turn, action in zip(battle, turn_actions):\n",
    "        k.append(turn)\n",
    "        v.append(action)\n",
    "    return {tuple(k): tuple(v)}\n",
    "\n",
    "json_files = [filepath for filepath in Path(\"cache/replays\").iterdir() if filepath.name.endswith('.json')]"
   ]
  },
  {
   "cell_type": "code",
   "execution_count": 32,
   "metadata": {
    "ExecuteTime": {
     "end_time": "2023-05-26T08:09:56.965356Z",
     "start_time": "2023-05-26T08:08:55.710787Z"
    }
   },
   "outputs": [
    {
     "data": {
      "application/vnd.jupyter.widget-view+json": {
       "model_id": "42a3f6211e7a4d6bbb0dd58053c919c4",
       "version_major": 2,
       "version_minor": 0
      },
      "text/plain": [
       "  0%|          | 0/145 [00:00<?, ?it/s]"
      ]
     },
     "metadata": {},
     "output_type": "display_data"
    },
    {
     "name": "stderr",
     "output_type": "stream",
     "text": [
      "2023-05-26 01:15:19,320 - poke-env - WARNING - Unmanaged move message format received - cleaned up message ['', 'move', 'p1a: Type: Null', 'Rest', 'p1a: Type: Null', '[from]Sleep Talk'] in battle gen8randombattle-1200357629 turn 14\n",
      "2023-05-26 01:15:20,462 - poke-env - WARNING - Unmanaged move message format received - cleaned up message ['', 'move', 'p1a: Type: Null', 'Crush Claw', 'p2a: Ninetales', '[from]Sleep Talk'] in battle gen8randombattle-1200357629 turn 26\n",
      "2023-05-26 01:15:20,910 - poke-env - WARNING - Unmanaged move message format received - cleaned up message ['', 'move', 'p1a: Type: Null', 'Swords Dance', 'p1a: Type: Null', '[from]Sleep Talk'] in battle gen8randombattle-1200357629 turn 31\n",
      "2023-05-26 01:15:24,350 - poke-env - WARNING - Rating information regarding an unrecognized username received. Received 'kyuremwhite&gt;blick', while only known players are 'darkell8' and 'kyuremwhite>blick'\n"
     ]
    }
   ],
   "source": [
    "results = Parallel(n_jobs=4)(delayed(make_data)(filepath) for filepath in tqdm(json_files))\n",
    "dataset = {}\n",
    "for elem in results:\n",
    "    dataset.update(elem)"
   ]
  },
  {
   "cell_type": "code",
   "execution_count": null,
   "metadata": {},
   "outputs": [],
   "source": [
    "delphox = Delphox(LSTM_INPUT_SIZE, LSTM_OUTPUT_SIZE).to(device=device)\n",
    "train(delphox, dataset)"
   ]
  },
  {
   "cell_type": "code",
   "execution_count": null,
   "metadata": {},
   "outputs": [],
   "source": []
  }
 ],
 "metadata": {
  "kernelspec": {
   "display_name": "Python 3 (ipykernel)",
   "language": "python",
   "name": "python3"
  },
  "language_info": {
   "codemirror_mode": {
    "name": "ipython",
    "version": 3
   },
   "file_extension": ".py",
   "mimetype": "text/x-python",
   "name": "python",
   "nbconvert_exporter": "python",
   "pygments_lexer": "ipython3",
   "version": "3.10.8"
  }
 },
 "nbformat": 4,
 "nbformat_minor": 1
}
