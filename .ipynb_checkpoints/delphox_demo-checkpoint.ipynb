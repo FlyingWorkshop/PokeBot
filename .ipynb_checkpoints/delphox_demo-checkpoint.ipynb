{
 "cells": [
  {
   "cell_type": "code",
   "execution_count": 3,
   "metadata": {
    "is_executing": true
   },
   "outputs": [
    {
     "name": "stdout",
     "output_type": "stream",
     "text": [
      "The autoreload extension is already loaded. To reload it, use:\n",
      "  %reload_ext autoreload\n"
     ]
    }
   ],
   "source": [
    "%load_ext autoreload\n",
    "%autoreload 2"
   ]
  },
  {
   "cell_type": "code",
   "execution_count": 4,
   "metadata": {
    "ExecuteTime": {
     "end_time": "2023-05-22T00:29:03.247364Z",
     "start_time": "2023-05-22T00:29:00.553572Z"
    }
   },
   "outputs": [],
   "source": [
    "from alphagogoat.delphox import Delphox\n",
    "from alphagogoat.utils import DataExtractor\n",
    "from pathlib import Path\n",
    "from tqdm.auto import tqdm\n",
    "from joblib import Parallel, delayed\n",
    "import json\n",
    "import numpy as np"
   ]
  },
  {
   "cell_type": "code",
   "execution_count": 18,
   "metadata": {
    "ExecuteTime": {
     "end_time": "2023-05-22T00:29:46.499633Z",
     "start_time": "2023-05-22T00:29:03.250013Z"
    }
   },
   "outputs": [
    {
     "data": {
      "application/vnd.jupyter.widget-view+json": {
       "model_id": "c6d7e3117d7f44fa9d97f45c71807cae",
       "version_major": 2,
       "version_minor": 0
      },
      "text/plain": [
       "  0%|          | 0/5 [00:00<?, ?it/s]"
      ]
     },
     "metadata": {},
     "output_type": "display_data"
    }
   ],
   "source": [
    "battle_paths = [f\"cache/replays/{file.name}\" for file in Path(\"cache/replays\").iterdir() if file.name.endswith(\".json\")]\n",
    "\n",
    "def get_turns(battle_json_path):\n",
    "    return DataExtractor(battle_json_path)\n",
    "\n",
    "# DEBUGGING\n",
    "battle_paths = battle_paths[:5]\n",
    "extractors = Parallel(n_jobs=4)(delayed(get_turns)(battle_json_path) for battle_json_path in tqdm(battle_paths))"
   ]
  },
  {
   "cell_type": "code",
   "execution_count": 14,
   "metadata": {},
   "outputs": [
    {
     "data": {
      "application/vnd.jupyter.widget-view+json": {
       "model_id": "b29acfb238f249038ebdacf0c904c6be",
       "version_major": 2,
       "version_minor": 0
      },
      "text/plain": [
       "  0%|          | 0/29 [00:00<?, ?it/s]"
      ]
     },
     "metadata": {},
     "output_type": "display_data"
    },
    {
     "data": {
      "application/vnd.jupyter.widget-view+json": {
       "model_id": "084a858a79834654b7f6d55079d1beb7",
       "version_major": 2,
       "version_minor": 0
      },
      "text/plain": [
       "  0%|          | 0/460 [00:00<?, ?it/s]"
      ]
     },
     "metadata": {},
     "output_type": "display_data"
    }
   ],
   "source": [
    "pokedex = {}\n",
    "for filepath in tqdm(list(Path(\"cache/teams\").iterdir())):\n",
    "    with open(filepath, 'r') as f:\n",
    "        data = json.load(f)\n",
    "    for key, value in data.items():\n",
    "        if key not in pokedex:\n",
    "            pokedex[key] = {k: [] for k in value.keys()}\n",
    "        for k, v in value.items():\n",
    "            pokedex[key][k].append(v)\n",
    "\n",
    "for pokemon, dicts in tqdm(pokedex.items()):\n",
    "    pokedex[pokemon]['level'] = int(np.round(np.mean(pokedex[pokemon]['level'])))\n",
    "    for k1 in ['abilities', 'moves', 'items']:\n",
    "        d = {}\n",
    "        if k1 in dicts:\n",
    "            for dict_ in dicts[k1]:\n",
    "                if not isinstance(dict_, dict):\n",
    "                    continue\n",
    "                for k2, prob in dict_.items():\n",
    "                    if k2 not in d:\n",
    "                        d[k2] = []\n",
    "                    d[k2].append(prob)\n",
    "            for k2, probs in d.items():\n",
    "                d[k2] = np.mean(probs)\n",
    "        pokedex[pokemon][k1] = d"
   ]
  },
  {
   "cell_type": "code",
   "execution_count": 15,
   "metadata": {},
   "outputs": [
    {
     "data": {
      "text/plain": [
       "{'level': 92,\n",
       " 'abilities': {'Lightning Rod': 1.0},\n",
       " 'items': {'Light Ball': 1.0},\n",
       " 'moves': {'Volt Tackle': 1.0,\n",
       "  'Volt Switch': 0.7812379310344825,\n",
       "  'Surf': 0.7469724137931036,\n",
       "  'Knock Off': 0.7469655172413794,\n",
       "  'Iron Tail': 0.7248241379310345}}"
      ]
     },
     "execution_count": 15,
     "metadata": {},
     "output_type": "execute_result"
    }
   ],
   "source": [
    "pokedex['Pikachu']"
   ]
  },
  {
   "cell_type": "code",
   "execution_count": 16,
   "metadata": {},
   "outputs": [
    {
     "name": "stdout",
     "output_type": "stream",
     "text": [
      "max_abilities=3\n",
      "max_items=6\n",
      "max_moves=8\n"
     ]
    }
   ],
   "source": [
    "max_abilities = 0\n",
    "max_items = 0\n",
    "max_moves = 0\n",
    "for pokemon, data in pokedex.items():\n",
    "    max_abilities = max(len(data['abilities']), max_abilities)\n",
    "    max_moves = max(len(data['moves']), max_moves)\n",
    "    max_items = max(len(data['items']), max_items)\n",
    "print(f\"{max_abilities=}\\n{max_items=}\\n{max_moves=}\")"
   ]
  },
  {
   "cell_type": "code",
   "execution_count": 32,
   "metadata": {},
   "outputs": [
    {
     "name": "stdout",
     "output_type": "stream",
     "text": [
      "successfully extracted all features\n",
      "tensor([0., 0., 0.,  ..., 0., 0., 0.])\n"
     ]
    }
   ],
   "source": [
    "turns = extractors[0].turns\n",
    "extractor = extractors[0]\n",
    "print(extractor.embed(turns[-1]))"
   ]
  },
  {
   "cell_type": "code",
   "execution_count": null,
   "metadata": {},
   "outputs": [],
   "source": []
  }
 ],
 "metadata": {
  "kernelspec": {
   "display_name": "Python 3 (ipykernel)",
   "language": "python",
   "name": "python3"
  },
  "language_info": {
   "codemirror_mode": {
    "name": "ipython",
    "version": 3
   },
   "file_extension": ".py",
   "mimetype": "text/x-python",
   "name": "python",
   "nbconvert_exporter": "python",
   "pygments_lexer": "ipython3",
   "version": "3.10.8"
  }
 },
 "nbformat": 4,
 "nbformat_minor": 1
}
