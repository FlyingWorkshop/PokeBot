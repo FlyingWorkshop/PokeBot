{
 "cells": [
  {
   "cell_type": "code",
   "execution_count": 1,
   "metadata": {
    "collapsed": true,
    "ExecuteTime": {
     "end_time": "2023-05-26T08:49:13.367015Z",
     "start_time": "2023-05-26T08:49:13.344321Z"
    }
   },
   "outputs": [],
   "source": [
    "%load_ext autoreload\n",
    "%autoreload 2"
   ]
  },
  {
   "cell_type": "code",
   "execution_count": 8,
   "outputs": [],
   "source": [
    "from alphagogoat.embedder import process_battle, get_team_histories\n",
    "from alphagogoat.catalogs import MoveEnum\n",
    "from alphagogoat.delphox import Delphox, train\n",
    "from alphagogoat.constants import LSTM_INPUT_SIZE, LSTM_OUTPUT_SIZE, device\n",
    "\n",
    "\n",
    "from poke_env.environment.battle import Battle\n",
    "from tqdm.auto import tqdm\n",
    "import torch\n",
    "\n",
    "import json\n",
    "import logging\n",
    "from copy import deepcopy\n",
    "from pathlib import Path\n",
    "from joblib import Parallel, delayed\n",
    "\n",
    "\n",
    "LOGGER = logging.getLogger('poke-env')"
   ],
   "metadata": {
    "collapsed": false,
    "ExecuteTime": {
     "end_time": "2023-05-26T08:54:16.994494Z",
     "start_time": "2023-05-26T08:54:16.960005Z"
    }
   }
  },
  {
   "cell_type": "code",
   "execution_count": 47,
   "outputs": [],
   "source": [
    "def process_input_log(log):\n",
    "    input_log = log['inputlog']\n",
    "    input_log = input_log.split('\\n')\n",
    "    start = 0\n",
    "    for line in input_log:\n",
    "        if line.startswith('>p1'):\n",
    "            break\n",
    "        start += 1\n",
    "\n",
    "    input_log = input_log[start:]\n",
    "    out = []\n",
    "\n",
    "    for i in range(len(input_log) - 1):\n",
    "        curr_line = input_log[i]\n",
    "        next_line = input_log[i+1]\n",
    "        if curr_line.startswith('>p1') and next_line.startswith('>p2'): # that means this is a normal turn with no fainting or anything\n",
    "            out_me = torch.zeros(len(MoveEnum) + 1)\n",
    "            out_them = torch.zeros(len(MoveEnum) + 1)\n",
    "            curr_line = curr_line.split(' ')\n",
    "            next_line = next_line.split(' ')\n",
    "\n",
    "            if curr_line[1] == 'move':\n",
    "                out_me[MoveEnum[curr_line[2].lower()].value - 1] = 1\n",
    "            elif curr_line[1] == 'switch':\n",
    "                out_me[-1] = 1\n",
    "\n",
    "            if next_line[1] == 'move':\n",
    "                out_them[MoveEnum[next_line[2].lower()].value - 1] = 1\n",
    "            elif next_line[1] == 'switch':\n",
    "                out_them[-1] = 1\n",
    "            i += 1\n",
    "            out.append(torch.cat((out_me, out_them)))\n",
    "        else:\n",
    "            continue\n",
    "\n",
    "    return out\n",
    "\n",
    "def make_data(filepath):\n",
    "    with open(filepath) as f:\n",
    "        replay = json.load(f)\n",
    "    history = replay['log'].split('\\n')\n",
    "    battles = []\n",
    "    b = Battle(replay['id'], replay['p1'], LOGGER, 8)\n",
    "    b._opponent_username = replay['p2']\n",
    "    for line in history:\n",
    "        try:\n",
    "            b._parse_message(line.split('|'))\n",
    "            if line.split('|')[1] == 'turn':\n",
    "                battles.append(deepcopy(b))\n",
    "        except:\n",
    "            continue\n",
    "    turn_actions = process_input_log(replay)\n",
    "    h1, h2 = get_team_histories(battles)\n",
    "    return h1, h2, turn_actions"
   ],
   "metadata": {
    "collapsed": false,
    "ExecuteTime": {
     "end_time": "2023-05-26T09:18:07.358117Z",
     "start_time": "2023-05-26T09:18:07.321064Z"
    }
   }
  },
  {
   "cell_type": "code",
   "execution_count": 48,
   "outputs": [
    {
     "data": {
      "text/plain": "  0%|          | 0/145 [00:00<?, ?it/s]",
      "application/vnd.jupyter.widget-view+json": {
       "version_major": 2,
       "version_minor": 0,
       "model_id": "6f831e2f04314ac1b6046d38611832bc"
      }
     },
     "metadata": {},
     "output_type": "display_data"
    },
    {
     "name": "stderr",
     "output_type": "stream",
     "text": [
      "2023-05-26 02:18:08,143 - poke-env - WARNING - Unmanaged move message format received - cleaned up message ['', 'move', 'p1a: Type: Null', 'Rest', 'p1a: Type: Null', '[from]Sleep Talk'] in battle gen8randombattle-1200357629 turn 14\n",
      "2023-05-26 02:18:08,144 - poke-env - WARNING - Unmanaged move message format received - cleaned up message ['', 'move', 'p1a: Type: Null', 'Crush Claw', 'p2a: Ninetales', '[from]Sleep Talk'] in battle gen8randombattle-1200357629 turn 26\n",
      "2023-05-26 02:18:08,144 - poke-env - WARNING - Unmanaged move message format received - cleaned up message ['', 'move', 'p1a: Type: Null', 'Swords Dance', 'p1a: Type: Null', '[from]Sleep Talk'] in battle gen8randombattle-1200357629 turn 31\n",
      "2023-05-26 02:18:08,147 - poke-env - WARNING - Rating information regarding an unrecognized username received. Received 'kyuremwhite&gt;blick', while only known players are 'darkell8' and 'kyuremwhite>blick'\n"
     ]
    }
   ],
   "source": [
    "json_files = [filepath for filepath in Path(\"cache/replays\").iterdir() if filepath.name.endswith('.json')]\n",
    "dataset = Parallel(n_jobs=4)(delayed(make_data)(filepath) for filepath in tqdm(json_files))"
   ],
   "metadata": {
    "collapsed": false,
    "ExecuteTime": {
     "end_time": "2023-05-26T09:18:08.195314Z",
     "start_time": "2023-05-26T09:18:07.941881Z"
    }
   }
  },
  {
   "cell_type": "code",
   "execution_count": 45,
   "outputs": [
    {
     "data": {
      "text/plain": "[[], []]"
     },
     "execution_count": 45,
     "metadata": {},
     "output_type": "execute_result"
    }
   ],
   "source": [
    "dataset[0]"
   ],
   "metadata": {
    "collapsed": false,
    "ExecuteTime": {
     "end_time": "2023-05-26T09:13:47.125208Z",
     "start_time": "2023-05-26T09:13:47.086828Z"
    }
   }
  },
  {
   "cell_type": "code",
   "execution_count": null,
   "outputs": [],
   "source": [
    "delphox = Delphox(LSTM_INPUT_SIZE, LSTM_OUTPUT_SIZE).to(device=device)\n",
    "train(delphox, dataset)"
   ],
   "metadata": {
    "collapsed": false
   }
  },
  {
   "cell_type": "code",
   "execution_count": null,
   "outputs": [],
   "source": [],
   "metadata": {
    "collapsed": false
   }
  }
 ],
 "metadata": {
  "kernelspec": {
   "display_name": "Python 3",
   "language": "python",
   "name": "python3"
  },
  "language_info": {
   "codemirror_mode": {
    "name": "ipython",
    "version": 2
   },
   "file_extension": ".py",
   "mimetype": "text/x-python",
   "name": "python",
   "nbconvert_exporter": "python",
   "pygments_lexer": "ipython2",
   "version": "2.7.6"
  }
 },
 "nbformat": 4,
 "nbformat_minor": 0
}
