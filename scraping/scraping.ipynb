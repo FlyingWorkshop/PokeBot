{
 "cells": [
  {
   "cell_type": "code",
   "execution_count": null,
   "metadata": {
    "collapsed": true
   },
   "outputs": [],
   "source": [
    "import json\n",
    "import re\n",
    "import time\n",
    "from pathlib import Path\n",
    "from tqdm.auto import tqdm\n",
    "\n",
    "import requests\n",
    "from selenium import webdriver\n",
    "from selenium.webdriver.common.by import By"
   ]
  },
  {
   "cell_type": "code",
   "execution_count": null,
   "outputs": [
    {
     "ename": "NameError",
     "evalue": "name 'webdriver' is not defined",
     "output_type": "error",
     "traceback": [
      "\u001B[0;31m---------------------------------------------------------------------------\u001B[0m",
      "\u001B[0;31mNameError\u001B[0m                                 Traceback (most recent call last)",
      "Cell \u001B[0;32mIn[1], line 3\u001B[0m\n\u001B[1;32m      1\u001B[0m \u001B[38;5;66;03m# get replay website HTML\u001B[39;00m\n\u001B[1;32m      2\u001B[0m replays_url \u001B[38;5;241m=\u001B[39m \u001B[38;5;124m\"\u001B[39m\u001B[38;5;124mhttps://replay.pokemonshowdown.com/\u001B[39m\u001B[38;5;124m\"\u001B[39m\n\u001B[0;32m----> 3\u001B[0m driver \u001B[38;5;241m=\u001B[39m \u001B[43mwebdriver\u001B[49m\u001B[38;5;241m.\u001B[39mChrome()\n\u001B[1;32m      4\u001B[0m driver\u001B[38;5;241m.\u001B[39mget(replays_url)\n\u001B[1;32m      5\u001B[0m text_box \u001B[38;5;241m=\u001B[39m driver\u001B[38;5;241m.\u001B[39mfind_element(by\u001B[38;5;241m=\u001B[39mBy\u001B[38;5;241m.\u001B[39mNAME, value\u001B[38;5;241m=\u001B[39m\u001B[38;5;124m\"\u001B[39m\u001B[38;5;124mformat\u001B[39m\u001B[38;5;124m\"\u001B[39m)\n",
      "\u001B[0;31mNameError\u001B[0m: name 'webdriver' is not defined"
     ]
    }
   ],
   "source": [
    "# get replay website HTML\n",
    "replays_url = \"https://replay.pokemonshowdown.com/\"\n",
    "driver = webdriver.Chrome()\n",
    "driver.get(replays_url)\n",
    "text_box = driver.find_element(by=By.NAME, value=\"format\")\n",
    "submit_button = driver.find_elements(by=By.CSS_SELECTOR, value=\"body > div.pfx-panel > div > form:nth-child(5) > p > button\")[0]\n",
    "text_box.send_keys(\"gen8randombattle\")\n",
    "submit_button.click()\n",
    "time.sleep(0.5)\n",
    "html = driver.page_source\n",
    "driver.close()\n",
    "\n",
    "# make cache directory if none exists yet\n",
    "path = Path(\"../cache/replays/\")\n",
    "path.mkdir(parents=True, exist_ok=True)\n",
    "\n",
    "# cache logs and jsons\n",
    "for m in tqdm(re.findall(r'href=\"(\\/gen8randombattle-\\d+)\"', html)):\n",
    "    url = f\"https://replay.pokemonshowdown.com{m}\"\n",
    "\n",
    "    # cache .log\n",
    "    path = Path(f\"../cache/replays{m}.log\")\n",
    "    if not path.exists():\n",
    "        log = requests.get(url + \".log\").text\n",
    "        with open(path, \"x\") as f:\n",
    "            f.write(log)\n",
    "\n",
    "    # cache .json\n",
    "    path = Path(f\"../cache/replays{m}.json\")\n",
    "    if not path.exists():\n",
    "        response = requests.get(url + \".json\")\n",
    "        data = response.json()\n",
    "        with open(path, \"x\") as f:\n",
    "            json.dump(data, f)"
   ],
   "metadata": {
    "collapsed": false,
    "ExecuteTime": {
     "end_time": "2023-05-16T18:03:27.828443Z",
     "start_time": "2023-05-16T18:03:27.556665Z"
    }
   }
  }
 ],
 "metadata": {
  "kernelspec": {
   "display_name": "Python 3",
   "language": "python",
   "name": "python3"
  },
  "language_info": {
   "codemirror_mode": {
    "name": "ipython",
    "version": 2
   },
   "file_extension": ".py",
   "mimetype": "text/x-python",
   "name": "python",
   "nbconvert_exporter": "python",
   "pygments_lexer": "ipython2",
   "version": "2.7.6"
  }
 },
 "nbformat": 4,
 "nbformat_minor": 0
}
