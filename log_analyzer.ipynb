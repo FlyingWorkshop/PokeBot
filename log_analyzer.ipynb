{
 "cells": [
  {
   "cell_type": "code",
   "execution_count": 10,
   "metadata": {
    "collapsed": true,
    "ExecuteTime": {
     "start_time": "2023-04-26T18:43:47.740983Z",
     "end_time": "2023-04-26T18:43:47.745895Z"
    }
   },
   "outputs": [],
   "source": [
    "from pathlib import Path\n",
    "import re"
   ]
  },
  {
   "cell_type": "code",
   "execution_count": 15,
   "outputs": [
    {
     "name": "stdout",
     "output_type": "stream",
     "text": [
      "{'Milotic': {}, 'Lapras': {}, 'Victreebel': {}, 'Breloom': {}, 'Swampert': {}, 'Hariyama': {}}\n",
      "{'Milotic': {}, 'Patrat': {}, 'Swalot': {}, 'Rotom': {}, 'Wobbuffet': {}, 'Machamp': {}}\n"
     ]
    }
   ],
   "source": [
    "team1 = {}\n",
    "team2 = {}\n",
    "\n",
    "with open(\"battles.txt\") as f:\n",
    "    for line in f.readlines():\n",
    "        line = line.strip()\n",
    "        match = re.search(r\"\\|poke\\|p[12]\\|(\\w+)\", line)\n",
    "        if match:\n",
    "            pokemon = match.group(1)\n",
    "            if len(team1) < 6:\n",
    "                team1[pokemon] = {}\n",
    "            else:\n",
    "                team2[pokemon] = {}\n",
    "\n",
    "print(team1)\n",
    "print(team2)"
   ],
   "metadata": {
    "collapsed": false,
    "ExecuteTime": {
     "start_time": "2023-04-26T18:49:15.743393Z",
     "end_time": "2023-04-26T18:49:15.753314Z"
    }
   }
  }
 ],
 "metadata": {
  "kernelspec": {
   "display_name": "Python 3",
   "language": "python",
   "name": "python3"
  },
  "language_info": {
   "codemirror_mode": {
    "name": "ipython",
    "version": 2
   },
   "file_extension": ".py",
   "mimetype": "text/x-python",
   "name": "python",
   "nbconvert_exporter": "python",
   "pygments_lexer": "ipython2",
   "version": "2.7.6"
  }
 },
 "nbformat": 4,
 "nbformat_minor": 0
}
